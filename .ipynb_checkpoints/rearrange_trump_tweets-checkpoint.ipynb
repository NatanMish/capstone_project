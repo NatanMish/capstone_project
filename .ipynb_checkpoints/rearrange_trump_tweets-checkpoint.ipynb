{
 "cells": [
  {
   "cell_type": "code",
   "execution_count": 11,
   "metadata": {},
   "outputs": [],
   "source": [
    "import pandas as pd"
   ]
  },
  {
   "cell_type": "code",
   "execution_count": 138,
   "metadata": {},
   "outputs": [],
   "source": [
    "import ndjson\n",
    "\n",
    "with open('realdonaldtrump.ndjson') as f:\n",
    "    data = ndjson.load(f)"
   ]
  },
  {
   "cell_type": "code",
   "execution_count": 139,
   "metadata": {},
   "outputs": [],
   "source": [
    "df=pd.DataFrame(data)"
   ]
  },
  {
   "cell_type": "code",
   "execution_count": 140,
   "metadata": {},
   "outputs": [
    {
     "name": "stdout",
     "output_type": "stream",
     "text": [
      "40241\n"
     ]
    }
   ],
   "source": [
    "print(len(df.drop_duplicates('id')))"
   ]
  },
  {
   "cell_type": "code",
   "execution_count": 141,
   "metadata": {},
   "outputs": [],
   "source": [
    "df2=pd.read_csv('tweets_from_trumptweetssite.csv')"
   ]
  },
  {
   "cell_type": "code",
   "execution_count": 117,
   "metadata": {},
   "outputs": [
    {
     "data": {
      "text/plain": [
       "0        1205150488280350720\n",
       "1        1205134155853574144\n",
       "2        1205132856135168000\n",
       "3        1205132201534377984\n",
       "4        1205128914571603968\n",
       "                ...         \n",
       "40686             1773561338\n",
       "40687             1741160716\n",
       "40688             1737479987\n",
       "40689             1701461182\n",
       "40690             1698308935\n",
       "Name: id_str, Length: 40626, dtype: int64"
      ]
     },
     "execution_count": 117,
     "metadata": {},
     "output_type": "execute_result"
    }
   ],
   "source": [
    "df2['id_str']"
   ]
  },
  {
   "cell_type": "code",
   "execution_count": 79,
   "metadata": {},
   "outputs": [],
   "source": [
    "import numpy as np"
   ]
  },
  {
   "cell_type": "code",
   "execution_count": 142,
   "metadata": {},
   "outputs": [],
   "source": [
    "df2.dropna(inplace=True)"
   ]
  },
  {
   "cell_type": "code",
   "execution_count": null,
   "metadata": {},
   "outputs": [],
   "source": []
  },
  {
   "cell_type": "code",
   "execution_count": 143,
   "metadata": {},
   "outputs": [],
   "source": [
    "df2['id_str']=df2['id_str'].astype(np.int64)"
   ]
  },
  {
   "cell_type": "code",
   "execution_count": 144,
   "metadata": {},
   "outputs": [],
   "source": [
    "df=df.merge(df2,left_on='id',right_on='id_str',how='inner')"
   ]
  },
  {
   "cell_type": "code",
   "execution_count": 145,
   "metadata": {},
   "outputs": [
    {
     "data": {
      "text/plain": [
       "24192"
      ]
     },
     "execution_count": 145,
     "metadata": {},
     "output_type": "execute_result"
    }
   ],
   "source": [
    "len(df)"
   ]
  },
  {
   "cell_type": "code",
   "execution_count": 180,
   "metadata": {},
   "outputs": [],
   "source": [
    "df.drop('text_x',1,inplace=True)"
   ]
  },
  {
   "cell_type": "code",
   "execution_count": 189,
   "metadata": {},
   "outputs": [],
   "source": [
    "df.rename(columns={'text_y': 'text'}, inplace=True)"
   ]
  },
  {
   "cell_type": "code",
   "execution_count": 191,
   "metadata": {},
   "outputs": [],
   "source": [
    "df.drop('created_at_x',1,inplace=True)\n",
    "df.rename(columns={'created_at_y': 'created_at_utc'}, inplace=True)"
   ]
  },
  {
   "cell_type": "code",
   "execution_count": 200,
   "metadata": {},
   "outputs": [],
   "source": [
    "df[\"favorite_count\"] = df[[\"favorite_count_x\", \"favorite_count_y\"]].max(axis=1)\n",
    "df.drop([\"favorite_count_x\", \"favorite_count_y\"],1,inplace=True)"
   ]
  },
  {
   "cell_type": "code",
   "execution_count": 203,
   "metadata": {},
   "outputs": [],
   "source": [
    "df.drop(['id_str_x','id_str_y'],1,inplace=True)"
   ]
  },
  {
   "cell_type": "code",
   "execution_count": 209,
   "metadata": {},
   "outputs": [],
   "source": [
    "df.drop(['contributors'],1,inplace=True)"
   ]
  },
  {
   "cell_type": "code",
   "execution_count": 214,
   "metadata": {},
   "outputs": [],
   "source": [
    "df.drop(['favorited'],1,inplace=True)"
   ]
  },
  {
   "cell_type": "code",
   "execution_count": 217,
   "metadata": {},
   "outputs": [],
   "source": [
    "df.drop(['in_reply_to_status_id_str','in_reply_to_user_id_str'],1,inplace=True)"
   ]
  },
  {
   "cell_type": "code",
   "execution_count": 228,
   "metadata": {},
   "outputs": [],
   "source": [
    "df['retrieved_utc']=df['retrieved_utc'].astype(np.int64)"
   ]
  },
  {
   "cell_type": "code",
   "execution_count": 232,
   "metadata": {},
   "outputs": [],
   "source": [
    "df[\"retweet_count\"] = df[[\"retweet_count_x\", \"retweet_count_y\"]].max(axis=1)\n",
    "df.drop([\"retweet_count_x\", \"retweet_count_y\"],1,inplace=True)"
   ]
  },
  {
   "cell_type": "code",
   "execution_count": 236,
   "metadata": {},
   "outputs": [],
   "source": [
    "df.drop(['retweeted'],1,inplace=True)"
   ]
  },
  {
   "cell_type": "code",
   "execution_count": 241,
   "metadata": {},
   "outputs": [],
   "source": [
    "df.drop('source_x',1,inplace=True)\n",
    "df.rename(columns={'source_y': 'source'}, inplace=True)"
   ]
  },
  {
   "cell_type": "code",
   "execution_count": 246,
   "metadata": {},
   "outputs": [
    {
     "name": "stderr",
     "output_type": "stream",
     "text": [
      "C:\\Users\\natan\\Anaconda3\\lib\\site-packages\\ipykernel_launcher.py:1: FutureWarning: The signature of `Series.to_csv` was aligned to that of `DataFrame.to_csv`, and argument 'header' will change its default value from False to True: please pass an explicit value to suppress this warning.\n",
      "  \"\"\"Entry point for launching an IPython kernel.\n"
     ]
    }
   ],
   "source": [
    "df['user'].to_csv('user_column.csv')"
   ]
  },
  {
   "cell_type": "code",
   "execution_count": 261,
   "metadata": {},
   "outputs": [],
   "source": [
    "df.drop([\"user\", \"user1\"],1,inplace=True)"
   ]
  },
  {
   "cell_type": "code",
   "execution_count": 279,
   "metadata": {},
   "outputs": [],
   "source": [
    "df.drop([\"quoted_status_id_str\"],1,inplace=True)"
   ]
  },
  {
   "cell_type": "code",
   "execution_count": 284,
   "metadata": {},
   "outputs": [],
   "source": [
    "df.drop([\"withheld_copyright\"],1,inplace=True)"
   ]
  },
  {
   "cell_type": "code",
   "execution_count": 287,
   "metadata": {},
   "outputs": [],
   "source": [
    "df.drop([\"withheld_in_countries\"],1,inplace=True)"
   ]
  },
  {
   "cell_type": "code",
   "execution_count": 290,
   "metadata": {},
   "outputs": [],
   "source": [
    "df.drop([\"withheld_scope\"],1,inplace=True)"
   ]
  },
  {
   "cell_type": "code",
   "execution_count": 295,
   "metadata": {},
   "outputs": [],
   "source": [
    "df.drop([\"scopes\"],1,inplace=True)"
   ]
  },
  {
   "cell_type": "code",
   "execution_count": 292,
   "metadata": {},
   "outputs": [
    {
     "data": {
      "text/plain": [
       "Index(['coordinates', 'entities', 'geo', 'id', 'in_reply_to_screen_name',\n",
       "       'in_reply_to_status_id', 'in_reply_to_user_id', 'is_quote_status',\n",
       "       'lang', 'place', 'retrieved_utc', 'truncated', 'possibly_sensitive',\n",
       "       'extended_entities', 'quoted_status', 'quoted_status_id',\n",
       "       'retweeted_status', 'scopes', 'source', 'text', 'created_at_utc',\n",
       "       'is_retweet', 'favorite_count', 'retweet_count'],\n",
       "      dtype='object')"
      ]
     },
     "execution_count": 292,
     "metadata": {},
     "output_type": "execute_result"
    }
   ],
   "source": [
    "df.columns"
   ]
  },
  {
   "cell_type": "code",
   "execution_count": null,
   "metadata": {},
   "outputs": [],
   "source": [
    "df['hashtags']=[d.get('hashtags') for d in df['entities']]"
   ]
  },
  {
   "cell_type": "code",
   "execution_count": 316,
   "metadata": {},
   "outputs": [],
   "source": [
    "df['user_mentions']=[d.get('user_mentions') for d in df['entities']]"
   ]
  },
  {
   "cell_type": "code",
   "execution_count": 319,
   "metadata": {},
   "outputs": [],
   "source": [
    "df.drop([\"entities\"],1,inplace=True)"
   ]
  },
  {
   "cell_type": "code",
   "execution_count": 337,
   "metadata": {},
   "outputs": [],
   "source": [
    "temp=[pd.DataFrame(x) for x in df['hashtags']]"
   ]
  },
  {
   "cell_type": "code",
   "execution_count": 361,
   "metadata": {},
   "outputs": [],
   "source": [
    "temp2=[x['text'].to_dict() if len(x)>0 else np.nan for x in temp]"
   ]
  },
  {
   "cell_type": "code",
   "execution_count": 363,
   "metadata": {},
   "outputs": [],
   "source": [
    "df['hashtags']=temp2"
   ]
  },
  {
   "cell_type": "code",
   "execution_count": 365,
   "metadata": {},
   "outputs": [
    {
     "data": {
      "text/plain": [
       "{0: 'Trump2016'}                                292\n",
       "{0: 'MakeAmericaGreatAgain'}                    159\n",
       "{0: 'CelebApprentice'}                          148\n",
       "{0: 'MAGA'}                                      94\n",
       "{0: 'MakeAmericaGreatAgain', 1: 'Trump2016'}     72\n",
       "                                               ... \n",
       "{0: 'BenghaziHearings', 1: 'pathetic'}            1\n",
       "{0: 'almostgraduating'}                           1\n",
       "{0: 'Broward'}                                    1\n",
       "{0: 'Crowd'}                                      1\n",
       "{0: 'NeverTrump'}                                 1\n",
       "Name: hashtags, Length: 1552, dtype: int64"
      ]
     },
     "execution_count": 365,
     "metadata": {},
     "output_type": "execute_result"
    }
   ],
   "source": [
    "df['hashtags'].value_counts()"
   ]
  },
  {
   "cell_type": "code",
   "execution_count": 369,
   "metadata": {},
   "outputs": [],
   "source": [
    "temp=[pd.DataFrame(x) for x in df['user_mentions']]\n",
    "temp2=[x['screen_name'].to_dict() if len(x)>0 else np.nan for x in temp]\n",
    "df['user_mentions']=temp2"
   ]
  },
  {
   "cell_type": "code",
   "execution_count": 370,
   "metadata": {},
   "outputs": [
    {
     "data": {
      "text/plain": [
       "{0: 'realDonaldTrump'}                                        805\n",
       "{0: 'BarackObama'}                                            305\n",
       "{0: 'foxandfriends'}                                          152\n",
       "{0: 'MittRomney'}                                             106\n",
       "{0: 'FoxNews'}                                                 87\n",
       "                                                             ... \n",
       "{0: 'IvankaTrump', 1: 'EricTrump', 2: 'DonaldJTrumpJr'}         1\n",
       "{0: 'PrisonPlanet'}                                             1\n",
       "{0: 'realDonaldTrump', 1: 'gameexpress1'}                       1\n",
       "{0: 'Jmano33', 1: 'realDonaldTrump'}                            1\n",
       "{0: 'vettesetter', 1: 'realDonaldTrump', 2: 'usatopinion'}      1\n",
       "Name: user_mentions, Length: 9137, dtype: int64"
      ]
     },
     "execution_count": 370,
     "metadata": {},
     "output_type": "execute_result"
    }
   ],
   "source": [
    "df['user_mentions'].value_counts()"
   ]
  },
  {
   "cell_type": "code",
   "execution_count": 371,
   "metadata": {},
   "outputs": [],
   "source": [
    "new_tweets=pd.read_csv('tweets_from_trumptweetssite_from100719.csv')"
   ]
  },
  {
   "cell_type": "code",
   "execution_count": 372,
   "metadata": {},
   "outputs": [
    {
     "data": {
      "text/plain": [
       "Index(['source', 'text', 'created_at', 'retweet_count', 'favorite_count',\n",
       "       'is_retweet', 'id_str'],\n",
       "      dtype='object')"
      ]
     },
     "execution_count": 372,
     "metadata": {},
     "output_type": "execute_result"
    }
   ],
   "source": [
    "new_tweets.columns"
   ]
  },
  {
   "cell_type": "code",
   "execution_count": 374,
   "metadata": {},
   "outputs": [
    {
     "data": {
      "text/plain": [
       "Index(['coordinates', 'geo', 'id', 'in_reply_to_screen_name',\n",
       "       'in_reply_to_status_id', 'in_reply_to_user_id', 'is_quote_status',\n",
       "       'lang', 'place', 'retrieved_utc', 'truncated', 'possibly_sensitive',\n",
       "       'extended_entities', 'quoted_status', 'quoted_status_id',\n",
       "       'retweeted_status', 'source', 'text', 'created_at_utc', 'is_retweet',\n",
       "       'favorite_count', 'retweet_count', 'hashtags', 'user_mentions'],\n",
       "      dtype='object')"
      ]
     },
     "execution_count": 374,
     "metadata": {},
     "output_type": "execute_result"
    }
   ],
   "source": [
    "df.columns"
   ]
  },
  {
   "cell_type": "code",
   "execution_count": 377,
   "metadata": {},
   "outputs": [],
   "source": [
    "new_tweets.rename(columns={'created_at': 'created_at_utc','id_str': 'id'}, inplace=True)"
   ]
  },
  {
   "cell_type": "code",
   "execution_count": 385,
   "metadata": {},
   "outputs": [],
   "source": [
    "new_tweets.drop_duplicates('text',inplace=True)"
   ]
  },
  {
   "cell_type": "code",
   "execution_count": 389,
   "metadata": {},
   "outputs": [],
   "source": [
    "df=df.append(new_tweets, ignore_index = True) "
   ]
  },
  {
   "cell_type": "code",
   "execution_count": 396,
   "metadata": {},
   "outputs": [
    {
     "data": {
      "text/plain": [
       "28584"
      ]
     },
     "execution_count": 396,
     "metadata": {},
     "output_type": "execute_result"
    }
   ],
   "source": [
    "len(df.astype(str).drop_duplicates('text'))"
   ]
  },
  {
   "cell_type": "code",
   "execution_count": 397,
   "metadata": {},
   "outputs": [
    {
     "data": {
      "text/plain": [
       "28689"
      ]
     },
     "execution_count": 397,
     "metadata": {},
     "output_type": "execute_result"
    }
   ],
   "source": [
    "len(df)"
   ]
  },
  {
   "cell_type": "code",
   "execution_count": 395,
   "metadata": {},
   "outputs": [],
   "source": [
    "df.to_csv('trump_tweets_reducted.csv')"
   ]
  },
  {
   "cell_type": "code",
   "execution_count": 398,
   "metadata": {},
   "outputs": [
    {
     "data": {
      "text/html": [
       "<div>\n",
       "<style scoped>\n",
       "    .dataframe tbody tr th:only-of-type {\n",
       "        vertical-align: middle;\n",
       "    }\n",
       "\n",
       "    .dataframe tbody tr th {\n",
       "        vertical-align: top;\n",
       "    }\n",
       "\n",
       "    .dataframe thead th {\n",
       "        text-align: right;\n",
       "    }\n",
       "</style>\n",
       "<table border=\"1\" class=\"dataframe\">\n",
       "  <thead>\n",
       "    <tr style=\"text-align: right;\">\n",
       "      <th></th>\n",
       "      <th>coordinates</th>\n",
       "      <th>created_at_utc</th>\n",
       "      <th>extended_entities</th>\n",
       "      <th>favorite_count</th>\n",
       "      <th>geo</th>\n",
       "      <th>hashtags</th>\n",
       "      <th>id</th>\n",
       "      <th>in_reply_to_screen_name</th>\n",
       "      <th>in_reply_to_status_id</th>\n",
       "      <th>in_reply_to_user_id</th>\n",
       "      <th>...</th>\n",
       "      <th>possibly_sensitive</th>\n",
       "      <th>quoted_status</th>\n",
       "      <th>quoted_status_id</th>\n",
       "      <th>retrieved_utc</th>\n",
       "      <th>retweet_count</th>\n",
       "      <th>retweeted_status</th>\n",
       "      <th>source</th>\n",
       "      <th>text</th>\n",
       "      <th>truncated</th>\n",
       "      <th>user_mentions</th>\n",
       "    </tr>\n",
       "  </thead>\n",
       "  <tbody>\n",
       "    <tr>\n",
       "      <th>0</th>\n",
       "      <td>None</td>\n",
       "      <td>05-04-2009 18:54:25</td>\n",
       "      <td>NaN</td>\n",
       "      <td>850</td>\n",
       "      <td>None</td>\n",
       "      <td>NaN</td>\n",
       "      <td>1698308935</td>\n",
       "      <td>None</td>\n",
       "      <td>NaN</td>\n",
       "      <td>NaN</td>\n",
       "      <td>...</td>\n",
       "      <td>NaN</td>\n",
       "      <td>NaN</td>\n",
       "      <td>NaN</td>\n",
       "      <td>1.562867e+09</td>\n",
       "      <td>501.0</td>\n",
       "      <td>NaN</td>\n",
       "      <td>Twitter Web Client</td>\n",
       "      <td>Be sure to tune in and watch Donald Trump on L...</td>\n",
       "      <td>False</td>\n",
       "      <td>NaN</td>\n",
       "    </tr>\n",
       "    <tr>\n",
       "      <th>1</th>\n",
       "      <td>None</td>\n",
       "      <td>05-05-2009 01:00:10</td>\n",
       "      <td>NaN</td>\n",
       "      <td>282</td>\n",
       "      <td>None</td>\n",
       "      <td>NaN</td>\n",
       "      <td>1701461182</td>\n",
       "      <td>None</td>\n",
       "      <td>NaN</td>\n",
       "      <td>NaN</td>\n",
       "      <td>...</td>\n",
       "      <td>NaN</td>\n",
       "      <td>NaN</td>\n",
       "      <td>NaN</td>\n",
       "      <td>1.562867e+09</td>\n",
       "      <td>33.0</td>\n",
       "      <td>NaN</td>\n",
       "      <td>Twitter Web Client</td>\n",
       "      <td>Donald Trump will be appearing on The View tom...</td>\n",
       "      <td>False</td>\n",
       "      <td>NaN</td>\n",
       "    </tr>\n",
       "    <tr>\n",
       "      <th>2</th>\n",
       "      <td>None</td>\n",
       "      <td>05-08-2009 13:38:08</td>\n",
       "      <td>NaN</td>\n",
       "      <td>16</td>\n",
       "      <td>None</td>\n",
       "      <td>NaN</td>\n",
       "      <td>1737479987</td>\n",
       "      <td>None</td>\n",
       "      <td>NaN</td>\n",
       "      <td>NaN</td>\n",
       "      <td>...</td>\n",
       "      <td>NaN</td>\n",
       "      <td>NaN</td>\n",
       "      <td>NaN</td>\n",
       "      <td>1.562867e+09</td>\n",
       "      <td>13.0</td>\n",
       "      <td>NaN</td>\n",
       "      <td>Twitter Web Client</td>\n",
       "      <td>Donald Trump reads Top Ten Financial Tips on L...</td>\n",
       "      <td>False</td>\n",
       "      <td>NaN</td>\n",
       "    </tr>\n",
       "    <tr>\n",
       "      <th>3</th>\n",
       "      <td>None</td>\n",
       "      <td>05-08-2009 20:40:15</td>\n",
       "      <td>NaN</td>\n",
       "      <td>28</td>\n",
       "      <td>None</td>\n",
       "      <td>NaN</td>\n",
       "      <td>1741160716</td>\n",
       "      <td>None</td>\n",
       "      <td>NaN</td>\n",
       "      <td>NaN</td>\n",
       "      <td>...</td>\n",
       "      <td>NaN</td>\n",
       "      <td>NaN</td>\n",
       "      <td>NaN</td>\n",
       "      <td>1.562867e+09</td>\n",
       "      <td>12.0</td>\n",
       "      <td>NaN</td>\n",
       "      <td>Twitter Web Client</td>\n",
       "      <td>New Blog Post: Celebrity Apprentice Finale and...</td>\n",
       "      <td>False</td>\n",
       "      <td>NaN</td>\n",
       "    </tr>\n",
       "    <tr>\n",
       "      <th>4</th>\n",
       "      <td>None</td>\n",
       "      <td>05-12-2009 14:07:28</td>\n",
       "      <td>NaN</td>\n",
       "      <td>1950</td>\n",
       "      <td>None</td>\n",
       "      <td>NaN</td>\n",
       "      <td>1773561338</td>\n",
       "      <td>None</td>\n",
       "      <td>NaN</td>\n",
       "      <td>NaN</td>\n",
       "      <td>...</td>\n",
       "      <td>NaN</td>\n",
       "      <td>NaN</td>\n",
       "      <td>NaN</td>\n",
       "      <td>1.562867e+09</td>\n",
       "      <td>1422.0</td>\n",
       "      <td>NaN</td>\n",
       "      <td>Twitter Web Client</td>\n",
       "      <td>My persona will never be that of a wallflower ...</td>\n",
       "      <td>False</td>\n",
       "      <td>NaN</td>\n",
       "    </tr>\n",
       "    <tr>\n",
       "      <th>...</th>\n",
       "      <td>...</td>\n",
       "      <td>...</td>\n",
       "      <td>...</td>\n",
       "      <td>...</td>\n",
       "      <td>...</td>\n",
       "      <td>...</td>\n",
       "      <td>...</td>\n",
       "      <td>...</td>\n",
       "      <td>...</td>\n",
       "      <td>...</td>\n",
       "      <td>...</td>\n",
       "      <td>...</td>\n",
       "      <td>...</td>\n",
       "      <td>...</td>\n",
       "      <td>...</td>\n",
       "      <td>...</td>\n",
       "      <td>...</td>\n",
       "      <td>...</td>\n",
       "      <td>...</td>\n",
       "      <td>...</td>\n",
       "      <td>...</td>\n",
       "    </tr>\n",
       "    <tr>\n",
       "      <th>28684</th>\n",
       "      <td>NaN</td>\n",
       "      <td>07-10-2019 01:36:14</td>\n",
       "      <td>NaN</td>\n",
       "      <td>68984</td>\n",
       "      <td>NaN</td>\n",
       "      <td>NaN</td>\n",
       "      <td>1148767855351128064</td>\n",
       "      <td>NaN</td>\n",
       "      <td>NaN</td>\n",
       "      <td>NaN</td>\n",
       "      <td>...</td>\n",
       "      <td>NaN</td>\n",
       "      <td>NaN</td>\n",
       "      <td>NaN</td>\n",
       "      <td>NaN</td>\n",
       "      <td>17869.0</td>\n",
       "      <td>NaN</td>\n",
       "      <td>Twitter for iPhone</td>\n",
       "      <td>More and more the Radical Left is using Commer...</td>\n",
       "      <td>NaN</td>\n",
       "      <td>NaN</td>\n",
       "    </tr>\n",
       "    <tr>\n",
       "      <th>28685</th>\n",
       "      <td>NaN</td>\n",
       "      <td>07-10-2019 01:30:08</td>\n",
       "      <td>NaN</td>\n",
       "      <td>95607</td>\n",
       "      <td>NaN</td>\n",
       "      <td>NaN</td>\n",
       "      <td>1148766319640227841</td>\n",
       "      <td>NaN</td>\n",
       "      <td>NaN</td>\n",
       "      <td>NaN</td>\n",
       "      <td>...</td>\n",
       "      <td>NaN</td>\n",
       "      <td>NaN</td>\n",
       "      <td>NaN</td>\n",
       "      <td>NaN</td>\n",
       "      <td>20267.0</td>\n",
       "      <td>NaN</td>\n",
       "      <td>Twitter for iPhone</td>\n",
       "      <td>....to your favorite President me! These peopl...</td>\n",
       "      <td>NaN</td>\n",
       "      <td>NaN</td>\n",
       "    </tr>\n",
       "    <tr>\n",
       "      <th>28686</th>\n",
       "      <td>NaN</td>\n",
       "      <td>07-10-2019 01:30:08</td>\n",
       "      <td>NaN</td>\n",
       "      <td>95930</td>\n",
       "      <td>NaN</td>\n",
       "      <td>NaN</td>\n",
       "      <td>1148766318906281985</td>\n",
       "      <td>NaN</td>\n",
       "      <td>NaN</td>\n",
       "      <td>NaN</td>\n",
       "      <td>...</td>\n",
       "      <td>NaN</td>\n",
       "      <td>NaN</td>\n",
       "      <td>NaN</td>\n",
       "      <td>NaN</td>\n",
       "      <td>21708.0</td>\n",
       "      <td>NaN</td>\n",
       "      <td>Twitter for iPhone</td>\n",
       "      <td>A truly great patriotic &amp;amp; charitable man B...</td>\n",
       "      <td>NaN</td>\n",
       "      <td>NaN</td>\n",
       "    </tr>\n",
       "    <tr>\n",
       "      <th>28687</th>\n",
       "      <td>NaN</td>\n",
       "      <td>07-10-2019 00:13:42</td>\n",
       "      <td>NaN</td>\n",
       "      <td>88969</td>\n",
       "      <td>NaN</td>\n",
       "      <td>NaN</td>\n",
       "      <td>1148747084167831553</td>\n",
       "      <td>NaN</td>\n",
       "      <td>NaN</td>\n",
       "      <td>NaN</td>\n",
       "      <td>...</td>\n",
       "      <td>NaN</td>\n",
       "      <td>NaN</td>\n",
       "      <td>NaN</td>\n",
       "      <td>NaN</td>\n",
       "      <td>17600.0</td>\n",
       "      <td>NaN</td>\n",
       "      <td>Twitter for iPhone</td>\n",
       "      <td>....Why would Kentucky ever think of giving up...</td>\n",
       "      <td>NaN</td>\n",
       "      <td>NaN</td>\n",
       "    </tr>\n",
       "    <tr>\n",
       "      <th>28688</th>\n",
       "      <td>NaN</td>\n",
       "      <td>07-10-2019 00:13:41</td>\n",
       "      <td>NaN</td>\n",
       "      <td>80955</td>\n",
       "      <td>NaN</td>\n",
       "      <td>NaN</td>\n",
       "      <td>1148747083219984384</td>\n",
       "      <td>NaN</td>\n",
       "      <td>NaN</td>\n",
       "      <td>NaN</td>\n",
       "      <td>...</td>\n",
       "      <td>NaN</td>\n",
       "      <td>NaN</td>\n",
       "      <td>NaN</td>\n",
       "      <td>NaN</td>\n",
       "      <td>17081.0</td>\n",
       "      <td>NaN</td>\n",
       "      <td>Twitter for iPhone</td>\n",
       "      <td>Democrats are coming after our great Kentucky ...</td>\n",
       "      <td>NaN</td>\n",
       "      <td>NaN</td>\n",
       "    </tr>\n",
       "  </tbody>\n",
       "</table>\n",
       "<p>28689 rows × 24 columns</p>\n",
       "</div>"
      ],
      "text/plain": [
       "      coordinates       created_at_utc extended_entities  favorite_count  \\\n",
       "0            None  05-04-2009 18:54:25               NaN             850   \n",
       "1            None  05-05-2009 01:00:10               NaN             282   \n",
       "2            None  05-08-2009 13:38:08               NaN              16   \n",
       "3            None  05-08-2009 20:40:15               NaN              28   \n",
       "4            None  05-12-2009 14:07:28               NaN            1950   \n",
       "...           ...                  ...               ...             ...   \n",
       "28684         NaN  07-10-2019 01:36:14               NaN           68984   \n",
       "28685         NaN  07-10-2019 01:30:08               NaN           95607   \n",
       "28686         NaN  07-10-2019 01:30:08               NaN           95930   \n",
       "28687         NaN  07-10-2019 00:13:42               NaN           88969   \n",
       "28688         NaN  07-10-2019 00:13:41               NaN           80955   \n",
       "\n",
       "        geo hashtags                   id in_reply_to_screen_name  \\\n",
       "0      None      NaN           1698308935                    None   \n",
       "1      None      NaN           1701461182                    None   \n",
       "2      None      NaN           1737479987                    None   \n",
       "3      None      NaN           1741160716                    None   \n",
       "4      None      NaN           1773561338                    None   \n",
       "...     ...      ...                  ...                     ...   \n",
       "28684   NaN      NaN  1148767855351128064                     NaN   \n",
       "28685   NaN      NaN  1148766319640227841                     NaN   \n",
       "28686   NaN      NaN  1148766318906281985                     NaN   \n",
       "28687   NaN      NaN  1148747084167831553                     NaN   \n",
       "28688   NaN      NaN  1148747083219984384                     NaN   \n",
       "\n",
       "       in_reply_to_status_id  in_reply_to_user_id  ... possibly_sensitive  \\\n",
       "0                        NaN                  NaN  ...                NaN   \n",
       "1                        NaN                  NaN  ...                NaN   \n",
       "2                        NaN                  NaN  ...                NaN   \n",
       "3                        NaN                  NaN  ...                NaN   \n",
       "4                        NaN                  NaN  ...                NaN   \n",
       "...                      ...                  ...  ...                ...   \n",
       "28684                    NaN                  NaN  ...                NaN   \n",
       "28685                    NaN                  NaN  ...                NaN   \n",
       "28686                    NaN                  NaN  ...                NaN   \n",
       "28687                    NaN                  NaN  ...                NaN   \n",
       "28688                    NaN                  NaN  ...                NaN   \n",
       "\n",
       "      quoted_status quoted_status_id retrieved_utc retweet_count  \\\n",
       "0               NaN              NaN  1.562867e+09         501.0   \n",
       "1               NaN              NaN  1.562867e+09          33.0   \n",
       "2               NaN              NaN  1.562867e+09          13.0   \n",
       "3               NaN              NaN  1.562867e+09          12.0   \n",
       "4               NaN              NaN  1.562867e+09        1422.0   \n",
       "...             ...              ...           ...           ...   \n",
       "28684           NaN              NaN           NaN       17869.0   \n",
       "28685           NaN              NaN           NaN       20267.0   \n",
       "28686           NaN              NaN           NaN       21708.0   \n",
       "28687           NaN              NaN           NaN       17600.0   \n",
       "28688           NaN              NaN           NaN       17081.0   \n",
       "\n",
       "      retweeted_status              source  \\\n",
       "0                  NaN  Twitter Web Client   \n",
       "1                  NaN  Twitter Web Client   \n",
       "2                  NaN  Twitter Web Client   \n",
       "3                  NaN  Twitter Web Client   \n",
       "4                  NaN  Twitter Web Client   \n",
       "...                ...                 ...   \n",
       "28684              NaN  Twitter for iPhone   \n",
       "28685              NaN  Twitter for iPhone   \n",
       "28686              NaN  Twitter for iPhone   \n",
       "28687              NaN  Twitter for iPhone   \n",
       "28688              NaN  Twitter for iPhone   \n",
       "\n",
       "                                                    text  truncated  \\\n",
       "0      Be sure to tune in and watch Donald Trump on L...      False   \n",
       "1      Donald Trump will be appearing on The View tom...      False   \n",
       "2      Donald Trump reads Top Ten Financial Tips on L...      False   \n",
       "3      New Blog Post: Celebrity Apprentice Finale and...      False   \n",
       "4      My persona will never be that of a wallflower ...      False   \n",
       "...                                                  ...        ...   \n",
       "28684  More and more the Radical Left is using Commer...        NaN   \n",
       "28685  ....to your favorite President me! These peopl...        NaN   \n",
       "28686  A truly great patriotic &amp; charitable man B...        NaN   \n",
       "28687  ....Why would Kentucky ever think of giving up...        NaN   \n",
       "28688  Democrats are coming after our great Kentucky ...        NaN   \n",
       "\n",
       "      user_mentions  \n",
       "0               NaN  \n",
       "1               NaN  \n",
       "2               NaN  \n",
       "3               NaN  \n",
       "4               NaN  \n",
       "...             ...  \n",
       "28684           NaN  \n",
       "28685           NaN  \n",
       "28686           NaN  \n",
       "28687           NaN  \n",
       "28688           NaN  \n",
       "\n",
       "[28689 rows x 24 columns]"
      ]
     },
     "execution_count": 398,
     "metadata": {},
     "output_type": "execute_result"
    }
   ],
   "source": [
    "df"
   ]
  },
  {
   "cell_type": "code",
   "execution_count": null,
   "metadata": {},
   "outputs": [],
   "source": []
  }
 ],
 "metadata": {
  "kernelspec": {
   "display_name": "Python 3",
   "language": "python",
   "name": "python3"
  },
  "language_info": {
   "codemirror_mode": {
    "name": "ipython",
    "version": 3
   },
   "file_extension": ".py",
   "mimetype": "text/x-python",
   "name": "python",
   "nbconvert_exporter": "python",
   "pygments_lexer": "ipython3",
   "version": "3.7.1"
  }
 },
 "nbformat": 4,
 "nbformat_minor": 2
}
