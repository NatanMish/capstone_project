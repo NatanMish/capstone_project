{
 "cells": [
  {
   "cell_type": "code",
   "execution_count": 1,
   "metadata": {},
   "outputs": [
    {
     "name": "stderr",
     "output_type": "stream",
     "text": [
      "C:\\Users\\natan\\Anaconda3\\lib\\site-packages\\statsmodels\\compat\\pandas.py:49: FutureWarning: The Panel class is removed from pandas. Accessing it from the top-level namespace will also be removed in the next version\n",
      "  data_klasses = (pandas.Series, pandas.DataFrame, pandas.Panel)\n"
     ]
    }
   ],
   "source": [
    "import pandas as pd\n",
    "import statsmodels.api as sm\n",
    "import numpy as np\n",
    "import time"
   ]
  },
  {
   "cell_type": "code",
   "execution_count": 151,
   "metadata": {},
   "outputs": [],
   "source": [
    "df=pd.read_csv('twitter_data_with_dow_for_analysis.csv',parse_dates=['created_at_utc'],index_col=0)"
   ]
  },
  {
   "cell_type": "code",
   "execution_count": 152,
   "metadata": {},
   "outputs": [
    {
     "name": "stdout",
     "output_type": "stream",
     "text": [
      "text\n",
      "created_at_utc\n",
      "favorite_count\n",
      "retweet_count\n",
      "trade_topic\n",
      "financial_topic\n",
      "labor_topic\n",
      "industry_topic\n",
      "currency_rates_topic\n",
      "general_related_topic\n",
      "budget_topic\n",
      "sensitive_topic\n",
      "sentiment\n",
      "month\n",
      "1_minutes_forward_pct_change\n",
      "5_minutes_forward_pct_change\n",
      "10_minutes_forward_pct_change\n",
      "15_minutes_forward_pct_change\n",
      "30_minutes_forward_pct_change\n",
      "1_hours_forward_pct_change\n",
      "3_hours_forward_pct_change\n",
      "6_hours_forward_pct_change\n",
      "1_minutes_forward_vol_sum\n",
      "5_minutes_forward_vol_sum\n",
      "10_minutes_forward_vol_sum\n",
      "15_minutes_forward_vol_sum\n",
      "30_minutes_forward_vol_sum\n",
      "1_hours_forward_vol_sum\n",
      "3_hours_forward_vol_sum\n",
      "Facebook\n",
      "Instagram\n",
      "Media Studio\n",
      "Mobile Web (M5)\n",
      "Neatly For BlackBerry 10\n",
      "Periscope\n",
      "TweetDeck\n",
      "TwitLonger Beta\n",
      "Twitlonger\n",
      "Twitter Ads\n",
      "Twitter Media Studio\n",
      "Twitter Mirror for iPad\n",
      "Twitter QandA\n",
      "Twitter Web App\n",
      "Twitter Web Client\n",
      "Twitter for Android\n",
      "Twitter for BlackBerry\n",
      "Twitter for Websites\n",
      "Twitter for iPad\n",
      "Twitter for iPhone\n",
      "Vine - Make a Scene\n",
      "china\n",
      "chinese\n",
      "nafta\n",
      "trade\n",
      "trades\n",
      "trading\n",
      "tariff\n",
      "tariffs\n",
      "opec\n",
      "usmca\n",
      "xi\n",
      "jinping\n",
      "sanctions\n",
      "market\n",
      "markets\n",
      "stock\n",
      "stocks\n",
      "financial\n",
      "investment\n",
      "dow\n",
      "nasdaq\n",
      "500\n",
      "wall street\n",
      "wall st\n",
      "unemployment\n",
      "jobs\n",
      "labor\n",
      "manufacture\n",
      "manufacturers\n",
      "consumer\n",
      "consumers\n",
      "bank\n",
      "banks\n",
      "factories\n",
      "business\n",
      "businesses\n",
      "corporate\n",
      "corporates\n",
      "industry\n",
      "industries\n",
      "product\n",
      "agriculture\n",
      "agricultural\n",
      "products\n",
      "rate\n",
      "rates\n",
      "reserve\n",
      "inflation\n",
      "currency\n",
      "depreciating\n",
      "depreceate\n",
      "fed\n",
      "federal reserve\n",
      "deal\n",
      "deals\n",
      "dollar\n",
      "dollars\n",
      "$\n",
      "billion\n",
      "billions\n",
      "gdp\n",
      "growth\n",
      "revenue\n",
      "economy\n",
      "economies\n",
      "economist\n",
      "economic\n",
      "economists\n",
      "money\n",
      "companies\n",
      "price\n",
      "prices\n",
      "cents\n",
      "cent\n",
      "purchase\n",
      "depletion\n",
      "regulation\n",
      "401(k)\n",
      "trillions\n",
      "recession\n",
      "depression\n",
      "taxes\n",
      "taxation\n",
      "tax\n",
      "debt\n",
      "deficit\n",
      "spending\n",
      "refinance\n",
      "finance\n",
      "savings\n",
      "deficits\n",
      "bankruptcy\n",
      "spend\n",
      "cost\n",
      "costs\n",
      "subsidizing\n",
      "subsidize\n",
      "iran\n",
      "nuclear\n",
      "wall\n",
      "military\n",
      "daca\n",
      "bill\n",
      "danger\n",
      "conflict\n",
      "rockets\n",
      "russia\n",
      "middle east\n",
      "ukrainian\n",
      "ukraine\n",
      "isis\n",
      "syria\n",
      "border\n",
      "russian\n",
      "investigation\n",
      "kim\n",
      "jong\n",
      "un\n",
      "caravan\n"
     ]
    }
   ],
   "source": [
    "for x in df.columns:\n",
    "    print(x)"
   ]
  },
  {
   "cell_type": "code",
   "execution_count": 192,
   "metadata": {},
   "outputs": [],
   "source": [
    "X=df.loc[:,['created_at_utc',\n",
    "            'Twitter for iPhone',\n",
    "            'Twitter for Android',\n",
    "'favorite_count',\n",
    "'retweet_count',\n",
    "'trade_topic',\n",
    "'financial_topic',\n",
    "'labor_topic',\n",
    "'industry_topic',\n",
    "'currency_rates_topic',\n",
    "'general_related_topic',\n",
    "'budget_topic',\n",
    "'sensitive_topic',\n",
    "'sentiment'\n",
    "]].copy()"
   ]
  },
  {
   "cell_type": "code",
   "execution_count": 193,
   "metadata": {},
   "outputs": [],
   "source": [
    "y=df[['1_minutes_forward_pct_change',\n",
    "'5_minutes_forward_pct_change',\n",
    "'10_minutes_forward_pct_change',\n",
    "'15_minutes_forward_pct_change',\n",
    "'30_minutes_forward_pct_change',\n",
    "'1_hours_forward_pct_change',\n",
    "'3_hours_forward_pct_change',\n",
    "'6_hours_forward_pct_change',\n",
    "'1_minutes_forward_vol_sum',\n",
    "'5_minutes_forward_vol_sum',\n",
    "'10_minutes_forward_vol_sum',\n",
    "'15_minutes_forward_vol_sum',\n",
    "'30_minutes_forward_vol_sum',\n",
    "'1_hours_forward_vol_sum',\n",
    "'3_hours_forward_vol_sum']].copy()"
   ]
  },
  {
   "cell_type": "code",
   "execution_count": 242,
   "metadata": {},
   "outputs": [],
   "source": [
    "inspect_df=pd.concat([X.loc[~y['15_minutes_forward_pct_change'].isna()],y['15_minutes_forward_pct_change'].dropna()],axis=1)\n",
    "# inspect_df['15_minutes_forward_pct_change']=inspect_df['15_minutes_forward_pct_change']*100"
   ]
  },
  {
   "cell_type": "code",
   "execution_count": 243,
   "metadata": {},
   "outputs": [],
   "source": [
    "inspect_df=inspect_df.loc[inspect_df['created_at_utc']>='2016-11-08 22:00:00'].copy()"
   ]
  },
  {
   "cell_type": "code",
   "execution_count": 244,
   "metadata": {},
   "outputs": [],
   "source": [
    "for column in inspect_df.iloc[:,:-1].columns:\n",
    "    inspect_df[column] = inspect_df[[\"sentiment\", column]].product(axis=1)\n",
    "# inspect_df.drop('sentiment',1,inplace=True)"
   ]
  },
  {
   "cell_type": "code",
   "execution_count": 245,
   "metadata": {},
   "outputs": [],
   "source": [
    "inspect_df.drop('created_at_utc',1,inplace=True)"
   ]
  },
  {
   "cell_type": "code",
   "execution_count": 246,
   "metadata": {},
   "outputs": [],
   "source": [
    "# inspect_df.insert(0, 'financial_topic_sentiment_interaction',\n",
    "#                              inspect_df[[\"sentiment\", 'financial_topic']].product(axis=1))\n",
    "# inspect_df.insert(0, 'sensitive_topic_sentiment_interaction',\n",
    "#                              inspect_df[[\"sentiment\", 'sensitive_topic']].product(axis=1))"
   ]
  },
  {
   "cell_type": "code",
   "execution_count": 247,
   "metadata": {},
   "outputs": [],
   "source": [
    "inspect_df=inspect_df.replace([np.inf, -np.inf], float('nan'))\n",
    "inspect_df=inspect_df.dropna()"
   ]
  },
  {
   "cell_type": "code",
   "execution_count": 248,
   "metadata": {},
   "outputs": [],
   "source": [
    "mod = sm.OLS(inspect_df.iloc[:,-1],inspect_df.iloc[:,:-1])\n",
    "res = mod.fit()"
   ]
  },
  {
   "cell_type": "code",
   "execution_count": 249,
   "metadata": {},
   "outputs": [
    {
     "name": "stdout",
     "output_type": "stream",
     "text": [
      "                                  OLS Regression Results                                 \n",
      "=========================================================================================\n",
      "Dep. Variable:     15_minutes_forward_pct_change   R-squared:                       0.001\n",
      "Model:                                       OLS   Adj. R-squared:                 -0.001\n",
      "Method:                            Least Squares   F-statistic:                    0.4622\n",
      "Date:                           Mon, 17 Feb 2020   Prob (F-statistic):              0.946\n",
      "Time:                                   09:47:42   Log-Likelihood:                 28980.\n",
      "No. Observations:                           5592   AIC:                        -5.793e+04\n",
      "Df Residuals:                               5579   BIC:                        -5.785e+04\n",
      "Df Model:                                     13                                         \n",
      "Covariance Type:                       nonrobust                                         \n",
      "=========================================================================================\n",
      "                            coef    std err          t      P>|t|      [0.025      0.975]\n",
      "-----------------------------------------------------------------------------------------\n",
      "Twitter for iPhone     6.547e-05      0.000      0.270      0.787      -0.000       0.001\n",
      "Twitter for Android    5.537e-05   7.25e-05      0.764      0.445   -8.67e-05       0.000\n",
      "favorite_count           -0.0001   9.06e-05     -1.260      0.208      -0.000    6.35e-05\n",
      "retweet_count            8.4e-05   8.63e-05      0.973      0.331   -8.53e-05       0.000\n",
      "trade_topic              -0.0002      0.000     -0.768      0.442      -0.001       0.000\n",
      "financial_topic           0.0004      0.000      0.840      0.401      -0.000       0.001\n",
      "labor_topic               0.0003      0.000      0.826      0.409      -0.000       0.001\n",
      "industry_topic         2.325e-05      0.000      0.070      0.944      -0.001       0.001\n",
      "currency_rates_topic   2.891e-05      0.001      0.027      0.978      -0.002       0.002\n",
      "general_related_topic -9.289e-05      0.000     -0.552      0.581      -0.000       0.000\n",
      "budget_topic              0.0001      0.000      0.376      0.707      -0.000       0.001\n",
      "sensitive_topic        2.612e-05      0.000      0.108      0.914      -0.000       0.001\n",
      "sentiment               -8.2e-05   7.03e-05     -1.167      0.243      -0.000    5.58e-05\n",
      "==============================================================================\n",
      "Omnibus:                     1642.118   Durbin-Watson:                   1.345\n",
      "Prob(Omnibus):                  0.000   Jarque-Bera (JB):            47046.090\n",
      "Skew:                           0.796   Prob(JB):                         0.00\n",
      "Kurtosis:                      17.120   Cond. No.                         46.6\n",
      "==============================================================================\n",
      "\n",
      "Warnings:\n",
      "[1] Standard Errors assume that the covariance matrix of the errors is correctly specified.\n"
     ]
    }
   ],
   "source": [
    "print(res.summary())"
   ]
  },
  {
   "cell_type": "code",
   "execution_count": null,
   "metadata": {},
   "outputs": [],
   "source": []
  },
  {
   "cell_type": "code",
   "execution_count": 37,
   "metadata": {},
   "outputs": [],
   "source": [
    "from sklearn.linear_model import Ridge\n",
    "rr = Ridge(alpha=0.00000000001,normalize=False)\n",
    "rr.fit(inspect_df.iloc[:,:-1], inspect_df.iloc[:,-1])\n",
    "w = rr.coef_"
   ]
  },
  {
   "cell_type": "code",
   "execution_count": 38,
   "metadata": {},
   "outputs": [
    {
     "name": "stdout",
     "output_type": "stream",
     "text": [
      "0.005484698614629412\n"
     ]
    }
   ],
   "source": [
    "print(rr.score(inspect_df.iloc[:,:-1], inspect_df.iloc[:,-1]))"
   ]
  },
  {
   "cell_type": "code",
   "execution_count": 121,
   "metadata": {},
   "outputs": [
    {
     "name": "stdout",
     "output_type": "stream",
     "text": [
      "0.0065295021570226375\n"
     ]
    }
   ],
   "source": [
    "from sklearn import linear_model\n",
    "clf = linear_model.Lasso(alpha=0.00001,normalize=False)\n",
    "clf.fit(inspect_df.iloc[:,:-1], inspect_df.iloc[:,-1])\n",
    "print(clf.score(inspect_df.iloc[:,:-1], inspect_df.iloc[:,-1]))"
   ]
  },
  {
   "cell_type": "code",
   "execution_count": 122,
   "metadata": {},
   "outputs": [],
   "source": [
    "coefs=pd.DataFrame(columns=['variable','coefficients'])"
   ]
  },
  {
   "cell_type": "code",
   "execution_count": 123,
   "metadata": {},
   "outputs": [],
   "source": [
    "coefs['variable']=inspect_df.iloc[:,:-1].columns"
   ]
  },
  {
   "cell_type": "code",
   "execution_count": 124,
   "metadata": {},
   "outputs": [],
   "source": [
    "coefs['coefficients'] = clf.coef_"
   ]
  },
  {
   "cell_type": "code",
   "execution_count": 125,
   "metadata": {},
   "outputs": [
    {
     "data": {
      "text/plain": [
       "6"
      ]
     },
     "execution_count": 125,
     "metadata": {},
     "output_type": "execute_result"
    }
   ],
   "source": [
    "len(coefs[coefs['coefficients']!=0])"
   ]
  },
  {
   "cell_type": "code",
   "execution_count": 126,
   "metadata": {},
   "outputs": [
    {
     "name": "stdout",
     "output_type": "stream",
     "text": [
      "sensitive_topic\n",
      "retweet_count\n",
      "trade_topic\n",
      "budget_topic\n",
      "industry_topic\n",
      "labor_topic\n"
     ]
    }
   ],
   "source": [
    "for i,x in coefs[coefs['coefficients']!=0].sort_values('coefficients').iterrows():\n",
    "    print(x['variable'])"
   ]
  },
  {
   "cell_type": "code",
   "execution_count": null,
   "metadata": {},
   "outputs": [],
   "source": []
  },
  {
   "cell_type": "code",
   "execution_count": null,
   "metadata": {},
   "outputs": [],
   "source": []
  }
 ],
 "metadata": {
  "kernelspec": {
   "display_name": "Python 3",
   "language": "python",
   "name": "python3"
  },
  "language_info": {
   "codemirror_mode": {
    "name": "ipython",
    "version": 3
   },
   "file_extension": ".py",
   "mimetype": "text/x-python",
   "name": "python",
   "nbconvert_exporter": "python",
   "pygments_lexer": "ipython3",
   "version": "3.7.1"
  }
 },
 "nbformat": 4,
 "nbformat_minor": 2
}
