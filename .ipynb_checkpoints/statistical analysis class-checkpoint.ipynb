{
 "cells": [
  {
   "cell_type": "code",
   "execution_count": 6,
   "metadata": {},
   "outputs": [],
   "source": [
    "import pandas as pd\n",
    "import statsmodels.api as sm\n",
    "import numpy as np\n",
    "import time"
   ]
  },
  {
   "cell_type": "code",
   "execution_count": 7,
   "metadata": {},
   "outputs": [],
   "source": [
    "df=pd.read_csv('twitter_data_with_dow_for_analysis.csv',parse_dates=['created_at'],index_col=0)"
   ]
  },
  {
   "cell_type": "code",
   "execution_count": 8,
   "metadata": {},
   "outputs": [
    {
     "name": "stdout",
     "output_type": "stream",
     "text": [
      "text\n",
      "created_at\n",
      "retweet_count\n",
      "favorite_count\n",
      "trade_topic\n",
      "china_topic\n",
      "financial_topic\n",
      "labor_topic\n",
      "industry_topic\n",
      "currency_rates_topic\n",
      "general_related_topic\n",
      "budget_topic\n",
      "foreign_policy_topic\n",
      "covid_topic\n",
      "sensitive_topic\n",
      "environment_topic\n",
      "sentiment\n",
      "month\n",
      "1_minutes_forward_pct_change\n",
      "5_minutes_forward_pct_change\n",
      "10_minutes_forward_pct_change\n",
      "15_minutes_forward_pct_change\n",
      "30_minutes_forward_pct_change\n",
      "1_hours_forward_pct_change\n",
      "3_hours_forward_pct_change\n",
      "6_hours_forward_pct_change\n",
      "1_minutes_forward_vol_sum\n",
      "5_minutes_forward_vol_sum\n",
      "10_minutes_forward_vol_sum\n",
      "15_minutes_forward_vol_sum\n",
      "30_minutes_forward_vol_sum\n",
      "1_hours_forward_vol_sum\n",
      "3_hours_forward_vol_sum\n",
      "0\n",
      "Facebook\n",
      "Instagram\n",
      "Media Studio\n",
      "Mobile Web (M5)\n",
      "Neatly For BlackBerry 10\n",
      "Periscope\n",
      "TweetDeck\n",
      "TwitLonger Beta\n",
      "Twitlonger\n",
      "Twitter Ads\n",
      "Twitter Media Studio\n",
      "Twitter Mirror for iPad\n",
      "Twitter QandA\n",
      "Twitter Web App\n",
      "Twitter Web Client\n",
      "Twitter for Android\n",
      "Twitter for BlackBerry\n",
      "Twitter for Websites\n",
      "Twitter for iPad\n",
      "Twitter for iPhone\n",
      "Vine - Make a Scene\n"
     ]
    }
   ],
   "source": [
    "for x in df.columns:\n",
    "    print(x)"
   ]
  },
  {
   "cell_type": "code",
   "execution_count": 9,
   "metadata": {},
   "outputs": [],
   "source": [
    "X=df.loc[:,['created_at',\n",
    "'Twitter for iPhone',\n",
    "'Twitter for Android',\n",
    "'favorite_count',\n",
    "'retweet_count',\n",
    "'trade_topic',\n",
    "'china_topic',\n",
    "'financial_topic',\n",
    "'labor_topic',\n",
    "'industry_topic',\n",
    "'currency_rates_topic',\n",
    "'general_related_topic',\n",
    "'budget_topic',\n",
    "'foreign_policy_topic',\n",
    "'covid_topic',\n",
    "'sensitive_topic',\n",
    "'environment_topic',\n",
    "'sentiment',\n",
    "'text'\n",
    "]].copy()"
   ]
  },
  {
   "cell_type": "code",
   "execution_count": 10,
   "metadata": {},
   "outputs": [],
   "source": [
    "y=df[['1_minutes_forward_pct_change',\n",
    "'5_minutes_forward_pct_change',\n",
    "'10_minutes_forward_pct_change',\n",
    "'15_minutes_forward_pct_change',\n",
    "'30_minutes_forward_pct_change',\n",
    "'1_hours_forward_pct_change',\n",
    "'3_hours_forward_pct_change',\n",
    "'6_hours_forward_pct_change',\n",
    "'1_minutes_forward_vol_sum',\n",
    "'5_minutes_forward_vol_sum',\n",
    "'10_minutes_forward_vol_sum',\n",
    "'15_minutes_forward_vol_sum',\n",
    "'30_minutes_forward_vol_sum',\n",
    "'1_hours_forward_vol_sum',\n",
    "'3_hours_forward_vol_sum']].copy()"
   ]
  },
  {
   "cell_type": "code",
   "execution_count": 11,
   "metadata": {},
   "outputs": [],
   "source": [
    "inspect_df=pd.concat([X.loc[~y['15_minutes_forward_vol_sum'].isna()],y['15_minutes_forward_vol_sum'].dropna()],axis=1)"
   ]
  },
  {
   "cell_type": "code",
   "execution_count": 87,
   "metadata": {},
   "outputs": [],
   "source": [
    "inspect_df=inspect_df.loc[inspect_df['created_at']>='2016-05-03 22:00:00'].copy()"
   ]
  },
  {
   "cell_type": "code",
   "execution_count": 88,
   "metadata": {},
   "outputs": [],
   "source": [
    "for column in inspect_df.iloc[:,:-1].columns:\n",
    "    inspect_df[column] = inspect_df[[column, 'sentiment']].product(axis=1)\n",
    "# inspect_df.drop('sentiment',1,inplace=True)"
   ]
  },
  {
   "cell_type": "code",
   "execution_count": 89,
   "metadata": {},
   "outputs": [],
   "source": [
    "inspect_df.drop(['created_at','text'],1,inplace=True)"
   ]
  },
  {
   "cell_type": "code",
   "execution_count": 90,
   "metadata": {},
   "outputs": [],
   "source": [
    "# inspect_df.insert(0, 'financial_topic_sentiment_interaction',\n",
    "#                              inspect_df[[\"sentiment\", 'financial_topic']].product(axis=1))\n",
    "# inspect_df.insert(0, 'sensitive_topic_sentiment_interaction',\n",
    "#                              inspect_df[[\"sentiment\", 'sensitive_topic']].product(axis=1))"
   ]
  },
  {
   "cell_type": "code",
   "execution_count": 91,
   "metadata": {},
   "outputs": [],
   "source": [
    "# inspect_df=inspect_df.replace([np.inf, -np.inf], float('nan'))\n",
    "inspect_df=inspect_df.dropna()"
   ]
  },
  {
   "cell_type": "code",
   "execution_count": 92,
   "metadata": {},
   "outputs": [],
   "source": [
    "mod = sm.OLS(inspect_df.iloc[:,-1],inspect_df.iloc[:,:-1])\n",
    "res = mod.fit()"
   ]
  },
  {
   "cell_type": "code",
   "execution_count": 93,
   "metadata": {},
   "outputs": [
    {
     "name": "stdout",
     "output_type": "stream",
     "text": [
      "                               OLS Regression Results                              \n",
      "===================================================================================\n",
      "Dep. Variable:     1_hours_forward_vol_sum   R-squared:                       0.000\n",
      "Model:                                 OLS   Adj. R-squared:                 -0.002\n",
      "Method:                      Least Squares   F-statistic:                  0.009865\n",
      "Date:                     Wed, 24 Jun 2020   Prob (F-statistic):               1.00\n",
      "Time:                             07:45:48   Log-Likelihood:                -48997.\n",
      "No. Observations:                     8246   AIC:                         9.803e+04\n",
      "Df Residuals:                         8229   BIC:                         9.815e+04\n",
      "Df Model:                               17                                         \n",
      "Covariance Type:                 nonrobust                                         \n",
      "=========================================================================================\n",
      "                            coef    std err          t      P>|t|      [0.025      0.975]\n",
      "-----------------------------------------------------------------------------------------\n",
      "Twitter for iPhone       -0.0424      1.943     -0.022      0.983      -3.851       3.766\n",
      "Twitter for Android      -0.0784      4.818     -0.016      0.987      -9.522       9.366\n",
      "favorite_count            0.5064      8.811      0.057      0.954     -16.764      17.777\n",
      "retweet_count            -0.6382      9.052     -0.071      0.944     -18.382      17.106\n",
      "trade_topic              -0.0610      4.215     -0.014      0.988      -8.323       8.201\n",
      "china_topic               0.9802      4.547      0.216      0.829      -7.933       9.893\n",
      "financial_topic          -0.0084      4.829     -0.002      0.999      -9.475       9.458\n",
      "labor_topic              -0.0133      4.597     -0.003      0.998      -9.025       8.998\n",
      "industry_topic           -0.2792      4.485     -0.062      0.950      -9.071       8.512\n",
      "currency_rates_topic      0.0398      3.262      0.012      0.990      -6.355       6.435\n",
      "general_related_topic    -0.1338      2.323     -0.058      0.954      -4.687       4.420\n",
      "budget_topic              0.0439      4.967      0.009      0.993      -9.694       9.781\n",
      "foreign_policy_topic      0.0245      2.085      0.012      0.991      -4.062       4.111\n",
      "covid_topic               1.8583      7.177      0.259      0.796     -12.211      15.927\n",
      "sensitive_topic           0.0017      9.192      0.000      1.000     -18.017      18.021\n",
      "environment_topic         0.0871     14.313      0.006      0.995     -27.970      28.144\n",
      "sentiment                 0.2373      1.579      0.150      0.881      -2.858       3.332\n",
      "==============================================================================\n",
      "Omnibus:                    31768.102   Durbin-Watson:                   2.000\n",
      "Prob(Omnibus):                  0.000   Jarque-Bera (JB):      22955613095.612\n",
      "Skew:                          90.229   Prob(JB):                         0.00\n",
      "Kurtosis:                    8174.890   Cond. No.                         12.3\n",
      "==============================================================================\n",
      "\n",
      "Warnings:\n",
      "[1] Standard Errors assume that the covariance matrix of the errors is correctly specified.\n"
     ]
    }
   ],
   "source": [
    "print(res.summary())"
   ]
  },
  {
   "cell_type": "code",
   "execution_count": null,
   "metadata": {},
   "outputs": [],
   "source": [
    "from sklearn.linear_model import Ridge\n",
    "rr = Ridge(alpha=0.00000000001,normalize=False)\n",
    "rr.fit(inspect_df.iloc[:,:-1], inspect_df.iloc[:,-1])\n",
    "w = rr.coef_"
   ]
  },
  {
   "cell_type": "code",
   "execution_count": null,
   "metadata": {},
   "outputs": [],
   "source": [
    "print(rr.score(inspect_df.iloc[:,:-1], inspect_df.iloc[:,-1]))"
   ]
  },
  {
   "cell_type": "code",
   "execution_count": null,
   "metadata": {},
   "outputs": [],
   "source": [
    "from sklearn import linear_model\n",
    "clf = linear_model.Lasso(alpha=0.000000001,normalize=False)\n",
    "clf.fit(inspect_df.iloc[:,:-1], inspect_df.iloc[:,-1])\n",
    "print(clf.score(inspect_df.iloc[:,:-1], inspect_df.iloc[:,-1]))"
   ]
  },
  {
   "cell_type": "code",
   "execution_count": null,
   "metadata": {},
   "outputs": [],
   "source": [
    "coefs=pd.DataFrame(columns=['variable','coefficients'])"
   ]
  },
  {
   "cell_type": "code",
   "execution_count": null,
   "metadata": {},
   "outputs": [],
   "source": [
    "coefs['variable']=inspect_df.iloc[:,:-1].columns"
   ]
  },
  {
   "cell_type": "code",
   "execution_count": null,
   "metadata": {},
   "outputs": [],
   "source": [
    "coefs['coefficients'] = clf.coef_"
   ]
  },
  {
   "cell_type": "code",
   "execution_count": null,
   "metadata": {},
   "outputs": [],
   "source": [
    "len(coefs[coefs['coefficients']!=0])"
   ]
  },
  {
   "cell_type": "code",
   "execution_count": null,
   "metadata": {},
   "outputs": [],
   "source": [
    "for i,x in coefs[coefs['coefficients']!=0].sort_values('coefficients').iterrows():\n",
    "    print(x['variable'])"
   ]
  },
  {
   "cell_type": "code",
   "execution_count": null,
   "metadata": {},
   "outputs": [],
   "source": []
  },
  {
   "cell_type": "code",
   "execution_count": null,
   "metadata": {},
   "outputs": [],
   "source": []
  },
  {
   "cell_type": "code",
   "execution_count": null,
   "metadata": {},
   "outputs": [],
   "source": []
  }
 ],
 "metadata": {
  "kernelspec": {
   "display_name": "Python 3",
   "language": "python",
   "name": "python3"
  },
  "language_info": {
   "codemirror_mode": {
    "name": "ipython",
    "version": 3
   },
   "file_extension": ".py",
   "mimetype": "text/x-python",
   "name": "python",
   "nbconvert_exporter": "python",
   "pygments_lexer": "ipython3",
   "version": "3.7.1"
  }
 },
 "nbformat": 4,
 "nbformat_minor": 2
}
