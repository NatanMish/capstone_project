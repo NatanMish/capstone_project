{
 "cells": [
  {
   "cell_type": "code",
   "execution_count": 1,
   "metadata": {},
   "outputs": [],
   "source": [
    "import pandas as pd"
   ]
  },
  {
   "cell_type": "code",
   "execution_count": 106,
   "metadata": {},
   "outputs": [],
   "source": [
    "df=pd.read_csv('./trump_tweets/with_financials/trump_twitter_data_with_vix_for_analysis.csv',parse_dates=['created_at'],index_col=0)"
   ]
  },
  {
   "cell_type": "code",
   "execution_count": 107,
   "metadata": {},
   "outputs": [
    {
     "data": {
      "text/plain": [
       "Index(['text', 'created_at', 'retweet_count', 'favorite_count', 'trade_topic', 'china_topic', 'financial_topic', 'labor_topic', 'industry_topic', 'currency_rates_topic', 'general_related_topic', 'budget_topic', 'foreign_policy_topic', 'covid_topic', 'sensitive_topic', 'environment_topic', 'sentiment', 'month', '1_minutes_forward_pct_change', '5_minutes_forward_pct_change', '10_minutes_forward_pct_change', '15_minutes_forward_pct_change', '30_minutes_forward_pct_change', '1_hours_forward_pct_change', '3_hours_forward_pct_change', '6_hours_forward_pct_change', '0', 'Facebook', 'Instagram', 'Media Studio', 'Mobile Web (M5)', 'Neatly For BlackBerry 10', 'Periscope', 'TweetDeck', 'TwitLonger Beta', 'Twitlonger', 'Twitter Ads', 'Twitter Media Studio', 'Twitter Mirror for iPad', 'Twitter QandA', 'Twitter Web App', 'Twitter Web Client', 'Twitter for Android', 'Twitter for BlackBerry', 'Twitter for Websites', 'Twitter for iPad', 'Twitter for iPhone', 'Vine - Make a Scene'], dtype='object')"
      ]
     },
     "execution_count": 107,
     "metadata": {},
     "output_type": "execute_result"
    }
   ],
   "source": [
    "df.columns"
   ]
  },
  {
   "cell_type": "code",
   "execution_count": 108,
   "metadata": {},
   "outputs": [],
   "source": [
    "df=df.loc[df['created_at']>='2016-11-08 22:00:00']"
   ]
  },
  {
   "cell_type": "code",
   "execution_count": 109,
   "metadata": {},
   "outputs": [],
   "source": [
    "df.loc[df['environment_topic']>0].sort_values('5_minutes_forward_pct_change')[['text','created_at','5_minutes_forward_pct_change']].to_csv('example.csv')"
   ]
  },
  {
   "cell_type": "code",
   "execution_count": null,
   "metadata": {},
   "outputs": [],
   "source": []
  }
 ],
 "metadata": {
  "kernelspec": {
   "display_name": "Python 3",
   "language": "python",
   "name": "python3"
  },
  "language_info": {
   "codemirror_mode": {
    "name": "ipython",
    "version": 3
   },
   "file_extension": ".py",
   "mimetype": "text/x-python",
   "name": "python",
   "nbconvert_exporter": "python",
   "pygments_lexer": "ipython3",
   "version": "3.7.1"
  }
 },
 "nbformat": 4,
 "nbformat_minor": 2
}
