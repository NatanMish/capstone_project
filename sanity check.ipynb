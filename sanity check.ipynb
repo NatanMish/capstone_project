{
 "cells": [
  {
   "cell_type": "code",
   "execution_count": 1,
   "metadata": {},
   "outputs": [],
   "source": [
    "import pandas as pd"
   ]
  },
  {
   "cell_type": "code",
   "execution_count": 3,
   "metadata": {},
   "outputs": [],
   "source": [
    "financial_data=pd.read_csv('04052009-10062020-SPYDIA-minutedata.csv',parse_dates=['DATETIME'])"
   ]
  },
  {
   "cell_type": "code",
   "execution_count": 5,
   "metadata": {},
   "outputs": [
    {
     "data": {
      "text/html": [
       "<div>\n",
       "<style scoped>\n",
       "    .dataframe tbody tr th:only-of-type {\n",
       "        vertical-align: middle;\n",
       "    }\n",
       "\n",
       "    .dataframe tbody tr th {\n",
       "        vertical-align: top;\n",
       "    }\n",
       "\n",
       "    .dataframe thead th {\n",
       "        text-align: right;\n",
       "    }\n",
       "</style>\n",
       "<table border=\"1\" class=\"dataframe\">\n",
       "  <thead>\n",
       "    <tr style=\"text-align: right;\">\n",
       "      <th></th>\n",
       "      <th>DATETIME</th>\n",
       "      <th>SYM_ROOT</th>\n",
       "      <th>SYM_SUFFIX</th>\n",
       "      <th>SIZE</th>\n",
       "      <th>PRICE</th>\n",
       "    </tr>\n",
       "  </thead>\n",
       "  <tbody>\n",
       "    <tr>\n",
       "      <th>0</th>\n",
       "      <td>2009-05-04 04:15:00</td>\n",
       "      <td>SPY</td>\n",
       "      <td>0.0</td>\n",
       "      <td>5300</td>\n",
       "      <td>88.6375</td>\n",
       "    </tr>\n",
       "    <tr>\n",
       "      <th>1</th>\n",
       "      <td>2009-05-04 04:26:00</td>\n",
       "      <td>SPY</td>\n",
       "      <td>0.0</td>\n",
       "      <td>100</td>\n",
       "      <td>88.6600</td>\n",
       "    </tr>\n",
       "    <tr>\n",
       "      <th>2</th>\n",
       "      <td>2009-05-04 04:35:00</td>\n",
       "      <td>SPY</td>\n",
       "      <td>0.0</td>\n",
       "      <td>2800</td>\n",
       "      <td>88.5550</td>\n",
       "    </tr>\n",
       "    <tr>\n",
       "      <th>3</th>\n",
       "      <td>2009-05-04 04:42:00</td>\n",
       "      <td>SPY</td>\n",
       "      <td>0.0</td>\n",
       "      <td>600</td>\n",
       "      <td>88.6000</td>\n",
       "    </tr>\n",
       "    <tr>\n",
       "      <th>4</th>\n",
       "      <td>2009-05-04 04:50:00</td>\n",
       "      <td>SPY</td>\n",
       "      <td>0.0</td>\n",
       "      <td>500</td>\n",
       "      <td>88.5420</td>\n",
       "    </tr>\n",
       "  </tbody>\n",
       "</table>\n",
       "</div>"
      ],
      "text/plain": [
       "             DATETIME SYM_ROOT  SYM_SUFFIX  SIZE    PRICE\n",
       "0 2009-05-04 04:15:00      SPY         0.0  5300  88.6375\n",
       "1 2009-05-04 04:26:00      SPY         0.0   100  88.6600\n",
       "2 2009-05-04 04:35:00      SPY         0.0  2800  88.5550\n",
       "3 2009-05-04 04:42:00      SPY         0.0   600  88.6000\n",
       "4 2009-05-04 04:50:00      SPY         0.0   500  88.5420"
      ]
     },
     "execution_count": 5,
     "metadata": {},
     "output_type": "execute_result"
    }
   ],
   "source": [
    "financial_data.head()"
   ]
  },
  {
   "cell_type": "code",
   "execution_count": 14,
   "metadata": {},
   "outputs": [
    {
     "data": {
      "text/plain": [
       "19856"
      ]
     },
     "execution_count": 14,
     "metadata": {},
     "output_type": "execute_result"
    }
   ],
   "source": [
    "sum(financial_data.loc[(financial_data['SYM_ROOT'] == 'DIA') & (financial_data['DATETIME'] >= '2019-12-13 12:28:00') & \n",
    "                   (financial_data['DATETIME'] <= '2019-12-13 12:43:00'), 'SIZE'])"
   ]
  },
  {
   "cell_type": "code",
   "execution_count": 15,
   "metadata": {},
   "outputs": [
    {
     "data": {
      "text/plain": [
       "47262"
      ]
     },
     "execution_count": 15,
     "metadata": {},
     "output_type": "execute_result"
    }
   ],
   "source": [
    "sum(financial_data.loc[(financial_data['SYM_ROOT'] == 'DIA') & (financial_data['DATETIME'] >= '2019-12-13 12:43:00') & \n",
    "                   (financial_data['DATETIME'] <= '2019-12-13 12:58:00'), 'SIZE'])"
   ]
  },
  {
   "cell_type": "code",
   "execution_count": 16,
   "metadata": {},
   "outputs": [
    {
     "data": {
      "text/plain": [
       "2.380237711522965"
      ]
     },
     "execution_count": 16,
     "metadata": {},
     "output_type": "execute_result"
    }
   ],
   "source": [
    "47262/19856"
   ]
  },
  {
   "cell_type": "code",
   "execution_count": null,
   "metadata": {},
   "outputs": [],
   "source": []
  }
 ],
 "metadata": {
  "kernelspec": {
   "display_name": "Python 3",
   "language": "python",
   "name": "python3"
  },
  "language_info": {
   "codemirror_mode": {
    "name": "ipython",
    "version": 3
   },
   "file_extension": ".py",
   "mimetype": "text/x-python",
   "name": "python",
   "nbconvert_exporter": "python",
   "pygments_lexer": "ipython3",
   "version": "3.7.1"
  }
 },
 "nbformat": 4,
 "nbformat_minor": 2
}
