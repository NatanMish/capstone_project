{
 "cells": [
  {
   "cell_type": "code",
   "execution_count": 4,
   "metadata": {},
   "outputs": [],
   "source": [
    "import pandas as pd"
   ]
  },
  {
   "cell_type": "code",
   "execution_count": 5,
   "metadata": {},
   "outputs": [],
   "source": [
    "class feature_engine:\n",
    "    \n",
    "    pd = __import__('pandas')\n",
    "    datetime = __import__('datetime')\n",
    "    mcal = __import__('pandas_market_calendars')\n",
    "    np = __import__('numpy')\n",
    "    \n",
    "    def __init__(self):\n",
    "        print('feature_engine V.0.1 \\nImported pandas,datetime,pandas_market_calendars,numpy packages')\n",
    "        \n",
    "    def calc_price_change(self,tweet_time,financial_data,time_col_name,price_col_name,interval,amount,method='both',\n",
    "                          logdiff=True):\n",
    "        #remove seconds to match financial data format\n",
    "        tweet_time=tweet_time.replace(second=0)\n",
    "        #default baseline is set for five minutes before tweet\n",
    "        tweet_time_5min_before=tweet_time - self.datetime.timedelta(0,0,0,0,5)\n",
    "        \n",
    "        tweet_price=financial_data[financial_data[time_col_name]==tweet_time_5min_before][price_col_name]\n",
    "        if len(tweet_price)==0:\n",
    "            return float('NaN')\n",
    "        tweet_price.reset_index(inplace=True,drop=True)\n",
    "\n",
    "        def calculation(financial_data,time_col_name,new_time,price_col_name,tweet_price,direction,logdiff):\n",
    "            \n",
    "            other_price=financial_data[financial_data[time_col_name]==new_time][price_col_name]\n",
    "            other_price.reset_index(inplace=True,drop=True)\n",
    "            if len(other_price)==0:\n",
    "                return float('NaN')\n",
    "            elif logdiff:\n",
    "                if direction=='forward':\n",
    "                    return (self.np.log(other_price.iloc[0]) - self.np.log(tweet_price.iloc[0]))\n",
    "                elif direction=='backward':\n",
    "                    return (self.np.log(tweet_price.iloc[0]) - self.np.log(other_price.iloc[0]))\n",
    "            else:\n",
    "                if direction=='forward':\n",
    "                    return ((other_price.iloc[0]/tweet_price.iloc[0])-1)\n",
    "                elif direction=='backward':\n",
    "                    return ((tweet_price.iloc[0]/other_price.iloc[0])-1)\n",
    "\n",
    "        if (method=='both') or (method=='forward'):  \n",
    "            if interval=='minutes':\n",
    "                time_forward=tweet_time + self.datetime.timedelta(0,0,0,0,amount)\n",
    "            elif interval=='hours':\n",
    "                time_forward=tweet_time + self.datetime.timedelta(0,0,0,0,0,amount)\n",
    "            elif interval=='days':\n",
    "                time_forward=tweet_time + self.datetime.timedelta(amount,0,0,0,0)\n",
    "            pct_change_forward=calculation(financial_data,time_col_name,time_forward,price_col_name,tweet_price,'forward',\n",
    "                                          logdiff)\n",
    "\n",
    "        if (method=='both') or (method=='backward'): \n",
    "            if interval=='minutes':\n",
    "                time_backward=tweet_time - self.datetime.timedelta(0,0,0,0,amount)   \n",
    "            elif interval=='hours':\n",
    "                time_backward=tweet_time - self.datetime.timedelta(0,0,0,0,0,amount) \n",
    "            elif interval=='days':\n",
    "                time_backward=tweet_time - self.datetime.timedelta(amount,0,0,0,0)\n",
    "            pct_change_backward=calculation(financial_data,time_col_name,time_backward,price_col_name,tweet_price,'backward'\n",
    "                                           ,logdiff)\n",
    "        \n",
    "        if method == 'both':\n",
    "            return self.pd.DataFrame({f'{amount}_{interval}_forward_pct_change':pct_change_forward,\n",
    "                          f'{amount}_{interval}_backward_pct_change':pct_change_backward},index=[0])\n",
    "        elif method=='backward':\n",
    "            return self.pd.DataFrame({f'{amount}_{interval}_backward_pct_change':pct_change_backward},index=[0])\n",
    "        elif method=='forward':\n",
    "            return self.pd.DataFrame({f'{amount}_{interval}_forward_pct_change':pct_change_forward},index=[0])\n",
    "        \n",
    "    def create_pricechg_columns(self,twitter_data,tweet_time_col_name,financial_data,fin_time_col_name,price_col_name,\n",
    "                       interval_amount_dict,method='both',logdiff=True):\n",
    "        from tqdm import tqdm\n",
    "        new_columns=self.pd.DataFrame()\n",
    "        for i, row in tqdm(twitter_data.iterrows()):\n",
    "            temp_df=self.pd.DataFrame()\n",
    "            for interval, amount in interval_amount_dict:\n",
    "                new_df=self.calc_price_change(twitter_data[tweet_time_col_name].loc[i],financial_data,fin_time_col_name,\n",
    "                                                   price_col_name,interval,amount,method,logdiff)\n",
    "                if not isinstance(new_df,float):\n",
    "                    temp_df=self.pd.concat([temp_df,new_df],axis=1)\n",
    "            for item in temp_df.columns:\n",
    "                new_columns.at[i,item] = temp_df.loc[0,item]\n",
    "        return new_columns\n",
    "    \n",
    "    def mean_encoding_tocolumn(self,features_df,categorical_column,target_column):\n",
    "        features_df=features_df[[categorical_column,target_column]]\n",
    "        grouped=features_df.groupby([categorical_column]).mean()\n",
    "        features_df=features_df.merge(grouped,on=categorical_column)\n",
    "        return features_df[f'{target_column}_y']\n",
    "    \n",
    "    def mean_encoding_todict(self,features_df,categorical_column,target_column):\n",
    "        features_df=features_df[[categorical_column,target_column]]\n",
    "        return features_df.groupby([categorical_column]).mean()\n",
    "    \n",
    "    def calculate_sum_volume_diff(self,tweet_time,financial_data,time_col_name,volume_col_name,interval,amount):\n",
    "        #remove seconds to match financial data format\n",
    "        tweet_time=tweet_time.replace(second=0)\n",
    "#         default baseline is set for five minutes before tweet?\n",
    "#       tweet_time_5min_before=tweet_time - self.datetime.timedelta(0,0,0,0,5)\n",
    "        \n",
    "        def calculation(financial_data,time_col_name,time_forward,time_backward,volume_col_name,tweet_time):\n",
    "            forward_volume_sum=sum(financial_data.loc[(financial_data[time_col_name]<=new_time) & \n",
    "                                        (financial_data[time_col_name]>=tweet_time)][volume_col_name])\n",
    "            backward_volume_sum=sum(financial_data.loc[(financial_data[time_col_name]<=tweet_time) & \n",
    "                                        (financial_data[time_col_name]>=time_backward)][volume_col_name])\n",
    "            return self.np.log(forward_volume_sum)-self.np.log(backward_volume_sum)\n",
    "\n",
    "        if interval=='minutes':\n",
    "            time_forward=tweet_time + self.datetime.timedelta(0,0,0,0,amount)\n",
    "            time_backward=tweet_time - self.datetime.timedelta(0,0,0,0,amount)\n",
    "        elif interval=='hours':\n",
    "            time_forward=tweet_time + self.datetime.timedelta(0,0,0,0,0,amount)\n",
    "            time_backward=tweet_time - self.datetime.timedelta(0,0,0,0,0,amount)\n",
    "        elif interval=='days':\n",
    "            time_forward=tweet_time + self.datetime.timedelta(amount,0,0,0,0)\n",
    "            time_backward=tweet_time - self.datetime.timedelta(amount,0,0,0,0)\n",
    "        vol_sum_logdiff=calculation(financial_data,time_col_name,time_forward,time_backward,volume_col_name,tweet_time)\n",
    "\n",
    "        return self.pd.DataFrame({f'{amount}_{interval}_forward_vol_sum':vol_sum_forward},index=[0])\n",
    "        \n",
    "    def create_volumesum_columns(self,twitter_data,tweet_time_col_name,financial_data,fin_time_col_name,volume_col_name,\n",
    "                       interval_amount_dict):\n",
    "        from tqdm import tqdm\n",
    "        new_columns=self.pd.DataFrame()\n",
    "        for i, row in tqdm(twitter_data.iterrows()):\n",
    "            temp_df=self.pd.DataFrame()\n",
    "            for interval, amount in interval_amount_dict:\n",
    "                new_df=self.calculate_sum_volume_diff(twitter_data[tweet_time_col_name].loc[i],financial_data,fin_time_col_name,\n",
    "                                                   volume_col_name,interval,amount)\n",
    "                if not isinstance(new_df,float):\n",
    "                    temp_df=self.pd.concat([temp_df,new_df],axis=1)\n",
    "            for item in temp_df.columns:\n",
    "                new_columns.at[i,item] = temp_df.loc[0,item]\n",
    "        return new_columns\n",
    "    \n",
    "    def fill_missing_fin_data(self,ticker_col_name,stock_exchg_name,start_date,end_date,frequency,fin_time_colname,\n",
    "                          financial_data,volume_colname,price_colname):\n",
    "        ticker_name=financial_data.iloc[0][ticker_col_name]\n",
    "        stock_exchg = self.mcal.get_calendar(stock_exchg_name, open_time=self.datetime.time(5, 30), \n",
    "                                             close_time=self.datetime.time(12, 0))\n",
    "        daterange = stock_exchg.schedule(start_date, end_date)\n",
    "        dates=self.pd.DataFrame(self.mcal.date_range(daterange, frequency).tz_convert(None),columns=[fin_time_colname])\n",
    "\n",
    "#         financial_data[fin_time_colname] = self.pd.to_datetime(financial_data[fin_time_colname], utc = True)\n",
    "\n",
    "        financial_data=dates.merge(financial_data,on=fin_time_colname,how='left')\n",
    "        financial_data[ticker_col_name]=ticker_name\n",
    "\n",
    "        financial_data['SYM_SUFFIX'].fillna(0,inplace=True)\n",
    "\n",
    "        financial_data[volume_colname].fillna(0,inplace=True)\n",
    "        financial_data[price_colname].interpolate(inplace=True)\n",
    "        return financial_data\n",
    "    \n",
    "    def token_matrix(self,text_column,financial_topic_words):\n",
    "        \n",
    "        def check_for_word(token_vector,word):\n",
    "            if word in token_vector:\n",
    "                return 1\n",
    "            else:\n",
    "                return 0\n",
    "            \n",
    "        new_df=self.pd.DataFrame()\n",
    "        for topic_word in fin_topic_words:\n",
    "            new_df[topic_word]=text_column.apply(lambda x:check_for_word(x.lower().split(),topic_word))\n",
    "            \n",
    "        return new_df\n",
    "    \n",
    "    def diff_from_meanlog(self,df,date_colname,numeric_colname):\n",
    "        #This function returns the difference of logs between the original value and that month's average\n",
    "        ins_df=df[[date_colname,numeric_colname]].copy().set_index(date_colname,drop=True).astype(int).resample(\"M\").median()\n",
    "        ins_df[numeric_colname]=self.np.log(ins_df[numeric_colname])\n",
    "        ins_df['month']=ins_df.index.map(str).str[:7]\n",
    "        df['month']=df[date_colname].map(str).str[:7]\n",
    "        averages=df[[date_colname,'month']].merge(ins_df,on='month',how='left')[numeric_colname]\n",
    "        diff=self.np.log(df[numeric_colname])-averages\n",
    "        return diff"
   ]
  },
  {
   "cell_type": "code",
   "execution_count": 6,
   "metadata": {},
   "outputs": [
    {
     "name": "stderr",
     "output_type": "stream",
     "text": [
      "C:\\Users\\natan\\Anaconda3\\lib\\site-packages\\IPython\\core\\interactiveshell.py:3020: DtypeWarning: Columns (5,6,8,11,12,13,15,16,17,18,20) have mixed types. Specify dtype option on import or set low_memory=False.\n",
      "  interactivity=interactivity, compiler=compiler, result=result)\n"
     ]
    }
   ],
   "source": [
    "financial_data=pd.read_csv('04052009-18122019-SPYDIA-minutedata.csv',parse_dates=['DATETIME'])\n",
    "twitter_data=pd.read_csv('trump_tweets_reducted_after_nlp.csv',index_col=0,parse_dates=['created_at_utc'])"
   ]
  },
  {
   "cell_type": "code",
   "execution_count": 7,
   "metadata": {},
   "outputs": [],
   "source": [
    "sp500_data=financial_data[financial_data['SYM_ROOT']=='SPY']\n",
    "dow_data=financial_data[financial_data['SYM_ROOT']=='DIA']"
   ]
  },
  {
   "cell_type": "code",
   "execution_count": 8,
   "metadata": {},
   "outputs": [
    {
     "name": "stdout",
     "output_type": "stream",
     "text": [
      "feature_engine V.0.1 \n",
      "Imported pandas,datetime,pandas_market_calendars,numpy packages\n"
     ]
    }
   ],
   "source": [
    "feat_eng = feature_engine()"
   ]
  },
  {
   "cell_type": "code",
   "execution_count": 9,
   "metadata": {},
   "outputs": [
    {
     "name": "stderr",
     "output_type": "stream",
     "text": [
      "C:\\Users\\natan\\Anaconda3\\lib\\site-packages\\pandas\\core\\series.py:856: RuntimeWarning: divide by zero encountered in log\n",
      "  result = getattr(ufunc, method)(*inputs, **kwargs)\n"
     ]
    }
   ],
   "source": [
    "twitter_data['retweet_count']=feat_eng.diff_from_meanlog(twitter_data,'created_at_utc','retweet_count')\n",
    "twitter_data['favorite_count']=feat_eng.diff_from_meanlog(twitter_data,'created_at_utc','favorite_count')"
   ]
  },
  {
   "cell_type": "code",
   "execution_count": 10,
   "metadata": {},
   "outputs": [],
   "source": [
    "sp500_data=feat_eng.fill_missing_fin_data('SYM_ROOT','NYSE','2009-05-04','2019-12-18','1min','DATETIME',\n",
    "                          sp500_data,'SIZE','PRICE')"
   ]
  },
  {
   "cell_type": "code",
   "execution_count": 11,
   "metadata": {},
   "outputs": [],
   "source": [
    "dow_data=feat_eng.fill_missing_fin_data('SYM_ROOT','NYSE','2009-05-04','2019-12-18','1min','DATETIME',\n",
    "                          dow_data,'SIZE','PRICE')"
   ]
  },
  {
   "cell_type": "code",
   "execution_count": null,
   "metadata": {},
   "outputs": [],
   "source": []
  },
  {
   "cell_type": "code",
   "execution_count": 7,
   "metadata": {},
   "outputs": [
    {
     "name": "stderr",
     "output_type": "stream",
     "text": [
      "25702it [1:29:59,  3.62it/s]\n"
     ]
    }
   ],
   "source": [
    "tweets_finance=feat_eng.create_pricechg_columns(twitter_data,'created_at_utc',dow_data,'DATETIME','PRICE',\n",
    "                       [('minutes',1),('minutes',5),('minutes',10),('minutes',15),('minutes',30),('hours',1),\n",
    "                        ('hours',3),('hours',6),('days',1),('days',5),('days',10),('days',30)],method='forward')"
   ]
  },
  {
   "cell_type": "code",
   "execution_count": 8,
   "metadata": {},
   "outputs": [
    {
     "name": "stderr",
     "output_type": "stream",
     "text": [
      "25702it [6:52:35,  1.32it/s]\n"
     ]
    }
   ],
   "source": [
    "tweets_finance_volume=feat_eng.create_volumesum_columns(twitter_data,'created_at_utc',dow_data,'DATETIME','SIZE',\n",
    "                       [('minutes',1),('minutes',5),('minutes',10),('minutes',15),('minutes',30),('hours',1),\n",
    "                        ('hours',3),('hours',6),('days',1),('days',5),('days',10),('days',30)],method='forward')"
   ]
  },
  {
   "cell_type": "code",
   "execution_count": 9,
   "metadata": {},
   "outputs": [],
   "source": [
    "twitter_data_with_finance=twitter_data.join(tweets_finance)"
   ]
  },
  {
   "cell_type": "code",
   "execution_count": 10,
   "metadata": {},
   "outputs": [],
   "source": [
    "twitter_data_with_finance=twitter_data_with_finance.join(tweets_finance_volume)"
   ]
  },
  {
   "cell_type": "code",
   "execution_count": 31,
   "metadata": {},
   "outputs": [],
   "source": [
    "twitter_data_with_finance_for_analysis=twitter_data_with_finance.copy()"
   ]
  },
  {
   "cell_type": "code",
   "execution_count": 32,
   "metadata": {},
   "outputs": [],
   "source": [
    "twitter_data_with_finance_for_analysis.drop(['coordinates','extended_entities','geo','hashtags','in_reply_to_screen_name',\n",
    "                                             'in_reply_to_status_id','in_reply_to_user_id','is_quote_status','is_retweet',\n",
    "                                             'lang','place','possibly_sensitive','quoted_status','quoted_status_id','id',\n",
    "                                             'retweeted_status','retrieved_utc'],1,inplace=True)"
   ]
  },
  {
   "cell_type": "code",
   "execution_count": 33,
   "metadata": {},
   "outputs": [],
   "source": [
    "twitter_data_with_finance_for_analysis=twitter_data_with_finance_for_analysis.join(pd.get_dummies(twitter_data_with_finance_for_analysis['source']))"
   ]
  },
  {
   "cell_type": "code",
   "execution_count": 34,
   "metadata": {},
   "outputs": [],
   "source": [
    "twitter_data_with_finance_for_analysis.drop(['source','truncated','user_mentions'],1,inplace=True)"
   ]
  },
  {
   "cell_type": "code",
   "execution_count": 35,
   "metadata": {},
   "outputs": [],
   "source": [
    "fin_topic_words=['deal','deals','china','chinese','nafta','market','markets','stock','stocks','trade','trades','trading','tax',\n",
    "             'taxes','taxation','rate','rates','unemployment','jobs','manafacture','manafacturers','dollar','dollars','$',\n",
    "             'billion','billions','consumer','consumers','reserve','gdp','growth','bank','banks','debt','factories',\n",
    "             'revenue','spending','deficit','economy','economies','economist','economic','economists','money',\n",
    "             'tariff','tariffs','companies','inflation','refinance','finance','financial','currency','depreciating',\n",
    "             'depreceate','fed','business','businesses','bankruptcy','price','prices','products','opec','investment',\n",
    "             'savings','cents','cent','corporate','corporates','deficits','dow','nasdaq','labor','purchase','500',\n",
    "             'industry','industries']"
   ]
  },
  {
   "cell_type": "code",
   "execution_count": 36,
   "metadata": {},
   "outputs": [],
   "source": [
    "financial_words_matrix=feat_eng.token_matrix(twitter_data_with_finance_for_analysis['text'],fin_topic_words)"
   ]
  },
  {
   "cell_type": "code",
   "execution_count": 37,
   "metadata": {},
   "outputs": [],
   "source": [
    "twitter_data_with_finance_for_analysis=twitter_data_with_finance_for_analysis.join(financial_words_matrix)"
   ]
  },
  {
   "cell_type": "code",
   "execution_count": 38,
   "metadata": {},
   "outputs": [],
   "source": [
    "twitter_data_with_finance_for_analysis['trump_president']=twitter_data_with_finance_for_analysis['created_at_utc']>='2016-11-08 22:00:00'"
   ]
  },
  {
   "cell_type": "code",
   "execution_count": 19,
   "metadata": {},
   "outputs": [],
   "source": [
    "twitter_data_with_finance_for_analysis.drop('text',1,inplace=True)"
   ]
  },
  {
   "cell_type": "code",
   "execution_count": 20,
   "metadata": {},
   "outputs": [],
   "source": [
    "twitter_data_with_finance_for_analysis=twitter_data_with_finance_for_analysis.join(pd.get_dummies(twitter_data_with_finance_for_analysis['lda_topic']))"
   ]
  },
  {
   "cell_type": "code",
   "execution_count": 21,
   "metadata": {},
   "outputs": [],
   "source": [
    "twitter_data_with_finance_for_analysis.drop('lda_topic',1,inplace=True)"
   ]
  },
  {
   "cell_type": "code",
   "execution_count": 22,
   "metadata": {},
   "outputs": [],
   "source": [
    "twitter_data_with_finance_for_analysis.to_csv('twitter_data_with_dowjones_for_analysis.csv')"
   ]
  },
  {
   "cell_type": "code",
   "execution_count": null,
   "metadata": {},
   "outputs": [],
   "source": []
  },
  {
   "cell_type": "code",
   "execution_count": 48,
   "metadata": {},
   "outputs": [
    {
     "name": "stdout",
     "output_type": "stream",
     "text": [
      "China is stealing our jobs. We need to demand China stop manipulating its currency and end its rampant corporate espionage.\n",
      "China is threatening Washington over the currency bill.  We should pass it immediately.\n",
      "Stop \"The China Curse\" -- Pass the Chinese Currency Bill!\n",
      "@Johnboehner: Stop \"The China Curse\" --- Pass the China Currency Bill!\n",
      "When will Washington stand up to China. China is manipulating its currency and stealing our jobs. Washington should move on legislation.\n",
      "Getting China to stop playing its currency charades can begin whenever we elect a president ready to take decisive action. #TimeToGetTough\n",
      "“China presents three big threats to the United States in its outrageous currency manipulation its systematic (cont) http://t.co/6hW0AcJE\n",
      "Why is @MittRomney the only guy who talks about getting tough with China and their currency manipulation?\n",
      "The military threat from China is gigantic--and it's no surprise that the Communist Chinese government lies (cont) http://t.co/n6AbRrUY,03-06-2012 20:32:09,36,9,false,177129464529043456\n",
      "TwitLonger Beta,While China screws us with every turn of its currency is the biggest commercial espionage threat we face (cont) http://t.co/l7pTVJkb\n",
      "Getting China to stop playing its currency charades can begin whenever we elect a president ready to take (cont) http://t.co/FrP19xiK,03-08-2012 20:39:12,42,4,false,177856011917467648\n",
      "TwitLonger Beta,That's what I find so morally offensive about welfare dependency: it robs people of the chance to improve. Work (cont) http://t.co/51iamOjX\n",
      "@MittRomney studying ways to increase pressure on China over their currency manipulation and unfair subsidy practices http://t.co/34Wzc9Xo\n",
      "China's currency manipulation is one of our nation's greatest sovereign threats. The yuan has appreciated 40% against our dollar since 2005.\n",
      "Once again Obama fails to classify China as a currency manipulator. He just helped China steal even more jobs and money from us.\n",
      "Romney Ryan Slam Obama Administration on China Currency Manipulation http://t.co/K6xUXSwa via @ABC\n",
      "You can’t know it all yourself--anyone who thinks that they do is destined for mediocrity.” -- The Way To The Top,11-28-2012 21:57:22,351,137,false,273908466320560128\n",
      "Twitter Web Client,“The most important thing in communication is hearing what isn't said.” -- Peter Drucker,11-28-2012 21:55:19,810,302,false,273907952572846080\n",
      "Twitter Web Client,7 of 10 Americans prefer 'Merry Christmas' over 'Happy Holidays' http://t.co/Xjimd3KU  No surprise.,11-28-2012 21:51:02,1028,440,false,273906873156132864\n",
      "Twitter Web Client,Pervert alert–serial sexter @RepWeiner is making another step towards a comeback http://t.co/69UrtKYG All girls under 18 should block him.,11-28-2012 21:31:18,563,434,false,273901906651381760\n",
      "Twitter Web Client,Gabriel Aubry should learn how to fight—he became a punching bag. Always drama with Halle B!,11-28-2012 21:22:55,100,31,false,273899798044753920\n",
      "Twitter Web Client,Susan Rice is a good woman but Pres. O should not taunt the Republicans by appointing her S of S...,11-28-2012 20:46:25,72,22,false,273890614175739904\n",
      "Twitter Web Client,...Get along &amp; make deals for the good of the country!,11-28-2012 20:46:22,153,46,false,273890598996549633\n",
      "Twitter Web Client,Be sure to visit the world renowned Trump Tower Atrium to see our holiday decorations.http://t.co/77T7dnHW,11-28-2012 20:30:02,33,22,false,273886491044892673\n",
      "Twitter Web Client,Why do the Republicans always negotiate against themselves in public?  Watching them operate these fiscal negotiations is painful.,11-28-2012 20:21:35,210,69,false,273884361798086656\n",
      "Twitter Web Client,Treasury has refused to name China a currency manipulator even though the yuan “remains significantly undervalued” http://t.co/rHHCXhEQ,11-28-2012 19:50:15,84,20,false,273876477756465152\n",
      "Twitter Web Client,I still can’t get over how the Republicans—my friends—spent hundreds of millions of dollars on such terrible &amp; ineffective ads.,11-28-2012 19:24:53,160,84,false,273870093841223680\n",
      "Twitter Web Client,I just left the Doral in Miami--it is going to be amazing!http://t.co/evfQOIPQ,11-28-2012 19:06:43,35,19,false,273865521559126016\n",
      "Twitter Web Client,Anthony Hopkins is a truly great actor--I love everything he does!,11-28-2012 18:59:15,143,84,false,273863645291753474\n",
      "Twitter Web Client,“Face reality as it is not as it was or as you wish it to be.” -- @jack_welch,11-28-2012 18:42:02,397,165,false,273859310520528898\n",
      "Twitter Web Client,You can benefit from others’ wisdom. Not just their mistakes but the good decisions and insight they have to offer.” -- The Way To The Top\n",
      "China keeps manipulating its currency at our financial expense.  Why do our leaders continually let China run all over us?\n",
      "China has announced it is “fully prepared” for a currency war http://t.co/e9ZE2OrLqn Outrageous - they have no fear of our leaders.\n",
      "New reality. Yuan just passed the Euro as 2nd most traded finance currency http://t.co/emAgwnMQXv  Our leaders better get smart fast.\n",
      "@nikkio:  Good interview on O'Reilly - Many people r unaware how foreigners play around w/ currency to win trade over USA companies.\n",
      "I want to negotiate my own and much better trade deals for our country. MUST INCLUDE CURRENCY MANIPULATION (and more). DO NOT LET PASS!\n",
      "The Trans-Pacific Partnership is an attack on America's business. It does not  stop Japan's currency manipulation. This is a bad deal.\n",
      ".@PennyPritzker Really important to cover currency manipulation in trade agreements - that's where China and others are beating us. Best!\n",
      "TPP does not stop Japan’s currency manipulation &amp; China has a backdoor to join. It must be stopped. We need to protect the American worker!\n",
      "Why would I call China a currency manipulator when they are working with us on the North Korean problem? We will see what happens!\n",
      "Our founders invoked our Creator four times in the Declaration of Independence. Our currency declares “IN GOD WE TRUST.” And we place our hands on our hearts as we recite the Pledge of Allegiance and proclaim that we are “One Nation Under God.” #NationalPrayerBreakfast https://t.co/zukP40Ezpo\n",
      "....The United States should not be penalized because we are doing so well. Tightening now hurts all that we have done. The U.S. should be allowed to recapture what was lost due to illegal currency manipulation and BAD Trade Deals. Debt coming due &amp; we are raising rates - Really?\n",
      "China and Europe playing big currency manipulation game and pumping money into their system in order to compete with USA. We should MATCH or continue being the dummies who sit back and politely watch as other countries continue to play their games - as they have for many years!\n",
      "...and International. We have only one real currency in the USA and it is stronger than ever both dependable and reliable. It is by far the most dominant currency anywhere in the World and it will always stay that way. It is called the United States Dollar!\n",
      ".....if Mexico produces (which I think they will). Biggest part of deal with Mexico has not yet been revealed! China is similar except they devalue currency &amp; subsidize companies to lessen effect of 25% Tariffs. So far little effect to consumers. Companies will relocate to U.S.\n",
      "China dropped the price of their currency to an almost a historic low. It’s called “currency manipulation.” Are you listening Federal Reserve? This is a major violation which will greatly weaken China over time!\n",
      "Based on the historic currency manipulation by China it is now even more obvious to everyone that Americans are not paying for the Tariffs – they are being paid for compliments of China and the U.S. is taking in tens of Billions of Dollars! China has always....\n",
      "....used currency manipulation to steal our businesses and factories hurt our jobs depress our workers’ wages and harm our farmers’ prices. Not anymore!\n",
      "China is intent on continuing to receive the hundreds of Billions of Dollars they have been taking from the U.S. with unfair trade practices and currency manipulation. So one-sided it should have been stopped many years ago!\n",
      "“Three more Central Banks cut rates.” Our problem is not China - We are stronger than ever money is pouring into the U.S. while China is losing companies by the thousands to other countries and their currency is under siege - Our problem is a Federal Reserve that is too.....\n",
      "Through massive devaluation of their currency and pumping vast sums of money into their system the tens of billions of dollars that the U.S. is receiving is a gift from China. Prices not up no inflation. Farmers getting more than China would be spending. Fake News won’t report!\n",
      "Good things were stated on the call with China the other day. They are eating the Tariffs with the devaluation of their currency and “pouring” money into their system. The American consumer is fine with or without the September date but much good will come from the short.....\n",
      "Peter Morici Economist: Tariffs will not impact American consumers that much because the Chinese currency has gone down which gives our importers a discount. Importers can find suppliers outside of China. Absolutely worth it we don’t want to be servants to the Chinese! This...\n",
      "Germany and so many other countries have negative interest rates “they get paid for loaning money” and our Federal Reserve fails to act! Remember these are also our weak currency competitors!\n",
      "The Federal Reserve should get our interest rates down to ZERO or less and we should then start to refinance our debt. INTEREST COST COULD BE BROUGHT WAY DOWN while at the same time substantially lengthening the term. We have the great currency power and balance sheet.....\n",
      "Producer prices in China shrank most in 3 years due to China’s big devaluation of their currency coupled with monetary stimulus. Federal Reserve not watching? Will Fed ever get into the game? Dollar strongest EVER! Really bad for exports. No Inflation...Highest Interest Rates...\n",
      ".@60Minutes “forgot” to report that we are helping the great farmers of the USA to the tune of 28 Billion Dollars for the last two years paid for out of Tariffs paid to the United States by China for targeting the farmer. They devalued their currency therefore paying the cost!\n"
     ]
    }
   ],
   "source": [
    "for x in twitter_data_with_finance_for_analysis[twitter_data_with_finance_for_analysis['currency']==1]['text']:\n",
    "    print(x)"
   ]
  },
  {
   "cell_type": "code",
   "execution_count": null,
   "metadata": {},
   "outputs": [],
   "source": []
  },
  {
   "cell_type": "code",
   "execution_count": null,
   "metadata": {},
   "outputs": [],
   "source": []
  },
  {
   "cell_type": "code",
   "execution_count": null,
   "metadata": {},
   "outputs": [],
   "source": []
  },
  {
   "cell_type": "code",
   "execution_count": null,
   "metadata": {},
   "outputs": [],
   "source": []
  },
  {
   "cell_type": "code",
   "execution_count": null,
   "metadata": {},
   "outputs": [],
   "source": []
  },
  {
   "cell_type": "code",
   "execution_count": null,
   "metadata": {},
   "outputs": [],
   "source": []
  },
  {
   "cell_type": "code",
   "execution_count": null,
   "metadata": {},
   "outputs": [],
   "source": []
  },
  {
   "cell_type": "code",
   "execution_count": null,
   "metadata": {},
   "outputs": [],
   "source": []
  },
  {
   "cell_type": "code",
   "execution_count": null,
   "metadata": {},
   "outputs": [],
   "source": []
  }
 ],
 "metadata": {
  "kernelspec": {
   "display_name": "Python 3",
   "language": "python",
   "name": "python3"
  },
  "language_info": {
   "codemirror_mode": {
    "name": "ipython",
    "version": 3
   },
   "file_extension": ".py",
   "mimetype": "text/x-python",
   "name": "python",
   "nbconvert_exporter": "python",
   "pygments_lexer": "ipython3",
   "version": "3.7.1"
  }
 },
 "nbformat": 4,
 "nbformat_minor": 2
}
