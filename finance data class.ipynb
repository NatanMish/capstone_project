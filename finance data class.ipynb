{
 "cells": [
  {
   "cell_type": "code",
   "execution_count": 29,
   "metadata": {},
   "outputs": [],
   "source": [
    "# class get_yfinance:\n",
    "#     yf = __import__('yfinance')\n",
    "    \n",
    "#     def __init__(self):\n",
    "#         print('get_finance V.0.1 \\nImported yfinance packages')\n",
    "        \n",
    "#     def historical_ticker(self,ticker):\n",
    "#         data = self.yf.download(\"VIX\", period=\"max\",interval=\"1m\")\n",
    "#         return data"
   ]
  },
  {
   "cell_type": "code",
   "execution_count": 30,
   "metadata": {},
   "outputs": [
    {
     "name": "stdout",
     "output_type": "stream",
     "text": [
      "get_finance V.0.1 \n",
      "Imported yfinance packages\n"
     ]
    }
   ],
   "source": [
    "# gf=get_finance()"
   ]
  },
  {
   "cell_type": "code",
   "execution_count": 31,
   "metadata": {},
   "outputs": [
    {
     "name": "stdout",
     "output_type": "stream",
     "text": [
      "[*********************100%***********************]  1 of 1 completed\n"
     ]
    }
   ],
   "source": [
    "# df=gf.historical_ticker('VIX')"
   ]
  },
  {
   "cell_type": "code",
   "execution_count": 32,
   "metadata": {},
   "outputs": [
    {
     "data": {
      "text/html": [
       "<div>\n",
       "<style scoped>\n",
       "    .dataframe tbody tr th:only-of-type {\n",
       "        vertical-align: middle;\n",
       "    }\n",
       "\n",
       "    .dataframe tbody tr th {\n",
       "        vertical-align: top;\n",
       "    }\n",
       "\n",
       "    .dataframe thead th {\n",
       "        text-align: right;\n",
       "    }\n",
       "</style>\n",
       "<table border=\"1\" class=\"dataframe\">\n",
       "  <thead>\n",
       "    <tr style=\"text-align: right;\">\n",
       "      <th></th>\n",
       "      <th>Open</th>\n",
       "      <th>High</th>\n",
       "      <th>Low</th>\n",
       "      <th>Close</th>\n",
       "      <th>Adj Close</th>\n",
       "      <th>Volume</th>\n",
       "    </tr>\n",
       "    <tr>\n",
       "      <th>Datetime</th>\n",
       "      <th></th>\n",
       "      <th></th>\n",
       "      <th></th>\n",
       "      <th></th>\n",
       "      <th></th>\n",
       "      <th></th>\n",
       "    </tr>\n",
       "  </thead>\n",
       "  <tbody>\n",
       "    <tr>\n",
       "      <th>2014-12-04 09:30:00-05:00</th>\n",
       "      <td>28200.400391</td>\n",
       "      <td>30096.900391</td>\n",
       "      <td>27953.000000</td>\n",
       "      <td>28447.699219</td>\n",
       "      <td>28447.699219</td>\n",
       "      <td>811330</td>\n",
       "    </tr>\n",
       "    <tr>\n",
       "      <th>2014-12-05 09:30:00-05:00</th>\n",
       "      <td>26551.199219</td>\n",
       "      <td>27540.699219</td>\n",
       "      <td>25974.000000</td>\n",
       "      <td>26056.500000</td>\n",
       "      <td>26056.500000</td>\n",
       "      <td>377529</td>\n",
       "    </tr>\n",
       "    <tr>\n",
       "      <th>2014-12-08 09:30:00-05:00</th>\n",
       "      <td>25231.900391</td>\n",
       "      <td>26056.500000</td>\n",
       "      <td>23582.800781</td>\n",
       "      <td>23582.800781</td>\n",
       "      <td>23582.800781</td>\n",
       "      <td>367585</td>\n",
       "    </tr>\n",
       "    <tr>\n",
       "      <th>2014-12-09 09:30:00-05:00</th>\n",
       "      <td>23582.800781</td>\n",
       "      <td>23582.800781</td>\n",
       "      <td>21274.000000</td>\n",
       "      <td>21274.000000</td>\n",
       "      <td>21274.000000</td>\n",
       "      <td>570963</td>\n",
       "    </tr>\n",
       "    <tr>\n",
       "      <th>2014-12-10 09:30:00-05:00</th>\n",
       "      <td>19789.699219</td>\n",
       "      <td>20202.000000</td>\n",
       "      <td>19212.500000</td>\n",
       "      <td>19295.000000</td>\n",
       "      <td>19295.000000</td>\n",
       "      <td>539795</td>\n",
       "    </tr>\n",
       "    <tr>\n",
       "      <th>...</th>\n",
       "      <td>...</td>\n",
       "      <td>...</td>\n",
       "      <td>...</td>\n",
       "      <td>...</td>\n",
       "      <td>...</td>\n",
       "      <td>...</td>\n",
       "    </tr>\n",
       "    <tr>\n",
       "      <th>2018-01-22 09:30:00-05:00</th>\n",
       "      <td>9900.000000</td>\n",
       "      <td>10000.000000</td>\n",
       "      <td>9600.000000</td>\n",
       "      <td>9800.000000</td>\n",
       "      <td>9800.000000</td>\n",
       "      <td>257523</td>\n",
       "    </tr>\n",
       "    <tr>\n",
       "      <th>2018-01-23 09:30:00-05:00</th>\n",
       "      <td>9900.000000</td>\n",
       "      <td>9900.000000</td>\n",
       "      <td>9700.000000</td>\n",
       "      <td>9900.000000</td>\n",
       "      <td>9900.000000</td>\n",
       "      <td>184915</td>\n",
       "    </tr>\n",
       "    <tr>\n",
       "      <th>2018-01-26 09:30:00-05:00</th>\n",
       "      <td>9300.000000</td>\n",
       "      <td>9500.000000</td>\n",
       "      <td>8400.000000</td>\n",
       "      <td>9300.000000</td>\n",
       "      <td>9300.000000</td>\n",
       "      <td>277990</td>\n",
       "    </tr>\n",
       "    <tr>\n",
       "      <th>2018-01-30 09:30:00-05:00</th>\n",
       "      <td>9700.000000</td>\n",
       "      <td>9700.000000</td>\n",
       "      <td>9300.000000</td>\n",
       "      <td>9300.000000</td>\n",
       "      <td>9300.000000</td>\n",
       "      <td>311049</td>\n",
       "    </tr>\n",
       "    <tr>\n",
       "      <th>2018-01-31 09:30:00-05:00</th>\n",
       "      <td>9400.000000</td>\n",
       "      <td>9400.000000</td>\n",
       "      <td>9100.000000</td>\n",
       "      <td>9300.000000</td>\n",
       "      <td>9300.000000</td>\n",
       "      <td>82483</td>\n",
       "    </tr>\n",
       "  </tbody>\n",
       "</table>\n",
       "<p>787 rows × 6 columns</p>\n",
       "</div>"
      ],
      "text/plain": [
       "                                   Open          High           Low  \\\n",
       "Datetime                                                              \n",
       "2014-12-04 09:30:00-05:00  28200.400391  30096.900391  27953.000000   \n",
       "2014-12-05 09:30:00-05:00  26551.199219  27540.699219  25974.000000   \n",
       "2014-12-08 09:30:00-05:00  25231.900391  26056.500000  23582.800781   \n",
       "2014-12-09 09:30:00-05:00  23582.800781  23582.800781  21274.000000   \n",
       "2014-12-10 09:30:00-05:00  19789.699219  20202.000000  19212.500000   \n",
       "...                                 ...           ...           ...   \n",
       "2018-01-22 09:30:00-05:00   9900.000000  10000.000000   9600.000000   \n",
       "2018-01-23 09:30:00-05:00   9900.000000   9900.000000   9700.000000   \n",
       "2018-01-26 09:30:00-05:00   9300.000000   9500.000000   8400.000000   \n",
       "2018-01-30 09:30:00-05:00   9700.000000   9700.000000   9300.000000   \n",
       "2018-01-31 09:30:00-05:00   9400.000000   9400.000000   9100.000000   \n",
       "\n",
       "                                  Close     Adj Close  Volume  \n",
       "Datetime                                                       \n",
       "2014-12-04 09:30:00-05:00  28447.699219  28447.699219  811330  \n",
       "2014-12-05 09:30:00-05:00  26056.500000  26056.500000  377529  \n",
       "2014-12-08 09:30:00-05:00  23582.800781  23582.800781  367585  \n",
       "2014-12-09 09:30:00-05:00  21274.000000  21274.000000  570963  \n",
       "2014-12-10 09:30:00-05:00  19295.000000  19295.000000  539795  \n",
       "...                                 ...           ...     ...  \n",
       "2018-01-22 09:30:00-05:00   9800.000000   9800.000000  257523  \n",
       "2018-01-23 09:30:00-05:00   9900.000000   9900.000000  184915  \n",
       "2018-01-26 09:30:00-05:00   9300.000000   9300.000000  277990  \n",
       "2018-01-30 09:30:00-05:00   9300.000000   9300.000000  311049  \n",
       "2018-01-31 09:30:00-05:00   9300.000000   9300.000000   82483  \n",
       "\n",
       "[787 rows x 6 columns]"
      ]
     },
     "execution_count": 32,
     "metadata": {},
     "output_type": "execute_result"
    }
   ],
   "source": [
    "# df"
   ]
  },
  {
   "cell_type": "code",
   "execution_count": 34,
   "metadata": {},
   "outputs": [],
   "source": [
    "class get_finance:\n",
    "    \n",
    "    def __init__(self):\n",
    "        print('get_finance V.0.1 \\nImported alpha_vantage packages')\n",
    "        \n",
    "    def historical_ticker(self,token,ticker):\n",
    "        from alpha_vantage.timeseries import TimeSeries\n",
    "        ts = TimeSeries(key=token, output_format='pandas')\n",
    "        data, meta_data = ts.get_daily(symbol='VIX', outputsize='full')\n",
    "        return data,meta_data"
   ]
  },
  {
   "cell_type": "code",
   "execution_count": 35,
   "metadata": {},
   "outputs": [
    {
     "name": "stdout",
     "output_type": "stream",
     "text": [
      "get_finance V.0.1 \n",
      "Imported alpha_vantage packages\n"
     ]
    }
   ],
   "source": [
    "gf=get_finance()\n",
    "df,meta = gf.historical_ticker('K23ZOZEFSJRINVU8','VIX')"
   ]
  },
  {
   "cell_type": "code",
   "execution_count": 36,
   "metadata": {},
   "outputs": [
    {
     "data": {
      "text/plain": [
       "[<matplotlib.lines.Line2D at 0x2266a764438>]"
      ]
     },
     "execution_count": 36,
     "metadata": {},
     "output_type": "execute_result"
    },
    {
     "data": {
      "image/png": "[encoded data removed]",
      "text/plain": [
       "<Figure size 432x288 with 1 Axes>"
      ]
     },
     "metadata": {
      "needs_background": "light"
     },
     "output_type": "display_data"
    }
   ],
   "source": [
    "import matplotlib.pyplot as plt\n",
    "plt.plot(df.index,df['4. close'])"
   ]
  },
  {
   "cell_type": "code",
   "execution_count": null,
   "metadata": {},
   "outputs": [],
   "source": []
  },
  {
   "cell_type": "code",
   "execution_count": null,
   "metadata": {},
   "outputs": [],
   "source": []
  },
  {
   "cell_type": "code",
   "execution_count": null,
   "metadata": {},
   "outputs": [],
   "source": []
  },
  {
   "cell_type": "code",
   "execution_count": null,
   "metadata": {},
   "outputs": [],
   "source": []
  },
  {
   "cell_type": "code",
   "execution_count": null,
   "metadata": {},
   "outputs": [],
   "source": []
  }
 ],
 "metadata": {
  "kernelspec": {
   "display_name": "Python 3",
   "language": "python",
   "name": "python3"
  },
  "language_info": {
   "codemirror_mode": {
    "name": "ipython",
    "version": 3
   },
   "file_extension": ".py",
   "mimetype": "text/x-python",
   "name": "python",
   "nbconvert_exporter": "python",
   "pygments_lexer": "ipython3",
   "version": "3.7.1"
  }
 },
 "nbformat": 4,
 "nbformat_minor": 2
}
