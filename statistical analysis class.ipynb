{
 "cells": [
  {
   "cell_type": "code",
   "execution_count": 1,
   "metadata": {},
   "outputs": [
    {
     "name": "stderr",
     "output_type": "stream",
     "text": [
      "C:\\Users\\natan\\Anaconda3\\lib\\site-packages\\statsmodels\\compat\\pandas.py:49: FutureWarning: The Panel class is removed from pandas. Accessing it from the top-level namespace will also be removed in the next version\n",
      "  data_klasses = (pandas.Series, pandas.DataFrame, pandas.Panel)\n"
     ]
    }
   ],
   "source": [
    "import pandas as pd\n",
    "import statsmodels.api as sm\n",
    "import numpy as np\n",
    "import time"
   ]
  },
  {
   "cell_type": "code",
   "execution_count": 2,
   "metadata": {},
   "outputs": [],
   "source": [
    "# class feature_engine:\n",
    "    \n",
    "#     pd = __import__('pandas')\n",
    "#     datetime = __import__('datetime')\n",
    "#     mcal = __import__('pandas_market_calendars')\n",
    "#     np = __import__('numpy')\n",
    "    \n",
    "#     def __init__(self):\n",
    "#         print('feature_engine V.0.1 \\nImported pandas,datetime,pandas_market_calendars,numpy packages')"
   ]
  },
  {
   "cell_type": "code",
   "execution_count": 50,
   "metadata": {},
   "outputs": [],
   "source": [
    "df=pd.read_csv('twitter_data_with_sp500_for_analysis.csv',parse_dates=['created_at_utc'],index_col=0)"
   ]
  },
  {
   "cell_type": "code",
   "execution_count": 59,
   "metadata": {},
   "outputs": [],
   "source": [
    "X=df[['created_at_utc','favorite_count','retweet_count','financial_topic','sentiment','Facebook',\n",
    "'Instagram',\n",
    "'Media Studio',\n",
    "'Mobile Web (M5)',\n",
    "'Neatly For BlackBerry 10',\n",
    "'Periscope',\n",
    "'TweetDeck',\n",
    "'TwitLonger Beta',\n",
    "'Twitlonger',\n",
    "'Twitter Ads',\n",
    "'Twitter Media Studio',\n",
    "'Twitter Mirror for iPad',\n",
    "'Twitter QandA',\n",
    "'Twitter Web App',\n",
    "'Twitter Web Client',\n",
    "'Twitter for Android',\n",
    "'Twitter for BlackBerry',\n",
    "'Twitter for Websites',\n",
    "'Twitter for iPad',\n",
    "'Twitter for iPhone',\n",
    "'Vine - Make a Scene'\n",
    "'deal',\n",
    "'deals',\n",
    "'china',\n",
    "'chinese',\n",
    "'nafta',\n",
    "'market',\n",
    "'markets',\n",
    "'stock',\n",
    "'stocks',\n",
    "'trade',\n",
    "'trades',\n",
    "'trading',\n",
    "'tax',\n",
    "'taxes',\n",
    "'taxation',\n",
    "'rate',\n",
    "'rates',\n",
    "'unemployment',\n",
    "'jobs',\n",
    "'manafacture',\n",
    "'manafacturers',\n",
    "'dollar',\n",
    "'dollars',\n",
    "'$',\n",
    "'billion',\n",
    "'billions',\n",
    "'consumer',\n",
    "'consumers',\n",
    "'reserve',\n",
    "'gdp',\n",
    "'growth',\n",
    "'bank',\n",
    "'banks',\n",
    "'debt',\n",
    "'factories',\n",
    "'revenue',\n",
    "'spending',\n",
    "'deficit',\n",
    "'economy',\n",
    "'economies',\n",
    "'economist',\n",
    "'economic',\n",
    "'economists',\n",
    "'money',\n",
    "'tariff',\n",
    "'tariffs',\n",
    "'companies',\n",
    "'inflation',\n",
    "'refinance',\n",
    "'finance',\n",
    "'financial',\n",
    "'currency',\n",
    "'depreciating',\n",
    "'depreceate',\n",
    "'fed',\n",
    "'business',\n",
    "'businesses',\n",
    "'bankruptcy',\n",
    "'price',\n",
    "'prices',\n",
    "'products',\n",
    "'opec',\n",
    "'investment',\n",
    "'savings',\n",
    "'cents',\n",
    "'cent',\n",
    "'corporate',\n",
    "'corporates',\n",
    "'deficits',\n",
    "'dow',\n",
    "'nasdaq',\n",
    "'labor',\n",
    "'purchase',\n",
    "'500',\n",
    "'industry',\n",
    "'industries',\n",
    "'trump_president'\n",
    "     ]].copy()"
   ]
  },
  {
   "cell_type": "code",
   "execution_count": 60,
   "metadata": {},
   "outputs": [],
   "source": [
    "y=df[['1_minutes_forward_pct_change',\n",
    "'5_minutes_forward_pct_change',\n",
    "'10_minutes_forward_pct_change',\n",
    "'15_minutes_forward_pct_change',\n",
    "'30_minutes_forward_pct_change',\n",
    "'1_hours_forward_pct_change',\n",
    "'3_hours_forward_pct_change',\n",
    "'6_hours_forward_pct_change',\n",
    "'1_days_forward_pct_change',\n",
    "'5_days_forward_pct_change',\n",
    "'10_days_forward_pct_change',\n",
    "'30_days_forward_pct_change',\n",
    "'1_minutes_forward_vol_sum',\n",
    "'5_minutes_forward_vol_sum',\n",
    "'10_minutes_forward_vol_sum',\n",
    "'15_minutes_forward_vol_sum',\n",
    "'30_minutes_forward_vol_sum',\n",
    "'1_hours_forward_vol_sum',\n",
    "'3_hours_forward_vol_sum',\n",
    "'6_hours_forward_vol_sum',\n",
    "'1_days_forward_vol_sum',\n",
    "'5_days_forward_vol_sum',\n",
    "'10_days_forward_vol_sum',\n",
    "'30_days_forward_vol_sum']].copy()"
   ]
  },
  {
   "cell_type": "code",
   "execution_count": 16,
   "metadata": {},
   "outputs": [],
   "source": [
    "# X['trumppresident_financial'] = X[['trump_president','financial_topic']].product(axis=1)"
   ]
  },
  {
   "cell_type": "code",
   "execution_count": 61,
   "metadata": {},
   "outputs": [],
   "source": [
    "inspect_df=pd.concat([X.loc[~y['15_minutes_forward_pct_change'].isna()],y['15_minutes_forward_pct_change'].dropna()],axis=1)"
   ]
  },
  {
   "cell_type": "code",
   "execution_count": 62,
   "metadata": {},
   "outputs": [],
   "source": [
    "inspect_df=inspect_df.loc[inspect_df['created_at_utc']>='2016-11-20 00:00:00'].copy()\n",
    "# inspect_df.drop(['trump_president'],axis=1,inplace=True)"
   ]
  },
  {
   "cell_type": "code",
   "execution_count": 63,
   "metadata": {},
   "outputs": [],
   "source": [
    "inspect_df.drop('created_at_utc',1,inplace=True)"
   ]
  },
  {
   "cell_type": "code",
   "execution_count": 64,
   "metadata": {},
   "outputs": [],
   "source": [
    "inspect_df=inspect_df.astype('float64')"
   ]
  },
  {
   "cell_type": "code",
   "execution_count": null,
   "metadata": {},
   "outputs": [],
   "source": []
  },
  {
   "cell_type": "code",
   "execution_count": 46,
   "metadata": {},
   "outputs": [],
   "source": [
    "# for x in inspect_df.columns[:-1]:\n",
    "#     inspect_df[x] = inspect_df[[x,'sentiment','favorite_count','retweet_count']].product(axis=1)\n",
    "\n",
    "# for x in inspect_df.columns[:-1]:\n",
    "#     inspect_df[x] = np.log(inspect_df[[x,'favorite_count','retweet_count']].product(axis=1))\n",
    "# inspect_df=inspect_df.replace([np.inf, -np.inf, np.nan], 0)"
   ]
  },
  {
   "cell_type": "code",
   "execution_count": 47,
   "metadata": {},
   "outputs": [],
   "source": [
    "# inspect_df.drop(['sentiment','favorite_count','retweet_count'],axis=1,inplace=True)\n",
    "\n",
    "# inspect_df.drop(['favorite_count','retweet_count'],axis=1,inplace=True)"
   ]
  },
  {
   "cell_type": "code",
   "execution_count": 65,
   "metadata": {},
   "outputs": [],
   "source": [
    "mod = sm.OLS(inspect_df.iloc[:,-1],inspect_df.iloc[:,:-1])\n",
    "res = mod.fit()"
   ]
  },
  {
   "cell_type": "code",
   "execution_count": 66,
   "metadata": {},
   "outputs": [
    {
     "name": "stdout",
     "output_type": "stream",
     "text": [
      "                                  OLS Regression Results                                 \n",
      "=========================================================================================\n",
      "Dep. Variable:     15_minutes_forward_pct_change   R-squared:                       0.002\n",
      "Model:                                       OLS   Adj. R-squared:                 -0.001\n",
      "Method:                            Least Squares   F-statistic:                    0.5894\n",
      "Date:                           Thu, 06 Feb 2020   Prob (F-statistic):              0.839\n",
      "Time:                                   12:46:35   Log-Likelihood:                 16609.\n",
      "No. Observations:                           3151   AIC:                        -3.319e+04\n",
      "Df Residuals:                               3139   BIC:                        -3.312e+04\n",
      "Df Model:                                     11                                         \n",
      "Covariance Type:                       nonrobust                                         \n",
      "============================================================================================\n",
      "                               coef    std err          t      P>|t|      [0.025      0.975]\n",
      "--------------------------------------------------------------------------------------------\n",
      "favorite_count            2.137e-10   1.59e-09      0.134      0.893    -2.9e-09    3.33e-09\n",
      "retweet_count            -3.347e-09   5.85e-09     -0.573      0.567   -1.48e-08    8.11e-09\n",
      "financial_topic          -1.377e-05   5.08e-05     -0.271      0.786      -0.000    8.58e-05\n",
      "sentiment                -8.998e-05   7.28e-05     -1.236      0.217      -0.000    5.28e-05\n",
      "Facebook                  5.995e-21   7.33e-20      0.082      0.935   -1.38e-19     1.5e-19\n",
      "Instagram                -7.397e-21   4.09e-20     -0.181      0.857   -8.76e-20    7.28e-20\n",
      "Media Studio             -9.068e-05      0.000     -0.423      0.672      -0.001       0.000\n",
      "Mobile Web (M5)          -3.996e-21   1.74e-20     -0.230      0.818   -3.81e-20    3.01e-20\n",
      "Neatly For BlackBerry 10 -2.042e-20   5.54e-20     -0.368      0.713   -1.29e-19    8.83e-20\n",
      "Periscope                -4.877e-20   1.53e-19     -0.319      0.750   -3.48e-19    2.51e-19\n",
      "TweetDeck                -8.904e-20   8.34e-20     -1.068      0.285   -2.52e-19    7.44e-20\n",
      "TwitLonger Beta          -5.108e-20    1.6e-19     -0.319      0.749   -3.65e-19    2.62e-19\n",
      "Twitlonger                        0          0        nan        nan           0           0\n",
      "Twitter Ads                 -0.0002      0.001     -0.324      0.746      -0.002       0.001\n",
      "Twitter Media Studio         0.0002      0.000      1.079      0.281      -0.000       0.001\n",
      "Twitter Mirror for iPad           0          0        nan        nan           0           0\n",
      "Twitter QandA                     0          0        nan        nan           0           0\n",
      "Twitter Web App           9.832e-05      0.001      0.157      0.875      -0.001       0.001\n",
      "Twitter Web Client       -1.399e-05      0.000     -0.047      0.962      -0.001       0.001\n",
      "Twitter for Android      -2.519e-05      0.000     -0.199      0.843      -0.000       0.000\n",
      "Twitter for BlackBerry            0          0        nan        nan           0           0\n",
      "Twitter for Websites              0          0        nan        nan           0           0\n",
      "Twitter for iPad             0.0006      0.000      1.382      0.167      -0.000       0.001\n",
      "Twitter for iPhone        2.202e-05   5.48e-05      0.402      0.688   -8.55e-05       0.000\n",
      "Vine - Make a Scene               0          0        nan        nan           0           0\n",
      "==============================================================================\n",
      "Omnibus:                     1718.465   Durbin-Watson:                   1.537\n",
      "Prob(Omnibus):                  0.000   Jarque-Bera (JB):            51687.097\n",
      "Skew:                          -2.018   Prob(JB):                         0.00\n",
      "Kurtosis:                      22.426   Cond. No.                          inf\n",
      "==============================================================================\n",
      "\n",
      "Warnings:\n",
      "[1] Standard Errors assume that the covariance matrix of the errors is correctly specified.\n",
      "[2] The smallest eigenvalue is      0. This might indicate that there are\n",
      "strong multicollinearity problems or that the design matrix is singular.\n"
     ]
    },
    {
     "name": "stderr",
     "output_type": "stream",
     "text": [
      "C:\\Users\\natan\\Anaconda3\\lib\\site-packages\\statsmodels\\regression\\linear_model.py:1633: RuntimeWarning: divide by zero encountered in double_scalars\n",
      "  return np.sqrt(eigvals[0]/eigvals[-1])\n"
     ]
    }
   ],
   "source": [
    "print(res.summary())"
   ]
  },
  {
   "cell_type": "code",
   "execution_count": null,
   "metadata": {},
   "outputs": [],
   "source": []
  },
  {
   "cell_type": "code",
   "execution_count": null,
   "metadata": {},
   "outputs": [],
   "source": []
  },
  {
   "cell_type": "code",
   "execution_count": null,
   "metadata": {},
   "outputs": [],
   "source": []
  },
  {
   "cell_type": "code",
   "execution_count": null,
   "metadata": {},
   "outputs": [],
   "source": []
  },
  {
   "cell_type": "code",
   "execution_count": null,
   "metadata": {},
   "outputs": [],
   "source": []
  },
  {
   "cell_type": "code",
   "execution_count": null,
   "metadata": {},
   "outputs": [],
   "source": []
  },
  {
   "cell_type": "code",
   "execution_count": null,
   "metadata": {},
   "outputs": [],
   "source": []
  },
  {
   "cell_type": "code",
   "execution_count": null,
   "metadata": {},
   "outputs": [],
   "source": [
    "from sklearn.linear_model import Ridge\n",
    "rr = Ridge(alpha=0.00001,normalize=True)\n",
    "rr.fit(inspect_df.iloc[:,:-1], inspect_df.iloc[:,-1])\n",
    "w = rr.coef_"
   ]
  },
  {
   "cell_type": "code",
   "execution_count": null,
   "metadata": {},
   "outputs": [],
   "source": [
    "print(rr.score(inspect_df.iloc[:,:-1], inspect_df.iloc[:,-1]))"
   ]
  },
  {
   "cell_type": "code",
   "execution_count": null,
   "metadata": {},
   "outputs": [],
   "source": [
    "from sklearn import linear_model\n",
    "clf = linear_model.Lasso(alpha=0.00000000001,normalize=True)\n",
    "clf.fit(inspect_df.iloc[:,:-1], inspect_df.iloc[:,-1])\n",
    "print(clf.score(inspect_df.iloc[:,:-1], inspect_df.iloc[:,-1]))"
   ]
  },
  {
   "cell_type": "code",
   "execution_count": null,
   "metadata": {},
   "outputs": [],
   "source": [
    "for x in range(len(clf.coef_)):\n",
    "    print(inspect_df.iloc[:,:-1].columns[x])\n",
    "    print(clf.coef_[x])"
   ]
  },
  {
   "cell_type": "code",
   "execution_count": null,
   "metadata": {},
   "outputs": [],
   "source": []
  },
  {
   "cell_type": "code",
   "execution_count": null,
   "metadata": {},
   "outputs": [],
   "source": []
  }
 ],
 "metadata": {
  "kernelspec": {
   "display_name": "Python 3",
   "language": "python",
   "name": "python3"
  },
  "language_info": {
   "codemirror_mode": {
    "name": "ipython",
    "version": 3
   },
   "file_extension": ".py",
   "mimetype": "text/x-python",
   "name": "python",
   "nbconvert_exporter": "python",
   "pygments_lexer": "ipython3",
   "version": "3.7.1"
  }
 },
 "nbformat": 4,
 "nbformat_minor": 2
}
