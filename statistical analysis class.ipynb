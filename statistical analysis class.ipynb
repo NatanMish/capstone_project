{
 "cells": [
  {
   "cell_type": "code",
   "execution_count": 1,
   "metadata": {},
   "outputs": [
    {
     "name": "stderr",
     "output_type": "stream",
     "text": [
      "C:\\Users\\natan\\Anaconda3\\lib\\site-packages\\statsmodels\\compat\\pandas.py:49: FutureWarning: The Panel class is removed from pandas. Accessing it from the top-level namespace will also be removed in the next version\n",
      "  data_klasses = (pandas.Series, pandas.DataFrame, pandas.Panel)\n"
     ]
    }
   ],
   "source": [
    "import pandas as pd\n",
    "import statsmodels.api as sm\n",
    "import numpy as np\n",
    "import time"
   ]
  },
  {
   "cell_type": "code",
   "execution_count": 2,
   "metadata": {},
   "outputs": [],
   "source": [
    "df=pd.read_csv('twitter_data_with_dow_for_analysis.csv',parse_dates=['created_at_utc'],index_col=0)"
   ]
  },
  {
   "cell_type": "code",
   "execution_count": 3,
   "metadata": {},
   "outputs": [
    {
     "name": "stdout",
     "output_type": "stream",
     "text": [
      "text\n",
      "created_at_utc\n",
      "favorite_count\n",
      "retweet_count\n",
      "trade_topic\n",
      "financial_topic\n",
      "labor_topic\n",
      "industry_topic\n",
      "currency_rates_topic\n",
      "general_related_topic\n",
      "budget_topic\n",
      "sensitive_topic\n",
      "sentiment\n",
      "subjectivity\n",
      "month\n",
      "1_minutes_forward_pct_change\n",
      "5_minutes_forward_pct_change\n",
      "10_minutes_forward_pct_change\n",
      "15_minutes_forward_pct_change\n",
      "30_minutes_forward_pct_change\n",
      "1_hours_forward_pct_change\n",
      "3_hours_forward_pct_change\n",
      "6_hours_forward_pct_change\n",
      "1_minutes_forward_vol_sum\n",
      "5_minutes_forward_vol_sum\n",
      "10_minutes_forward_vol_sum\n",
      "15_minutes_forward_vol_sum\n",
      "30_minutes_forward_vol_sum\n",
      "1_hours_forward_vol_sum\n",
      "3_hours_forward_vol_sum\n",
      "Facebook\n",
      "Instagram\n",
      "Media Studio\n",
      "Mobile Web (M5)\n",
      "Neatly For BlackBerry 10\n",
      "Periscope\n",
      "TweetDeck\n",
      "TwitLonger Beta\n",
      "Twitlonger\n",
      "Twitter Ads\n",
      "Twitter Media Studio\n",
      "Twitter Mirror for iPad\n",
      "Twitter QandA\n",
      "Twitter Web App\n",
      "Twitter Web Client\n",
      "Twitter for Android\n",
      "Twitter for BlackBerry\n",
      "Twitter for Websites\n",
      "Twitter for iPad\n",
      "Twitter for iPhone\n",
      "Vine - Make a Scene\n",
      "china\n",
      "chinese\n",
      "nafta\n",
      "trade\n",
      "trades\n",
      "trading\n",
      "tariff\n",
      "tariffs\n",
      "opec\n",
      "usmca\n",
      "xi\n",
      "jinping\n",
      "sanctions\n",
      "market\n",
      "markets\n",
      "stock\n",
      "stocks\n",
      "financial\n",
      "investment\n",
      "dow\n",
      "nasdaq\n",
      "500\n",
      "wall street\n",
      "wall st\n",
      "unemployment\n",
      "jobs\n",
      "labor\n",
      "manufacture\n",
      "manufacturers\n",
      "consumer\n",
      "consumers\n",
      "bank\n",
      "banks\n",
      "factories\n",
      "business\n",
      "businesses\n",
      "corporate\n",
      "corporates\n",
      "industry\n",
      "industries\n",
      "product\n",
      "agriculture\n",
      "agricultural\n",
      "products\n",
      "rate\n",
      "rates\n",
      "reserve\n",
      "inflation\n",
      "currency\n",
      "depreciating\n",
      "depreceate\n",
      "fed\n",
      "federal reserve\n",
      "deal\n",
      "deals\n",
      "dollar\n",
      "dollars\n",
      "$\n",
      "billion\n",
      "billions\n",
      "gdp\n",
      "growth\n",
      "revenue\n",
      "economy\n",
      "economies\n",
      "economist\n",
      "economic\n",
      "economists\n",
      "money\n",
      "companies\n",
      "price\n",
      "prices\n",
      "cents\n",
      "cent\n",
      "purchase\n",
      "depletion\n",
      "regulation\n",
      "401(k)\n",
      "trillions\n",
      "recession\n",
      "depression\n",
      "taxes\n",
      "taxation\n",
      "tax\n",
      "debt\n",
      "deficit\n",
      "spending\n",
      "refinance\n",
      "finance\n",
      "savings\n",
      "deficits\n",
      "bankruptcy\n",
      "spend\n",
      "cost\n",
      "costs\n",
      "subsidizing\n",
      "subsidize\n",
      "iran\n",
      "nuclear\n",
      "wall\n",
      "military\n",
      "daca\n",
      "bill\n",
      "danger\n",
      "conflict\n",
      "rockets\n",
      "russia\n",
      "middle east\n",
      "ukrainian\n",
      "ukraine\n",
      "isis\n",
      "syria\n",
      "border\n",
      "russian\n",
      "investigation\n",
      "kim\n",
      "jong\n",
      "un\n",
      "caravan\n",
      "corona\n",
      "virus\n"
     ]
    }
   ],
   "source": [
    "for x in df.columns:\n",
    "    print(x)"
   ]
  },
  {
   "cell_type": "code",
   "execution_count": 4,
   "metadata": {},
   "outputs": [],
   "source": [
    "X=df.loc[:,['created_at_utc',\n",
    "            'Twitter for iPhone',\n",
    "            'Twitter for Android',\n",
    "'favorite_count',\n",
    "'retweet_count',\n",
    "'trade_topic',\n",
    "'financial_topic',\n",
    "'labor_topic',\n",
    "'industry_topic',\n",
    "'currency_rates_topic',\n",
    "'general_related_topic',\n",
    "'budget_topic',\n",
    "'sensitive_topic',\n",
    "'sentiment'\n",
    "]].copy()"
   ]
  },
  {
   "cell_type": "code",
   "execution_count": 5,
   "metadata": {},
   "outputs": [],
   "source": [
    "y=df[['1_minutes_forward_pct_change',\n",
    "'5_minutes_forward_pct_change',\n",
    "'10_minutes_forward_pct_change',\n",
    "'15_minutes_forward_pct_change',\n",
    "'30_minutes_forward_pct_change',\n",
    "'1_hours_forward_pct_change',\n",
    "'3_hours_forward_pct_change',\n",
    "'6_hours_forward_pct_change',\n",
    "'1_minutes_forward_vol_sum',\n",
    "'5_minutes_forward_vol_sum',\n",
    "'10_minutes_forward_vol_sum',\n",
    "'15_minutes_forward_vol_sum',\n",
    "'30_minutes_forward_vol_sum',\n",
    "'1_hours_forward_vol_sum',\n",
    "'3_hours_forward_vol_sum']].copy()"
   ]
  },
  {
   "cell_type": "code",
   "execution_count": 6,
   "metadata": {},
   "outputs": [],
   "source": [
    "inspect_df=pd.concat([X.loc[~y['15_minutes_forward_pct_change'].isna()],y['15_minutes_forward_pct_change'].dropna()],axis=1)\n",
    "# inspect_df['15_minutes_forward_pct_change']=inspect_df['15_minutes_forward_pct_change']*100"
   ]
  },
  {
   "cell_type": "code",
   "execution_count": 7,
   "metadata": {},
   "outputs": [],
   "source": [
    "inspect_df=inspect_df.loc[inspect_df['created_at_utc']>='2016-11-08 22:00:00'].copy()"
   ]
  },
  {
   "cell_type": "code",
   "execution_count": 8,
   "metadata": {},
   "outputs": [],
   "source": [
    "for column in inspect_df.iloc[:,:-1].columns:\n",
    "    inspect_df[column] = inspect_df[[\"sentiment\", column]].product(axis=1)\n",
    "# inspect_df.drop('sentiment',1,inplace=True)"
   ]
  },
  {
   "cell_type": "code",
   "execution_count": 9,
   "metadata": {},
   "outputs": [],
   "source": [
    "inspect_df.drop('created_at_utc',1,inplace=True)"
   ]
  },
  {
   "cell_type": "code",
   "execution_count": 47,
   "metadata": {},
   "outputs": [],
   "source": [
    "# inspect_df.insert(0, 'financial_topic_sentiment_interaction',\n",
    "#                              inspect_df[[\"sentiment\", 'financial_topic']].product(axis=1))\n",
    "# inspect_df.insert(0, 'sensitive_topic_sentiment_interaction',\n",
    "#                              inspect_df[[\"sentiment\", 'sensitive_topic']].product(axis=1))"
   ]
  },
  {
   "cell_type": "code",
   "execution_count": 10,
   "metadata": {},
   "outputs": [],
   "source": [
    "inspect_df=inspect_df.replace([np.inf, -np.inf], float('nan'))\n",
    "inspect_df=inspect_df.dropna()"
   ]
  },
  {
   "cell_type": "code",
   "execution_count": 11,
   "metadata": {},
   "outputs": [],
   "source": [
    "mod = sm.OLS(inspect_df.iloc[:,-1],inspect_df.iloc[:,:-1])\n",
    "res = mod.fit()"
   ]
  },
  {
   "cell_type": "code",
   "execution_count": 12,
   "metadata": {},
   "outputs": [
    {
     "name": "stdout",
     "output_type": "stream",
     "text": [
      "                                  OLS Regression Results                                 \n",
      "=========================================================================================\n",
      "Dep. Variable:     15_minutes_forward_pct_change   R-squared:                       0.007\n",
      "Model:                                       OLS   Adj. R-squared:                  0.004\n",
      "Method:                            Least Squares   F-statistic:                     1.942\n",
      "Date:                           Wed, 01 Apr 2020   Prob (F-statistic):             0.0218\n",
      "Time:                                   17:48:07   Log-Likelihood:                 17434.\n",
      "No. Observations:                           3378   AIC:                        -3.484e+04\n",
      "Df Residuals:                               3365   BIC:                        -3.476e+04\n",
      "Df Model:                                     13                                         \n",
      "Covariance Type:                       nonrobust                                         \n",
      "=========================================================================================\n",
      "                            coef    std err          t      P>|t|      [0.025      0.975]\n",
      "-----------------------------------------------------------------------------------------\n",
      "Twitter for iPhone       -0.0001   9.75e-05     -1.253      0.210      -0.000     6.9e-05\n",
      "Twitter for Android    5.537e-05      0.000      0.200      0.842      -0.000       0.001\n",
      "favorite_count           -0.0007      0.000     -1.598      0.110      -0.001       0.000\n",
      "retweet_count             0.0008      0.000      1.879      0.060   -3.51e-05       0.002\n",
      "trade_topic           -2.962e-05      0.000     -0.180      0.857      -0.000       0.000\n",
      "financial_topic           0.0002      0.000      1.006      0.314      -0.000       0.001\n",
      "labor_topic               0.0008      0.000      2.841      0.005       0.000       0.001\n",
      "industry_topic            0.0004      0.000      1.188      0.235      -0.000       0.001\n",
      "currency_rates_topic     -0.0001      0.000     -0.427      0.669      -0.001       0.000\n",
      "general_related_topic  5.531e-05      0.000      0.403      0.687      -0.000       0.000\n",
      "budget_topic              0.0003      0.000      0.948      0.343      -0.000       0.001\n",
      "sensitive_topic          -0.0002      0.000     -1.888      0.059      -0.000     8.8e-06\n",
      "sentiment              1.921e-05      0.000      0.152      0.879      -0.000       0.000\n",
      "==============================================================================\n",
      "Omnibus:                     1161.079   Durbin-Watson:                   1.301\n",
      "Prob(Omnibus):                  0.000   Jarque-Bera (JB):            36404.266\n",
      "Skew:                          -0.999   Prob(JB):                         0.00\n",
      "Kurtosis:                      18.958   Cond. No.                         9.71\n",
      "==============================================================================\n",
      "\n",
      "Warnings:\n",
      "[1] Standard Errors assume that the covariance matrix of the errors is correctly specified.\n"
     ]
    }
   ],
   "source": [
    "print(res.summary())"
   ]
  },
  {
   "cell_type": "code",
   "execution_count": null,
   "metadata": {},
   "outputs": [],
   "source": []
  },
  {
   "cell_type": "code",
   "execution_count": 51,
   "metadata": {},
   "outputs": [],
   "source": [
    "from sklearn.linear_model import Ridge\n",
    "rr = Ridge(alpha=0.00000000001,normalize=False)\n",
    "rr.fit(inspect_df.iloc[:,:-1], inspect_df.iloc[:,-1])\n",
    "w = rr.coef_"
   ]
  },
  {
   "cell_type": "code",
   "execution_count": 52,
   "metadata": {},
   "outputs": [
    {
     "name": "stdout",
     "output_type": "stream",
     "text": [
      "0.001080362412026692\n"
     ]
    }
   ],
   "source": [
    "print(rr.score(inspect_df.iloc[:,:-1], inspect_df.iloc[:,-1]))"
   ]
  },
  {
   "cell_type": "code",
   "execution_count": 34,
   "metadata": {},
   "outputs": [
    {
     "name": "stdout",
     "output_type": "stream",
     "text": [
      "0.008055279183026842\n"
     ]
    }
   ],
   "source": [
    "from sklearn import linear_model\n",
    "clf = linear_model.Lasso(alpha=0.000000001,normalize=False)\n",
    "clf.fit(inspect_df.iloc[:,:-1], inspect_df.iloc[:,-1])\n",
    "print(clf.score(inspect_df.iloc[:,:-1], inspect_df.iloc[:,-1]))"
   ]
  },
  {
   "cell_type": "code",
   "execution_count": 122,
   "metadata": {},
   "outputs": [],
   "source": [
    "coefs=pd.DataFrame(columns=['variable','coefficients'])"
   ]
  },
  {
   "cell_type": "code",
   "execution_count": 123,
   "metadata": {},
   "outputs": [],
   "source": [
    "coefs['variable']=inspect_df.iloc[:,:-1].columns"
   ]
  },
  {
   "cell_type": "code",
   "execution_count": 124,
   "metadata": {},
   "outputs": [],
   "source": [
    "coefs['coefficients'] = clf.coef_"
   ]
  },
  {
   "cell_type": "code",
   "execution_count": 125,
   "metadata": {},
   "outputs": [
    {
     "data": {
      "text/plain": [
       "6"
      ]
     },
     "execution_count": 125,
     "metadata": {},
     "output_type": "execute_result"
    }
   ],
   "source": [
    "len(coefs[coefs['coefficients']!=0])"
   ]
  },
  {
   "cell_type": "code",
   "execution_count": 126,
   "metadata": {},
   "outputs": [
    {
     "name": "stdout",
     "output_type": "stream",
     "text": [
      "sensitive_topic\n",
      "retweet_count\n",
      "trade_topic\n",
      "budget_topic\n",
      "industry_topic\n",
      "labor_topic\n"
     ]
    }
   ],
   "source": [
    "for i,x in coefs[coefs['coefficients']!=0].sort_values('coefficients').iterrows():\n",
    "    print(x['variable'])"
   ]
  },
  {
   "cell_type": "code",
   "execution_count": null,
   "metadata": {},
   "outputs": [],
   "source": []
  },
  {
   "cell_type": "code",
   "execution_count": null,
   "metadata": {},
   "outputs": [],
   "source": []
  }
 ],
 "metadata": {
  "kernelspec": {
   "display_name": "Python 3",
   "language": "python",
   "name": "python3"
  },
  "language_info": {
   "codemirror_mode": {
    "name": "ipython",
    "version": 3
   },
   "file_extension": ".py",
   "mimetype": "text/x-python",
   "name": "python",
   "nbconvert_exporter": "python",
   "pygments_lexer": "ipython3",
   "version": "3.7.1"
  }
 },
 "nbformat": 4,
 "nbformat_minor": 2
}
