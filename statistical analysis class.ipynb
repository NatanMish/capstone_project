{
 "cells": [
  {
   "cell_type": "code",
   "execution_count": 1,
   "metadata": {},
   "outputs": [
    {
     "name": "stderr",
     "output_type": "stream",
     "text": [
      "C:\\Users\\natan\\Anaconda3\\lib\\site-packages\\statsmodels\\compat\\pandas.py:49: FutureWarning: The Panel class is removed from pandas. Accessing it from the top-level namespace will also be removed in the next version\n",
      "  data_klasses = (pandas.Series, pandas.DataFrame, pandas.Panel)\n"
     ]
    }
   ],
   "source": [
    "import pandas as pd\n",
    "import statsmodels.api as sm\n",
    "import numpy as np\n",
    "import time"
   ]
  },
  {
   "cell_type": "code",
   "execution_count": 112,
   "metadata": {},
   "outputs": [],
   "source": [
    "df=pd.read_csv('./vp_tweets/with_financials/vp_twitter_data_with_dow_for_analysis.csv',parse_dates=['created_at'],index_col=0)"
   ]
  },
  {
   "cell_type": "code",
   "execution_count": 113,
   "metadata": {},
   "outputs": [
    {
     "name": "stdout",
     "output_type": "stream",
     "text": [
      "screen_name\n",
      "utc_date\n",
      "created_at\n",
      "source\n",
      "favorite_count\n",
      "retweet_count\n",
      "replies\n",
      "quotes\n",
      "lang\n",
      "tweet_type\n",
      "text\n",
      "quote\n",
      "country_code\n",
      "place\n",
      "latitude\n",
      "longitude\n",
      "is_specific_geo\n",
      "urls\n",
      "media_type\n",
      "media1\n",
      "media2\n",
      "media3\n",
      "media4\n",
      "trade_topic\n",
      "china_topic\n",
      "financial_topic\n",
      "labor_topic\n",
      "industry_topic\n",
      "currency_rates_topic\n",
      "general_related_topic\n",
      "budget_topic\n",
      "foreign_policy_topic\n",
      "covid_topic\n",
      "sensitive_topic\n",
      "environment_topic\n",
      "sentiment\n",
      "month\n",
      "1_minutes_forward_pct_change\n",
      "5_minutes_forward_pct_change\n",
      "10_minutes_forward_pct_change\n",
      "15_minutes_forward_pct_change\n",
      "30_minutes_forward_pct_change\n",
      "1_hours_forward_pct_change\n",
      "3_hours_forward_pct_change\n",
      "1_minutes_forward_vol_sum\n",
      "5_minutes_forward_vol_sum\n",
      "10_minutes_forward_vol_sum\n",
      "15_minutes_forward_vol_sum\n",
      "30_minutes_forward_vol_sum\n",
      "1_hours_forward_vol_sum\n"
     ]
    }
   ],
   "source": [
    "for x in df.columns:\n",
    "    print(x)"
   ]
  },
  {
   "cell_type": "code",
   "execution_count": 114,
   "metadata": {},
   "outputs": [],
   "source": [
    "X=df.loc[:,['created_at',\n",
    "'favorite_count',\n",
    "'retweet_count',\n",
    "'trade_topic',\n",
    "'china_topic',\n",
    "'financial_topic',\n",
    "'labor_topic',\n",
    "'industry_topic',\n",
    "'currency_rates_topic',\n",
    "'general_related_topic',\n",
    "'budget_topic',\n",
    "'foreign_policy_topic',\n",
    "'covid_topic',\n",
    "'sensitive_topic',\n",
    "'environment_topic',\n",
    "'sentiment',\n",
    "'text'\n",
    "]].copy()"
   ]
  },
  {
   "cell_type": "code",
   "execution_count": 115,
   "metadata": {},
   "outputs": [],
   "source": [
    "y=df[['1_minutes_forward_pct_change',\n",
    "'5_minutes_forward_pct_change',\n",
    "'10_minutes_forward_pct_change',\n",
    "'15_minutes_forward_pct_change',\n",
    "'30_minutes_forward_pct_change',\n",
    "'1_hours_forward_pct_change',\n",
    "'1_minutes_forward_vol_sum',\n",
    "'5_minutes_forward_vol_sum',\n",
    "'10_minutes_forward_vol_sum',\n",
    "'15_minutes_forward_vol_sum',\n",
    "'30_minutes_forward_vol_sum',\n",
    "'1_hours_forward_vol_sum']].copy()"
   ]
  },
  {
   "cell_type": "code",
   "execution_count": 152,
   "metadata": {},
   "outputs": [],
   "source": [
    "inspect_df=pd.concat([X.loc[~y['15_minutes_forward_vol_sum'].isna()],y['15_minutes_forward_vol_sum'].dropna()],axis=1)"
   ]
  },
  {
   "cell_type": "code",
   "execution_count": 153,
   "metadata": {},
   "outputs": [],
   "source": [
    "inspect_df=inspect_df.loc[inspect_df['created_at']>='2016-11-08 22:00:00'].copy()"
   ]
  },
  {
   "cell_type": "code",
   "execution_count": 154,
   "metadata": {},
   "outputs": [],
   "source": [
    "for column in inspect_df.iloc[:,:-1].columns:\n",
    "    inspect_df[column] = inspect_df[[column, 'sentiment']].product(axis=1)\n",
    "# inspect_df.drop('sentiment',1,inplace=True)"
   ]
  },
  {
   "cell_type": "code",
   "execution_count": 155,
   "metadata": {},
   "outputs": [],
   "source": [
    "inspect_df.drop(['created_at','text'],1,inplace=True)"
   ]
  },
  {
   "cell_type": "code",
   "execution_count": 156,
   "metadata": {},
   "outputs": [],
   "source": [
    "# inspect_df=inspect_df.replace([np.inf, -np.inf], float('nan'))\n",
    "inspect_df=inspect_df.dropna()"
   ]
  },
  {
   "cell_type": "code",
   "execution_count": 157,
   "metadata": {},
   "outputs": [],
   "source": [
    "mod = sm.OLS(inspect_df.iloc[:,-1],sm.add_constant(inspect_df.iloc[:,:-1]), hasconst = False)\n",
    "res = mod.fit()"
   ]
  },
  {
   "cell_type": "code",
   "execution_count": 158,
   "metadata": {},
   "outputs": [
    {
     "name": "stdout",
     "output_type": "stream",
     "text": [
      "                                OLS Regression Results                                \n",
      "======================================================================================\n",
      "Dep. Variable:     15_minutes_forward_vol_sum   R-squared:                       0.020\n",
      "Model:                                    OLS   Adj. R-squared:                  0.015\n",
      "Method:                         Least Squares   F-statistic:                     4.282\n",
      "Date:                        Mon, 06 Jul 2020   Prob (F-statistic):           5.73e-08\n",
      "Time:                                20:08:08   Log-Likelihood:                -25411.\n",
      "No. Observations:                        3179   AIC:                         5.085e+04\n",
      "Df Residuals:                            3164   BIC:                         5.094e+04\n",
      "Df Model:                                  15                                         \n",
      "Covariance Type:                    nonrobust                                         \n",
      "=========================================================================================\n",
      "                            coef    std err          t      P>|t|      [0.025      0.975]\n",
      "-----------------------------------------------------------------------------------------\n",
      "const                     0.4606     18.507      0.025      0.980     -35.826      36.748\n",
      "favorite_count          -65.2923     77.901     -0.838      0.402    -218.034      87.449\n",
      "retweet_count            46.1223     73.859      0.624      0.532     -98.694     190.939\n",
      "trade_topic             -43.7818     46.161     -0.948      0.343    -134.291      46.727\n",
      "china_topic             -34.5390    175.604     -0.197      0.844    -378.848     309.770\n",
      "financial_topic         -57.5670    118.778     -0.485      0.628    -290.456     175.322\n",
      "labor_topic             -49.5099     33.728     -1.468      0.142    -115.641      16.621\n",
      "industry_topic          -98.7667     54.409     -1.815      0.070    -205.447       7.913\n",
      "currency_rates_topic    -43.1359    173.508     -0.249      0.804    -383.335     297.064\n",
      "general_related_topic   156.2236     34.369      4.546      0.000      88.836     223.611\n",
      "budget_topic            235.6020     41.030      5.742      0.000     155.155     316.049\n",
      "foreign_policy_topic    -15.1780     37.998     -0.399      0.690     -89.682      59.326\n",
      "covid_topic            7.184e-15   2.97e-14      0.242      0.809   -5.11e-14    6.55e-14\n",
      "sensitive_topic           6.8402     96.292      0.071      0.943    -181.961     195.641\n",
      "environment_topic      -126.5991    275.708     -0.459      0.646    -667.184     413.986\n",
      "sentiment                 3.8589     27.245      0.142      0.887     -49.562      57.280\n",
      "==============================================================================\n",
      "Omnibus:                    10416.520   Durbin-Watson:                   2.018\n",
      "Prob(Omnibus):                  0.000   Jarque-Bera (JB):       1234531549.983\n",
      "Skew:                          54.706   Prob(JB):                         0.00\n",
      "Kurtosis:                    3053.931   Cond. No.                     2.50e+18\n",
      "==============================================================================\n",
      "\n",
      "Warnings:\n",
      "[1] Standard Errors assume that the covariance matrix of the errors is correctly specified.\n",
      "[2] The smallest eigenvalue is 7.77e-34. This might indicate that there are\n",
      "strong multicollinearity problems or that the design matrix is singular.\n"
     ]
    }
   ],
   "source": [
    "print(res.summary())"
   ]
  },
  {
   "cell_type": "code",
   "execution_count": null,
   "metadata": {},
   "outputs": [],
   "source": [
    "from sklearn.linear_model import Ridge\n",
    "rr = Ridge(alpha=0.00000000001,normalize=False)\n",
    "rr.fit(inspect_df.iloc[:,:-1], inspect_df.iloc[:,-1])\n",
    "w = rr.coef_"
   ]
  },
  {
   "cell_type": "code",
   "execution_count": null,
   "metadata": {},
   "outputs": [],
   "source": [
    "print(rr.score(inspect_df.iloc[:,:-1], inspect_df.iloc[:,-1]))"
   ]
  },
  {
   "cell_type": "code",
   "execution_count": null,
   "metadata": {},
   "outputs": [],
   "source": [
    "from sklearn import linear_model\n",
    "clf = linear_model.Lasso(alpha=0.000000001,normalize=False)\n",
    "clf.fit(inspect_df.iloc[:,:-1], inspect_df.iloc[:,-1])\n",
    "print(clf.score(inspect_df.iloc[:,:-1], inspect_df.iloc[:,-1]))"
   ]
  },
  {
   "cell_type": "code",
   "execution_count": null,
   "metadata": {},
   "outputs": [],
   "source": [
    "coefs=pd.DataFrame(columns=['variable','coefficients'])"
   ]
  },
  {
   "cell_type": "code",
   "execution_count": null,
   "metadata": {},
   "outputs": [],
   "source": [
    "coefs['variable']=inspect_df.iloc[:,:-1].columns"
   ]
  },
  {
   "cell_type": "code",
   "execution_count": null,
   "metadata": {},
   "outputs": [],
   "source": [
    "coefs['coefficients'] = clf.coef_"
   ]
  },
  {
   "cell_type": "code",
   "execution_count": null,
   "metadata": {},
   "outputs": [],
   "source": [
    "len(coefs[coefs['coefficients']!=0])"
   ]
  },
  {
   "cell_type": "code",
   "execution_count": null,
   "metadata": {},
   "outputs": [],
   "source": [
    "for i,x in coefs[coefs['coefficients']!=0].sort_values('coefficients').iterrows():\n",
    "    print(x['variable'])"
   ]
  },
  {
   "cell_type": "code",
   "execution_count": null,
   "metadata": {},
   "outputs": [],
   "source": []
  },
  {
   "cell_type": "code",
   "execution_count": null,
   "metadata": {},
   "outputs": [],
   "source": []
  },
  {
   "cell_type": "code",
   "execution_count": null,
   "metadata": {},
   "outputs": [],
   "source": []
  }
 ],
 "metadata": {
  "kernelspec": {
   "display_name": "Python 3",
   "language": "python",
   "name": "python3"
  },
  "language_info": {
   "codemirror_mode": {
    "name": "ipython",
    "version": 3
   },
   "file_extension": ".py",
   "mimetype": "text/x-python",
   "name": "python",
   "nbconvert_exporter": "python",
   "pygments_lexer": "ipython3",
   "version": "3.7.1"
  }
 },
 "nbformat": 4,
 "nbformat_minor": 2
}
