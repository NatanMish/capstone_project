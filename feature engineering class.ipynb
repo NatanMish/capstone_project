{
 "cells": [
  {
   "cell_type": "code",
   "execution_count": 1,
   "metadata": {},
   "outputs": [],
   "source": [
    "import pandas as pd\n",
    "import numpy as np"
   ]
  },
  {
   "cell_type": "code",
   "execution_count": 14,
   "metadata": {},
   "outputs": [],
   "source": [
    "class feature_engine:\n",
    "    \n",
    "    pd = __import__('pandas')\n",
    "    datetime = __import__('datetime')\n",
    "    mcal = __import__('pandas_market_calendars')\n",
    "    np = __import__('numpy')\n",
    "    \n",
    "    def __init__(self):\n",
    "        print('feature_engine V.0.1 \\nImported pandas,datetime,pandas_market_calendars,numpy packages')\n",
    "        \n",
    "    def calc_price_change(self,tweet_time,financial_data,time_col_name,price_col_name,interval,amount,method='both',\n",
    "                          logdiff=True):\n",
    "        #remove seconds to match financial data format\n",
    "        tweet_time=tweet_time.replace(second=0)\n",
    "        #default baseline is set for five minutes before tweet\n",
    "#         tweet_time_5min_before=tweet_time - self.datetime.timedelta(0,0,0,0,5)\n",
    "        \n",
    "        tweet_price=financial_data[financial_data[time_col_name]==tweet_time][price_col_name]\n",
    "        if len(tweet_price)==0:\n",
    "            return float('NaN')\n",
    "        tweet_price.reset_index(inplace=True,drop=True)\n",
    "\n",
    "        def calculation(financial_data,time_col_name,new_time,price_col_name,tweet_price,direction,logdiff):\n",
    "            \n",
    "            other_price=financial_data[financial_data[time_col_name]==new_time][price_col_name]\n",
    "            other_price.reset_index(inplace=True,drop=True)\n",
    "            if len(other_price)==0:\n",
    "                return float('NaN')\n",
    "            elif logdiff:\n",
    "                if direction=='forward':\n",
    "                    return (self.np.log(other_price.iloc[0]) - self.np.log(tweet_price.iloc[0]))\n",
    "                elif direction=='backward':\n",
    "                    return (self.np.log(tweet_price.iloc[0]) - self.np.log(other_price.iloc[0]))\n",
    "            else:\n",
    "                if direction=='forward':\n",
    "                    return ((other_price.iloc[0]/tweet_price.iloc[0])-1)\n",
    "                elif direction=='backward':\n",
    "                    return ((tweet_price.iloc[0]/other_price.iloc[0])-1)\n",
    "\n",
    "        if (method=='both') or (method=='forward'):  \n",
    "            if interval=='minutes':\n",
    "                time_forward=tweet_time + self.datetime.timedelta(0,0,0,0,amount)\n",
    "            elif interval=='hours':\n",
    "                time_forward=tweet_time + self.datetime.timedelta(0,0,0,0,0,amount)\n",
    "            elif interval=='days':\n",
    "                time_forward=tweet_time + self.datetime.timedelta(amount,0,0,0,0)\n",
    "            pct_change_forward=calculation(financial_data,time_col_name,time_forward,price_col_name,tweet_price,'forward',\n",
    "                                          logdiff)\n",
    "\n",
    "        if (method=='both') or (method=='backward'): \n",
    "            if interval=='minutes':\n",
    "                time_backward=tweet_time - self.datetime.timedelta(0,0,0,0,amount)   \n",
    "            elif interval=='hours':\n",
    "                time_backward=tweet_time - self.datetime.timedelta(0,0,0,0,0,amount) \n",
    "            elif interval=='days':\n",
    "                time_backward=tweet_time - self.datetime.timedelta(amount,0,0,0,0)\n",
    "            pct_change_backward=calculation(financial_data,time_col_name,time_backward,price_col_name,tweet_price,'backward'\n",
    "                                           ,logdiff)\n",
    "        \n",
    "        if method == 'both':\n",
    "            return self.pd.DataFrame({f'{amount}_{interval}_forward_pct_change':pct_change_forward,\n",
    "                          f'{amount}_{interval}_backward_pct_change':pct_change_backward},index=[0])\n",
    "        elif method=='backward':\n",
    "            return self.pd.DataFrame({f'{amount}_{interval}_backward_pct_change':pct_change_backward},index=[0])\n",
    "        elif method=='forward':\n",
    "            return self.pd.DataFrame({f'{amount}_{interval}_forward_pct_change':pct_change_forward},index=[0])\n",
    "        \n",
    "    def create_pricechg_columns(self,twitter_data,tweet_time_col_name,financial_data,fin_time_col_name,price_col_name,\n",
    "                       interval_amount_dict,method='both',logdiff=True):\n",
    "        from tqdm import tqdm\n",
    "        new_columns=self.pd.DataFrame()\n",
    "        for i, row in tqdm(twitter_data.iterrows()):\n",
    "            temp_df=self.pd.DataFrame()\n",
    "            for interval, amount in interval_amount_dict:\n",
    "                new_df=self.calc_price_change(twitter_data[tweet_time_col_name].loc[i],financial_data,fin_time_col_name,\n",
    "                                                   price_col_name,interval,amount,method,logdiff)\n",
    "                if not isinstance(new_df,float):\n",
    "                    temp_df=self.pd.concat([temp_df,new_df],axis=1)\n",
    "            for item in temp_df.columns:\n",
    "                new_columns.at[i,item] = temp_df.loc[0,item]\n",
    "        return new_columns\n",
    "    \n",
    "    def mean_encoding_tocolumn(self,features_df,categorical_column,target_column):\n",
    "        features_df=features_df[[categorical_column,target_column]]\n",
    "        grouped=features_df.groupby([categorical_column]).mean()\n",
    "        features_df=features_df.merge(grouped,on=categorical_column)\n",
    "        return features_df[f'{target_column}_y']\n",
    "    \n",
    "    def mean_encoding_todict(self,features_df,categorical_column,target_column):\n",
    "        features_df=features_df[[categorical_column,target_column]]\n",
    "        return features_df.groupby([categorical_column]).mean()\n",
    "    \n",
    "    def calculate_sum_volume(self,tweet_time,financial_data,time_col_name,volume_col_name,interval,amount):\n",
    "        #remove seconds to match financial data format\n",
    "        tweet_time=tweet_time.replace(second=0)\n",
    "#         default baseline is set for five minutes before tweet\n",
    "#         tweet_time_5min_before=tweet_time - self.datetime.timedelta(0,0,0,0,5)\n",
    "        \n",
    "        def calculation(financial_data,time_col_name,time_forward,time_backward,volume_col_name,tweet_time):\n",
    "            forward_volume_sum=sum(financial_data.loc[(financial_data[time_col_name]<=time_forward) & \n",
    "                                        (financial_data[time_col_name]>=tweet_time)][volume_col_name])\n",
    "            backward_volume_sum=sum(financial_data.loc[(financial_data[time_col_name]<=tweet_time) & \n",
    "                                        (financial_data[time_col_name]>=time_backward)][volume_col_name])\n",
    "            if backward_volume_sum != 0:\n",
    "                return forward_volume_sum/backward_volume_sum-1\n",
    "            else:\n",
    "                return self.np.nan\n",
    "\n",
    "        if interval=='minutes':\n",
    "            time_forward=tweet_time + self.datetime.timedelta(0,0,0,0,amount)\n",
    "            time_backward=tweet_time - self.datetime.timedelta(0,0,0,0,amount)\n",
    "        elif interval=='hours':\n",
    "            time_forward=tweet_time + self.datetime.timedelta(0,0,0,0,0,amount)\n",
    "            time_backward=tweet_time - self.datetime.timedelta(0,0,0,0,0,amount)\n",
    "        elif interval=='days':\n",
    "            time_forward=tweet_time + self.datetime.timedelta(amount,0,0,0,0)\n",
    "            time_backward=tweet_time - self.datetime.timedelta(amount,0,0,0,0)\n",
    "        vol_sum=calculation(financial_data,time_col_name,time_forward, time_backward, volume_col_name,tweet_time)\n",
    "\n",
    "        return self.pd.DataFrame({f'{amount}_{interval}_forward_vol_sum':vol_sum},index=[0])\n",
    "        \n",
    "    def create_volumesum_columns(self,twitter_data,tweet_time_col_name,financial_data,fin_time_col_name,volume_col_name,\n",
    "                       interval_amount_dict):\n",
    "        from tqdm import tqdm\n",
    "        new_columns=self.pd.DataFrame()\n",
    "        for i, row in tqdm(twitter_data.iterrows()):\n",
    "            temp_df=self.pd.DataFrame()\n",
    "            for interval, amount in interval_amount_dict:\n",
    "                new_df=self.calculate_sum_volume(twitter_data[tweet_time_col_name].loc[i],financial_data,fin_time_col_name,\n",
    "                                                   volume_col_name,interval,amount)\n",
    "                if not isinstance(new_df,float):\n",
    "                    temp_df=self.pd.concat([temp_df,new_df],axis=1)\n",
    "            for item in temp_df.columns:\n",
    "                new_columns.at[i,item] = temp_df.loc[0,item]\n",
    "        return new_columns\n",
    "    \n",
    "    def fill_missing_fin_data(self,ticker_col_name,stock_exchg_name,start_date,end_date,frequency,fin_time_colname,\n",
    "                          financial_data,volume_colname,price_colname):\n",
    "        ticker_name=financial_data.iloc[0][ticker_col_name]\n",
    "        stock_exchg = self.mcal.get_calendar(stock_exchg_name, open_time=self.datetime.time(5, 30), \n",
    "                                             close_time=self.datetime.time(12, 0))\n",
    "        daterange = stock_exchg.schedule(start_date, end_date)\n",
    "        dates=self.pd.DataFrame(self.mcal.date_range(daterange, frequency).tz_convert(None),columns=[fin_time_colname])\n",
    "\n",
    "#         financial_data[fin_time_colname] = self.pd.to_datetime(financial_data[fin_time_colname], utc = True)\n",
    "\n",
    "        financial_data=dates.merge(financial_data,on=fin_time_colname,how='left')\n",
    "        financial_data[ticker_col_name]=ticker_name\n",
    "\n",
    "        financial_data['SYM_SUFFIX'].fillna(0,inplace=True)\n",
    "\n",
    "        financial_data[volume_colname].fillna(0,inplace=True)\n",
    "        financial_data[price_colname].interpolate(inplace=True)\n",
    "        return financial_data\n",
    "    \n",
    "    def token_matrix(self,text_column,financial_topic_words):\n",
    "        \n",
    "        def check_for_word(token_vector,word):\n",
    "            if word in token_vector:\n",
    "                return 1\n",
    "            else:\n",
    "                return 0\n",
    "            \n",
    "        new_df=self.pd.DataFrame()\n",
    "        for topic_word in financial_topic_words:\n",
    "            new_df[topic_word]=text_column.apply(lambda x:check_for_word(x.lower().split(),topic_word))\n",
    "            \n",
    "        return new_df\n",
    "    \n",
    "    def diff_from_meanlog(self,df,date_colname,numeric_colname):\n",
    "        #This function returns the difference of logs between the original value and that month's average\n",
    "        ins_df=df[[date_colname,numeric_colname]].copy().set_index(date_colname,drop=True).astype(int).resample(\"M\").mean()\n",
    "        ins_df[numeric_colname]=self.np.log(ins_df[numeric_colname].replace(0, np.nan))\n",
    "        ins_df['month']=ins_df.index.map(str).str[:7]\n",
    "        df['month']=df[date_colname].map(str).str[:7]\n",
    "        averages=df[[date_colname,'month']].merge(ins_df,on='month',how='left')[numeric_colname]\n",
    "        diff=self.np.log(df[numeric_colname].replace(0, np.nan))-averages\n",
    "        return diff"
   ]
  },
  {
   "cell_type": "code",
   "execution_count": 26,
   "metadata": {},
   "outputs": [],
   "source": [
    "financial_data=pd.read_csv('04052009-10062020-SPYDIA-minutedata.csv',parse_dates=['DATETIME'])\n",
    "twitter_data=pd.read_csv('trump_tweets_reducted_after_nlp.csv',index_col=0,parse_dates=['created_at'])"
   ]
  },
  {
   "cell_type": "code",
   "execution_count": 27,
   "metadata": {},
   "outputs": [],
   "source": [
    "sp500_data=financial_data[financial_data['SYM_ROOT']=='SPY']\n",
    "dow_data=financial_data[financial_data['SYM_ROOT']=='DIA']"
   ]
  },
  {
   "cell_type": "code",
   "execution_count": 16,
   "metadata": {},
   "outputs": [],
   "source": [
    "vix_data = pd.read_csv('all_vix.csv', parse_dates=['DATETIME'])\n",
    "vix_data.drop(['OPEN', 'HIGH', 'LOW'], axis = 1, inplace = True)\n",
    "vix_data['TICKER'] = 'VIX'\n",
    "vix_data['VOLUME'] = 0\n",
    "vix_data['SYM_SUFFIX'] = 0"
   ]
  },
  {
   "cell_type": "code",
   "execution_count": 28,
   "metadata": {},
   "outputs": [
    {
     "name": "stdout",
     "output_type": "stream",
     "text": [
      "feature_engine V.0.1 \n",
      "Imported pandas,datetime,pandas_market_calendars,numpy packages\n"
     ]
    }
   ],
   "source": [
    "feat_eng = feature_engine()"
   ]
  },
  {
   "cell_type": "code",
   "execution_count": 29,
   "metadata": {},
   "outputs": [],
   "source": [
    "twitter_data['retweet_count']=feat_eng.diff_from_meanlog(twitter_data,'created_at','retweet_count')\n",
    "twitter_data['favorite_count']=feat_eng.diff_from_meanlog(twitter_data,'created_at','favorite_count')"
   ]
  },
  {
   "cell_type": "code",
   "execution_count": 30,
   "metadata": {},
   "outputs": [],
   "source": [
    "sp500_data=feat_eng.fill_missing_fin_data('SYM_ROOT','NYSE','2009-05-04','2020-06-10','1min','DATETIME',\n",
    "                          sp500_data,'SIZE','PRICE')"
   ]
  },
  {
   "cell_type": "code",
   "execution_count": null,
   "metadata": {},
   "outputs": [],
   "source": [
    "dow_data=feat_eng.fill_missing_fin_data('SYM_ROOT','NYSE','2009-05-04','2020-06-10','1min','DATETIME',\n",
    "                          dow_data,'SIZE','PRICE')"
   ]
  },
  {
   "cell_type": "code",
   "execution_count": 19,
   "metadata": {},
   "outputs": [],
   "source": [
    "vix_data=feat_eng.fill_missing_fin_data('TICKER','NYSE','2009-05-04','2020-06-10','1min','DATETIME',\n",
    "                          vix_data,'VOLUME','CLOSE')"
   ]
  },
  {
   "cell_type": "markdown",
   "metadata": {},
   "source": [
    "## Calculate changes"
   ]
  },
  {
   "cell_type": "code",
   "execution_count": 31,
   "metadata": {},
   "outputs": [
    {
     "name": "stderr",
     "output_type": "stream",
     "text": [
      "22888it [3:40:25,  1.73it/s]\n"
     ]
    },
    {
     "ename": "KeyboardInterrupt",
     "evalue": "",
     "output_type": "error",
     "traceback": [
      "\u001b[1;31m---------------------------------------------------------------------------\u001b[0m",
      "\u001b[1;31mKeyboardInterrupt\u001b[0m                         Traceback (most recent call last)",
      "\u001b[1;32m<ipython-input-31-14aadf3dbbd1>\u001b[0m in \u001b[0;36m<module>\u001b[1;34m\u001b[0m\n\u001b[0;32m      2\u001b[0m                                                         \u001b[0msp500_data\u001b[0m\u001b[1;33m[\u001b[0m\u001b[1;33m[\u001b[0m\u001b[1;34m'DATETIME'\u001b[0m\u001b[1;33m,\u001b[0m\u001b[1;34m'SIZE'\u001b[0m\u001b[1;33m]\u001b[0m\u001b[1;33m]\u001b[0m\u001b[1;33m,\u001b[0m\u001b[1;34m'DATETIME'\u001b[0m\u001b[1;33m,\u001b[0m\u001b[1;34m'SIZE'\u001b[0m\u001b[1;33m,\u001b[0m\u001b[1;33m\u001b[0m\u001b[1;33m\u001b[0m\u001b[0m\n\u001b[0;32m      3\u001b[0m                        [('minutes',1),('minutes',5),('minutes',10),('minutes',15),('minutes',30),('hours',1),\n\u001b[1;32m----> 4\u001b[1;33m                         ('hours',3)])\n\u001b[0m",
      "\u001b[1;32m<ipython-input-14-4bb9990616e3>\u001b[0m in \u001b[0;36mcreate_volumesum_columns\u001b[1;34m(self, twitter_data, tweet_time_col_name, financial_data, fin_time_col_name, volume_col_name, interval_amount_dict)\u001b[0m\n\u001b[0;32m    128\u001b[0m             \u001b[1;32mfor\u001b[0m \u001b[0minterval\u001b[0m\u001b[1;33m,\u001b[0m \u001b[0mamount\u001b[0m \u001b[1;32min\u001b[0m \u001b[0minterval_amount_dict\u001b[0m\u001b[1;33m:\u001b[0m\u001b[1;33m\u001b[0m\u001b[1;33m\u001b[0m\u001b[0m\n\u001b[0;32m    129\u001b[0m                 new_df=self.calculate_sum_volume(twitter_data[tweet_time_col_name].loc[i],financial_data,fin_time_col_name,\n\u001b[1;32m--> 130\u001b[1;33m                                                    volume_col_name,interval,amount)\n\u001b[0m\u001b[0;32m    131\u001b[0m                 \u001b[1;32mif\u001b[0m \u001b[1;32mnot\u001b[0m \u001b[0misinstance\u001b[0m\u001b[1;33m(\u001b[0m\u001b[0mnew_df\u001b[0m\u001b[1;33m,\u001b[0m\u001b[0mfloat\u001b[0m\u001b[1;33m)\u001b[0m\u001b[1;33m:\u001b[0m\u001b[1;33m\u001b[0m\u001b[1;33m\u001b[0m\u001b[0m\n\u001b[0;32m    132\u001b[0m                     \u001b[0mtemp_df\u001b[0m\u001b[1;33m=\u001b[0m\u001b[0mself\u001b[0m\u001b[1;33m.\u001b[0m\u001b[0mpd\u001b[0m\u001b[1;33m.\u001b[0m\u001b[0mconcat\u001b[0m\u001b[1;33m(\u001b[0m\u001b[1;33m[\u001b[0m\u001b[0mtemp_df\u001b[0m\u001b[1;33m,\u001b[0m\u001b[0mnew_df\u001b[0m\u001b[1;33m]\u001b[0m\u001b[1;33m,\u001b[0m\u001b[0maxis\u001b[0m\u001b[1;33m=\u001b[0m\u001b[1;36m1\u001b[0m\u001b[1;33m)\u001b[0m\u001b[1;33m\u001b[0m\u001b[1;33m\u001b[0m\u001b[0m\n",
      "\u001b[1;32m<ipython-input-14-4bb9990616e3>\u001b[0m in \u001b[0;36mcalculate_sum_volume\u001b[1;34m(self, tweet_time, financial_data, time_col_name, volume_col_name, interval, amount)\u001b[0m\n\u001b[0;32m    116\u001b[0m             \u001b[0mtime_forward\u001b[0m\u001b[1;33m=\u001b[0m\u001b[0mtweet_time\u001b[0m \u001b[1;33m+\u001b[0m \u001b[0mself\u001b[0m\u001b[1;33m.\u001b[0m\u001b[0mdatetime\u001b[0m\u001b[1;33m.\u001b[0m\u001b[0mtimedelta\u001b[0m\u001b[1;33m(\u001b[0m\u001b[0mamount\u001b[0m\u001b[1;33m,\u001b[0m\u001b[1;36m0\u001b[0m\u001b[1;33m,\u001b[0m\u001b[1;36m0\u001b[0m\u001b[1;33m,\u001b[0m\u001b[1;36m0\u001b[0m\u001b[1;33m,\u001b[0m\u001b[1;36m0\u001b[0m\u001b[1;33m)\u001b[0m\u001b[1;33m\u001b[0m\u001b[1;33m\u001b[0m\u001b[0m\n\u001b[0;32m    117\u001b[0m             \u001b[0mtime_backward\u001b[0m\u001b[1;33m=\u001b[0m\u001b[0mtweet_time\u001b[0m \u001b[1;33m-\u001b[0m \u001b[0mself\u001b[0m\u001b[1;33m.\u001b[0m\u001b[0mdatetime\u001b[0m\u001b[1;33m.\u001b[0m\u001b[0mtimedelta\u001b[0m\u001b[1;33m(\u001b[0m\u001b[0mamount\u001b[0m\u001b[1;33m,\u001b[0m\u001b[1;36m0\u001b[0m\u001b[1;33m,\u001b[0m\u001b[1;36m0\u001b[0m\u001b[1;33m,\u001b[0m\u001b[1;36m0\u001b[0m\u001b[1;33m,\u001b[0m\u001b[1;36m0\u001b[0m\u001b[1;33m)\u001b[0m\u001b[1;33m\u001b[0m\u001b[1;33m\u001b[0m\u001b[0m\n\u001b[1;32m--> 118\u001b[1;33m         \u001b[0mvol_sum\u001b[0m\u001b[1;33m=\u001b[0m\u001b[0mcalculation\u001b[0m\u001b[1;33m(\u001b[0m\u001b[0mfinancial_data\u001b[0m\u001b[1;33m,\u001b[0m\u001b[0mtime_col_name\u001b[0m\u001b[1;33m,\u001b[0m\u001b[0mtime_forward\u001b[0m\u001b[1;33m,\u001b[0m \u001b[0mtime_backward\u001b[0m\u001b[1;33m,\u001b[0m \u001b[0mvolume_col_name\u001b[0m\u001b[1;33m,\u001b[0m\u001b[0mtweet_time\u001b[0m\u001b[1;33m)\u001b[0m\u001b[1;33m\u001b[0m\u001b[1;33m\u001b[0m\u001b[0m\n\u001b[0m\u001b[0;32m    119\u001b[0m \u001b[1;33m\u001b[0m\u001b[0m\n\u001b[0;32m    120\u001b[0m         \u001b[1;32mreturn\u001b[0m \u001b[0mself\u001b[0m\u001b[1;33m.\u001b[0m\u001b[0mpd\u001b[0m\u001b[1;33m.\u001b[0m\u001b[0mDataFrame\u001b[0m\u001b[1;33m(\u001b[0m\u001b[1;33m{\u001b[0m\u001b[1;34mf'{amount}_{interval}_forward_vol_sum'\u001b[0m\u001b[1;33m:\u001b[0m\u001b[0mvol_sum\u001b[0m\u001b[1;33m}\u001b[0m\u001b[1;33m,\u001b[0m\u001b[0mindex\u001b[0m\u001b[1;33m=\u001b[0m\u001b[1;33m[\u001b[0m\u001b[1;36m0\u001b[0m\u001b[1;33m]\u001b[0m\u001b[1;33m)\u001b[0m\u001b[1;33m\u001b[0m\u001b[1;33m\u001b[0m\u001b[0m\n",
      "\u001b[1;32m<ipython-input-14-4bb9990616e3>\u001b[0m in \u001b[0;36mcalculation\u001b[1;34m(financial_data, time_col_name, time_forward, time_backward, volume_col_name, tweet_time)\u001b[0m\n\u001b[0;32m    101\u001b[0m                                         (financial_data[time_col_name]>=tweet_time)][volume_col_name])\n\u001b[0;32m    102\u001b[0m             backward_volume_sum=sum(financial_data.loc[(financial_data[time_col_name]<=tweet_time) & \n\u001b[1;32m--> 103\u001b[1;33m                                         (financial_data[time_col_name]>=time_backward)][volume_col_name])\n\u001b[0m\u001b[0;32m    104\u001b[0m             \u001b[1;32mif\u001b[0m \u001b[0mbackward_volume_sum\u001b[0m \u001b[1;33m!=\u001b[0m \u001b[1;36m0\u001b[0m\u001b[1;33m:\u001b[0m\u001b[1;33m\u001b[0m\u001b[1;33m\u001b[0m\u001b[0m\n\u001b[0;32m    105\u001b[0m                 \u001b[1;32mreturn\u001b[0m \u001b[0mforward_volume_sum\u001b[0m\u001b[1;33m/\u001b[0m\u001b[0mbackward_volume_sum\u001b[0m\u001b[1;33m-\u001b[0m\u001b[1;36m1\u001b[0m\u001b[1;33m\u001b[0m\u001b[1;33m\u001b[0m\u001b[0m\n",
      "\u001b[1;32m~\\Anaconda3\\lib\\site-packages\\pandas\\core\\ops\\__init__.py\u001b[0m in \u001b[0;36mwrapper\u001b[1;34m(self, other)\u001b[0m\n\u001b[0;32m   1299\u001b[0m         \u001b[1;32melif\u001b[0m \u001b[0misinstance\u001b[0m\u001b[1;33m(\u001b[0m\u001b[0mother\u001b[0m\u001b[1;33m,\u001b[0m \u001b[1;33m(\u001b[0m\u001b[0mABCSeries\u001b[0m\u001b[1;33m,\u001b[0m \u001b[0mABCIndexClass\u001b[0m\u001b[1;33m)\u001b[0m\u001b[1;33m)\u001b[0m\u001b[1;33m:\u001b[0m\u001b[1;33m\u001b[0m\u001b[1;33m\u001b[0m\u001b[0m\n\u001b[0;32m   1300\u001b[0m             \u001b[0mis_other_int_dtype\u001b[0m \u001b[1;33m=\u001b[0m \u001b[0mis_integer_dtype\u001b[0m\u001b[1;33m(\u001b[0m\u001b[0mother\u001b[0m\u001b[1;33m.\u001b[0m\u001b[0mdtype\u001b[0m\u001b[1;33m)\u001b[0m\u001b[1;33m\u001b[0m\u001b[1;33m\u001b[0m\u001b[0m\n\u001b[1;32m-> 1301\u001b[1;33m             \u001b[0mother\u001b[0m \u001b[1;33m=\u001b[0m \u001b[0mfill_int\u001b[0m\u001b[1;33m(\u001b[0m\u001b[0mother\u001b[0m\u001b[1;33m)\u001b[0m \u001b[1;32mif\u001b[0m \u001b[0mis_other_int_dtype\u001b[0m \u001b[1;32melse\u001b[0m \u001b[0mfill_bool\u001b[0m\u001b[1;33m(\u001b[0m\u001b[0mother\u001b[0m\u001b[1;33m)\u001b[0m\u001b[1;33m\u001b[0m\u001b[1;33m\u001b[0m\u001b[0m\n\u001b[0m\u001b[0;32m   1302\u001b[0m \u001b[1;33m\u001b[0m\u001b[0m\n\u001b[0;32m   1303\u001b[0m             \u001b[0movalues\u001b[0m \u001b[1;33m=\u001b[0m \u001b[0mother\u001b[0m\u001b[1;33m.\u001b[0m\u001b[0mvalues\u001b[0m\u001b[1;33m\u001b[0m\u001b[1;33m\u001b[0m\u001b[0m\n",
      "\u001b[1;32m~\\Anaconda3\\lib\\site-packages\\pandas\\core\\ops\\__init__.py\u001b[0m in \u001b[0;36m<lambda>\u001b[1;34m(x)\u001b[0m\n\u001b[0;32m   1285\u001b[0m \u001b[1;33m\u001b[0m\u001b[0m\n\u001b[0;32m   1286\u001b[0m     \u001b[0mfill_int\u001b[0m \u001b[1;33m=\u001b[0m \u001b[1;32mlambda\u001b[0m \u001b[0mx\u001b[0m\u001b[1;33m:\u001b[0m \u001b[0mx\u001b[0m\u001b[1;33m.\u001b[0m\u001b[0mfillna\u001b[0m\u001b[1;33m(\u001b[0m\u001b[1;36m0\u001b[0m\u001b[1;33m)\u001b[0m\u001b[1;33m\u001b[0m\u001b[1;33m\u001b[0m\u001b[0m\n\u001b[1;32m-> 1287\u001b[1;33m     \u001b[0mfill_bool\u001b[0m \u001b[1;33m=\u001b[0m \u001b[1;32mlambda\u001b[0m \u001b[0mx\u001b[0m\u001b[1;33m:\u001b[0m \u001b[0mx\u001b[0m\u001b[1;33m.\u001b[0m\u001b[0mfillna\u001b[0m\u001b[1;33m(\u001b[0m\u001b[1;32mFalse\u001b[0m\u001b[1;33m)\u001b[0m\u001b[1;33m.\u001b[0m\u001b[0mastype\u001b[0m\u001b[1;33m(\u001b[0m\u001b[0mbool\u001b[0m\u001b[1;33m)\u001b[0m\u001b[1;33m\u001b[0m\u001b[1;33m\u001b[0m\u001b[0m\n\u001b[0m\u001b[0;32m   1288\u001b[0m \u001b[1;33m\u001b[0m\u001b[0m\n\u001b[0;32m   1289\u001b[0m     \u001b[1;32mdef\u001b[0m \u001b[0mwrapper\u001b[0m\u001b[1;33m(\u001b[0m\u001b[0mself\u001b[0m\u001b[1;33m,\u001b[0m \u001b[0mother\u001b[0m\u001b[1;33m)\u001b[0m\u001b[1;33m:\u001b[0m\u001b[1;33m\u001b[0m\u001b[1;33m\u001b[0m\u001b[0m\n",
      "\u001b[1;32m~\\Anaconda3\\lib\\site-packages\\pandas\\core\\series.py\u001b[0m in \u001b[0;36mfillna\u001b[1;34m(self, value, method, axis, inplace, limit, downcast, **kwargs)\u001b[0m\n\u001b[0;32m   4346\u001b[0m             \u001b[0mlimit\u001b[0m\u001b[1;33m=\u001b[0m\u001b[0mlimit\u001b[0m\u001b[1;33m,\u001b[0m\u001b[1;33m\u001b[0m\u001b[1;33m\u001b[0m\u001b[0m\n\u001b[0;32m   4347\u001b[0m             \u001b[0mdowncast\u001b[0m\u001b[1;33m=\u001b[0m\u001b[0mdowncast\u001b[0m\u001b[1;33m,\u001b[0m\u001b[1;33m\u001b[0m\u001b[1;33m\u001b[0m\u001b[0m\n\u001b[1;32m-> 4348\u001b[1;33m             \u001b[1;33m**\u001b[0m\u001b[0mkwargs\u001b[0m\u001b[1;33m\u001b[0m\u001b[1;33m\u001b[0m\u001b[0m\n\u001b[0m\u001b[0;32m   4349\u001b[0m         )\n\u001b[0;32m   4350\u001b[0m \u001b[1;33m\u001b[0m\u001b[0m\n",
      "\u001b[1;32m~\\Anaconda3\\lib\\site-packages\\pandas\\core\\generic.py\u001b[0m in \u001b[0;36mfillna\u001b[1;34m(self, value, method, axis, inplace, limit, downcast)\u001b[0m\n\u001b[0;32m   6256\u001b[0m \u001b[1;33m\u001b[0m\u001b[0m\n\u001b[0;32m   6257\u001b[0m                 new_data = self._data.fillna(\n\u001b[1;32m-> 6258\u001b[1;33m                     \u001b[0mvalue\u001b[0m\u001b[1;33m=\u001b[0m\u001b[0mvalue\u001b[0m\u001b[1;33m,\u001b[0m \u001b[0mlimit\u001b[0m\u001b[1;33m=\u001b[0m\u001b[0mlimit\u001b[0m\u001b[1;33m,\u001b[0m \u001b[0minplace\u001b[0m\u001b[1;33m=\u001b[0m\u001b[0minplace\u001b[0m\u001b[1;33m,\u001b[0m \u001b[0mdowncast\u001b[0m\u001b[1;33m=\u001b[0m\u001b[0mdowncast\u001b[0m\u001b[1;33m\u001b[0m\u001b[1;33m\u001b[0m\u001b[0m\n\u001b[0m\u001b[0;32m   6259\u001b[0m                 )\n\u001b[0;32m   6260\u001b[0m \u001b[1;33m\u001b[0m\u001b[0m\n",
      "\u001b[1;32m~\\Anaconda3\\lib\\site-packages\\pandas\\core\\internals\\managers.py\u001b[0m in \u001b[0;36mfillna\u001b[1;34m(self, **kwargs)\u001b[0m\n\u001b[0;32m    573\u001b[0m \u001b[1;33m\u001b[0m\u001b[0m\n\u001b[0;32m    574\u001b[0m     \u001b[1;32mdef\u001b[0m \u001b[0mfillna\u001b[0m\u001b[1;33m(\u001b[0m\u001b[0mself\u001b[0m\u001b[1;33m,\u001b[0m \u001b[1;33m**\u001b[0m\u001b[0mkwargs\u001b[0m\u001b[1;33m)\u001b[0m\u001b[1;33m:\u001b[0m\u001b[1;33m\u001b[0m\u001b[1;33m\u001b[0m\u001b[0m\n\u001b[1;32m--> 575\u001b[1;33m         \u001b[1;32mreturn\u001b[0m \u001b[0mself\u001b[0m\u001b[1;33m.\u001b[0m\u001b[0mapply\u001b[0m\u001b[1;33m(\u001b[0m\u001b[1;34m\"fillna\"\u001b[0m\u001b[1;33m,\u001b[0m \u001b[1;33m**\u001b[0m\u001b[0mkwargs\u001b[0m\u001b[1;33m)\u001b[0m\u001b[1;33m\u001b[0m\u001b[1;33m\u001b[0m\u001b[0m\n\u001b[0m\u001b[0;32m    576\u001b[0m \u001b[1;33m\u001b[0m\u001b[0m\n\u001b[0;32m    577\u001b[0m     \u001b[1;32mdef\u001b[0m \u001b[0mdowncast\u001b[0m\u001b[1;33m(\u001b[0m\u001b[0mself\u001b[0m\u001b[1;33m,\u001b[0m \u001b[1;33m**\u001b[0m\u001b[0mkwargs\u001b[0m\u001b[1;33m)\u001b[0m\u001b[1;33m:\u001b[0m\u001b[1;33m\u001b[0m\u001b[1;33m\u001b[0m\u001b[0m\n",
      "\u001b[1;32m~\\Anaconda3\\lib\\site-packages\\pandas\\core\\internals\\managers.py\u001b[0m in \u001b[0;36mapply\u001b[1;34m(self, f, axes, filter, do_integrity_check, consolidate, **kwargs)\u001b[0m\n\u001b[0;32m    436\u001b[0m                     \u001b[0mkwargs\u001b[0m\u001b[1;33m[\u001b[0m\u001b[0mk\u001b[0m\u001b[1;33m]\u001b[0m \u001b[1;33m=\u001b[0m \u001b[0mobj\u001b[0m\u001b[1;33m.\u001b[0m\u001b[0mreindex\u001b[0m\u001b[1;33m(\u001b[0m\u001b[0mb_items\u001b[0m\u001b[1;33m,\u001b[0m \u001b[0maxis\u001b[0m\u001b[1;33m=\u001b[0m\u001b[0maxis\u001b[0m\u001b[1;33m,\u001b[0m \u001b[0mcopy\u001b[0m\u001b[1;33m=\u001b[0m\u001b[0malign_copy\u001b[0m\u001b[1;33m)\u001b[0m\u001b[1;33m\u001b[0m\u001b[1;33m\u001b[0m\u001b[0m\n\u001b[0;32m    437\u001b[0m \u001b[1;33m\u001b[0m\u001b[0m\n\u001b[1;32m--> 438\u001b[1;33m             \u001b[0mapplied\u001b[0m \u001b[1;33m=\u001b[0m \u001b[0mgetattr\u001b[0m\u001b[1;33m(\u001b[0m\u001b[0mb\u001b[0m\u001b[1;33m,\u001b[0m \u001b[0mf\u001b[0m\u001b[1;33m)\u001b[0m\u001b[1;33m(\u001b[0m\u001b[1;33m**\u001b[0m\u001b[0mkwargs\u001b[0m\u001b[1;33m)\u001b[0m\u001b[1;33m\u001b[0m\u001b[1;33m\u001b[0m\u001b[0m\n\u001b[0m\u001b[0;32m    439\u001b[0m             \u001b[0mresult_blocks\u001b[0m \u001b[1;33m=\u001b[0m \u001b[0m_extend_blocks\u001b[0m\u001b[1;33m(\u001b[0m\u001b[0mapplied\u001b[0m\u001b[1;33m,\u001b[0m \u001b[0mresult_blocks\u001b[0m\u001b[1;33m)\u001b[0m\u001b[1;33m\u001b[0m\u001b[1;33m\u001b[0m\u001b[0m\n\u001b[0;32m    440\u001b[0m \u001b[1;33m\u001b[0m\u001b[0m\n",
      "\u001b[1;32m~\\Anaconda3\\lib\\site-packages\\pandas\\core\\internals\\blocks.py\u001b[0m in \u001b[0;36mfillna\u001b[1;34m(self, value, limit, inplace, downcast)\u001b[0m\n\u001b[0;32m    404\u001b[0m         \u001b[0minplace\u001b[0m \u001b[1;33m=\u001b[0m \u001b[0mvalidate_bool_kwarg\u001b[0m\u001b[1;33m(\u001b[0m\u001b[0minplace\u001b[0m\u001b[1;33m,\u001b[0m \u001b[1;34m\"inplace\"\u001b[0m\u001b[1;33m)\u001b[0m\u001b[1;33m\u001b[0m\u001b[1;33m\u001b[0m\u001b[0m\n\u001b[0;32m    405\u001b[0m \u001b[1;33m\u001b[0m\u001b[0m\n\u001b[1;32m--> 406\u001b[1;33m         \u001b[0mmask\u001b[0m \u001b[1;33m=\u001b[0m \u001b[0misna\u001b[0m\u001b[1;33m(\u001b[0m\u001b[0mself\u001b[0m\u001b[1;33m.\u001b[0m\u001b[0mvalues\u001b[0m\u001b[1;33m)\u001b[0m\u001b[1;33m\u001b[0m\u001b[1;33m\u001b[0m\u001b[0m\n\u001b[0m\u001b[0;32m    407\u001b[0m         \u001b[1;32mif\u001b[0m \u001b[0mlimit\u001b[0m \u001b[1;32mis\u001b[0m \u001b[1;32mnot\u001b[0m \u001b[1;32mNone\u001b[0m\u001b[1;33m:\u001b[0m\u001b[1;33m\u001b[0m\u001b[1;33m\u001b[0m\u001b[0m\n\u001b[0;32m    408\u001b[0m             \u001b[1;32mif\u001b[0m \u001b[1;32mnot\u001b[0m \u001b[0mis_integer\u001b[0m\u001b[1;33m(\u001b[0m\u001b[0mlimit\u001b[0m\u001b[1;33m)\u001b[0m\u001b[1;33m:\u001b[0m\u001b[1;33m\u001b[0m\u001b[1;33m\u001b[0m\u001b[0m\n",
      "\u001b[1;32m~\\Anaconda3\\lib\\site-packages\\pandas\\core\\dtypes\\missing.py\u001b[0m in \u001b[0;36misna\u001b[1;34m(obj)\u001b[0m\n\u001b[0;32m    120\u001b[0m     \u001b[0mName\u001b[0m\u001b[1;33m:\u001b[0m \u001b[1;36m1\u001b[0m\u001b[1;33m,\u001b[0m \u001b[0mdtype\u001b[0m\u001b[1;33m:\u001b[0m \u001b[0mbool\u001b[0m\u001b[1;33m\u001b[0m\u001b[1;33m\u001b[0m\u001b[0m\n\u001b[0;32m    121\u001b[0m     \"\"\"\n\u001b[1;32m--> 122\u001b[1;33m     \u001b[1;32mreturn\u001b[0m \u001b[0m_isna\u001b[0m\u001b[1;33m(\u001b[0m\u001b[0mobj\u001b[0m\u001b[1;33m)\u001b[0m\u001b[1;33m\u001b[0m\u001b[1;33m\u001b[0m\u001b[0m\n\u001b[0m\u001b[0;32m    123\u001b[0m \u001b[1;33m\u001b[0m\u001b[0m\n\u001b[0;32m    124\u001b[0m \u001b[1;33m\u001b[0m\u001b[0m\n",
      "\u001b[1;32m~\\Anaconda3\\lib\\site-packages\\pandas\\core\\dtypes\\missing.py\u001b[0m in \u001b[0;36m_isna_new\u001b[1;34m(obj)\u001b[0m\n\u001b[0;32m    145\u001b[0m         ),\n\u001b[0;32m    146\u001b[0m     ):\n\u001b[1;32m--> 147\u001b[1;33m         \u001b[1;32mreturn\u001b[0m \u001b[0m_isna_ndarraylike\u001b[0m\u001b[1;33m(\u001b[0m\u001b[0mobj\u001b[0m\u001b[1;33m)\u001b[0m\u001b[1;33m\u001b[0m\u001b[1;33m\u001b[0m\u001b[0m\n\u001b[0m\u001b[0;32m    148\u001b[0m     \u001b[1;32melif\u001b[0m \u001b[0misinstance\u001b[0m\u001b[1;33m(\u001b[0m\u001b[0mobj\u001b[0m\u001b[1;33m,\u001b[0m \u001b[0mABCGeneric\u001b[0m\u001b[1;33m)\u001b[0m\u001b[1;33m:\u001b[0m\u001b[1;33m\u001b[0m\u001b[1;33m\u001b[0m\u001b[0m\n\u001b[0;32m    149\u001b[0m         \u001b[1;32mreturn\u001b[0m \u001b[0mobj\u001b[0m\u001b[1;33m.\u001b[0m\u001b[0m_constructor\u001b[0m\u001b[1;33m(\u001b[0m\u001b[0mobj\u001b[0m\u001b[1;33m.\u001b[0m\u001b[0m_data\u001b[0m\u001b[1;33m.\u001b[0m\u001b[0misna\u001b[0m\u001b[1;33m(\u001b[0m\u001b[0mfunc\u001b[0m\u001b[1;33m=\u001b[0m\u001b[0misna\u001b[0m\u001b[1;33m)\u001b[0m\u001b[1;33m)\u001b[0m\u001b[1;33m\u001b[0m\u001b[1;33m\u001b[0m\u001b[0m\n",
      "\u001b[1;32m~\\Anaconda3\\lib\\site-packages\\pandas\\core\\dtypes\\missing.py\u001b[0m in \u001b[0;36m_isna_ndarraylike\u001b[1;34m(obj)\u001b[0m\n\u001b[0;32m    254\u001b[0m         \u001b[0mresult\u001b[0m \u001b[1;33m=\u001b[0m \u001b[0mvalues\u001b[0m\u001b[1;33m.\u001b[0m\u001b[0mview\u001b[0m\u001b[1;33m(\u001b[0m\u001b[1;34m\"i8\"\u001b[0m\u001b[1;33m)\u001b[0m \u001b[1;33m==\u001b[0m \u001b[0miNaT\u001b[0m\u001b[1;33m\u001b[0m\u001b[1;33m\u001b[0m\u001b[0m\n\u001b[0;32m    255\u001b[0m     \u001b[1;32melse\u001b[0m\u001b[1;33m:\u001b[0m\u001b[1;33m\u001b[0m\u001b[1;33m\u001b[0m\u001b[0m\n\u001b[1;32m--> 256\u001b[1;33m         \u001b[0mresult\u001b[0m \u001b[1;33m=\u001b[0m \u001b[0mnp\u001b[0m\u001b[1;33m.\u001b[0m\u001b[0misnan\u001b[0m\u001b[1;33m(\u001b[0m\u001b[0mvalues\u001b[0m\u001b[1;33m)\u001b[0m\u001b[1;33m\u001b[0m\u001b[1;33m\u001b[0m\u001b[0m\n\u001b[0m\u001b[0;32m    257\u001b[0m \u001b[1;33m\u001b[0m\u001b[0m\n\u001b[0;32m    258\u001b[0m     \u001b[1;31m# box\u001b[0m\u001b[1;33m\u001b[0m\u001b[1;33m\u001b[0m\u001b[1;33m\u001b[0m\u001b[0m\n",
      "\u001b[1;31mKeyboardInterrupt\u001b[0m: "
     ]
    }
   ],
   "source": [
    "tweets_finance_volume=feat_eng.create_volumesum_columns(twitter_data[['created_at']],'created_at',\n",
    "                                                        sp500_data[['DATETIME','SIZE']],'DATETIME','SIZE',\n",
    "                       [('minutes',1),('minutes',5),('minutes',10),('minutes',15),('minutes',30),('hours',1),\n",
    "                        ('hours',3)])"
   ]
  },
  {
   "cell_type": "code",
   "execution_count": null,
   "metadata": {},
   "outputs": [],
   "source": [
    "tweets_finance=feat_eng.create_pricechg_columns(twitter_data[['created_at']],'created_at',sp500_data,\n",
    "                                                'DATETIME','PRICE',[('minutes',1),('minutes',5),('minutes',10),\n",
    "                                                                    ('minutes',15),('minutes',30),('hours',1),\n",
    "                                                                    ('hours',3),('hours',6)],\n",
    "                                                                    method='forward',logdiff = False)"
   ]
  },
  {
   "cell_type": "code",
   "execution_count": null,
   "metadata": {},
   "outputs": [],
   "source": [
    "twitter_data_with_finance=twitter_data.join(tweets_finance)"
   ]
  },
  {
   "cell_type": "code",
   "execution_count": null,
   "metadata": {},
   "outputs": [],
   "source": [
    "twitter_data_with_finance=twitter_data_with_finance.join(tweets_finance_volume)"
   ]
  },
  {
   "cell_type": "code",
   "execution_count": null,
   "metadata": {},
   "outputs": [],
   "source": [
    "# twitter_data_with_finance.drop(['coordinates','extended_entities','geo','in_reply_to_screen_name',\n",
    "#                                              'in_reply_to_status_id','in_reply_to_user_id','is_quote_status','is_retweet',\n",
    "#                                              'lang','place','possibly_sensitive','quoted_status','quoted_status_id','id',\n",
    "#                                              'retweeted_status','retrieved_utc'],1,inplace=True)"
   ]
  },
  {
   "cell_type": "code",
   "execution_count": null,
   "metadata": {},
   "outputs": [],
   "source": [
    "twitter_data_with_finance=twitter_data_with_finance.join(pd.get_dummies(twitter_data_with_finance['source']))"
   ]
  },
  {
   "cell_type": "code",
   "execution_count": null,
   "metadata": {},
   "outputs": [],
   "source": [
    "twitter_data=pd.DataFrame()\n",
    "financial_data=pd.DataFrame()\n",
    "dow_data=pd.DataFrame()"
   ]
  },
  {
   "cell_type": "code",
   "execution_count": null,
   "metadata": {},
   "outputs": [],
   "source": [
    "twitter_data_with_finance=twitter_data_with_finance.drop(['source'],1)"
   ]
  },
  {
   "cell_type": "code",
   "execution_count": null,
   "metadata": {},
   "outputs": [],
   "source": [
    "# topic_words=['china','chinese','nafta','trade','trades','trading','tariff','tariffs','opec','usmca','xi','jinping','sanctions',\n",
    "#             'market','markets','stock','stocks','financial','investment','dow','nasdaq','500','wall street','wall st',\n",
    "#             'unemployment','jobs','labor',\n",
    "#             'manufacture','manufacturers','consumer','consumers','bank','banks','factories','business','businesses'\n",
    "#                ,'corporate','corporates','industry','industries','product','agriculture','agricultural','products',\n",
    "#             'rate','rates','reserve','inflation','currency','depreciating','depreceate','fed','federal reserve',\n",
    "#             'deal','deals',\n",
    "#              'dollar','dollars','$',\n",
    "#              'billion','billions','gdp','growth',\n",
    "#              'revenue','economy','economies','economist','economic','economists','money',\n",
    "#              'companies',\n",
    "#              'price','prices',\n",
    "#              'cents','cent','purchase',\n",
    "#              'depletion','regulation',\n",
    "#              '401(k)','trillions','recession','depression',\n",
    "#             'taxes','taxation','tax','debt','deficit','spending','refinance','finance','savings','deficits','bankruptcy',\n",
    "#               'spend','cost','costs','subsidizing','subsidize',\n",
    "#             'iran','nuclear','wall','military','daca','bill','danger','conflict','rockets','russia',\n",
    "#                  'middle east','ukrainian','ukraine','isis','syria','border','russian','investigation','kim','jong','un',\n",
    "#                 'caravan','sanctions','corona','virus']"
   ]
  },
  {
   "cell_type": "code",
   "execution_count": null,
   "metadata": {},
   "outputs": [],
   "source": [
    "# financial_words_matrix=feat_eng.token_matrix(twitter_data_with_finance['text'],topic_words)"
   ]
  },
  {
   "cell_type": "code",
   "execution_count": null,
   "metadata": {},
   "outputs": [],
   "source": [
    "# twitter_data_with_finance=twitter_data_with_finance.join(financial_words_matrix)"
   ]
  },
  {
   "cell_type": "code",
   "execution_count": null,
   "metadata": {},
   "outputs": [],
   "source": [
    "# twitter_data_with_finance['trump_president']=twitter_data_with_finance['created_at_utc']>='2016-11-08 22:00:00'"
   ]
  },
  {
   "cell_type": "code",
   "execution_count": null,
   "metadata": {},
   "outputs": [],
   "source": [
    "# twitter_data_with_finance.drop('text',1,inplace=True)"
   ]
  },
  {
   "cell_type": "code",
   "execution_count": null,
   "metadata": {},
   "outputs": [],
   "source": [
    "# twitter_data_with_finance=twitter_data_with_finance.join(pd.get_dummies(twitter_data_with_finance['lda_topic']))"
   ]
  },
  {
   "cell_type": "code",
   "execution_count": null,
   "metadata": {},
   "outputs": [],
   "source": [
    "# twitter_data_with_finance_for_analysis.drop('lda_topic',1,inplace=True)"
   ]
  },
  {
   "cell_type": "code",
   "execution_count": null,
   "metadata": {},
   "outputs": [],
   "source": [
    "twitter_data_with_finance.to_csv('twitter_data_with_sp500_for_analysis.csv')"
   ]
  },
  {
   "cell_type": "code",
   "execution_count": null,
   "metadata": {},
   "outputs": [],
   "source": [
    "# for x in twitter_data_with_finance_for_analysis[twitter_data_with_finance_for_analysis['currency']==1]['text']:\n",
    "#     print(x)"
   ]
  },
  {
   "cell_type": "code",
   "execution_count": null,
   "metadata": {},
   "outputs": [],
   "source": []
  },
  {
   "cell_type": "code",
   "execution_count": null,
   "metadata": {},
   "outputs": [],
   "source": []
  }
 ],
 "metadata": {
  "kernelspec": {
   "display_name": "Python 3",
   "language": "python",
   "name": "python3"
  },
  "language_info": {
   "codemirror_mode": {
    "name": "ipython",
    "version": 3
   },
   "file_extension": ".py",
   "mimetype": "text/x-python",
   "name": "python",
   "nbconvert_exporter": "python",
   "pygments_lexer": "ipython3",
   "version": "3.7.1"
  }
 },
 "nbformat": 4,
 "nbformat_minor": 2
}
