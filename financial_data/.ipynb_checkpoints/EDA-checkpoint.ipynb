{
 "cells": [
  {
   "cell_type": "code",
   "execution_count": 1,
   "metadata": {},
   "outputs": [],
   "source": [
    "import pandas as pd"
   ]
  },
  {
   "cell_type": "code",
   "execution_count": 2,
   "metadata": {},
   "outputs": [],
   "source": [
    "df = pd.read_csv('d2d2aab8f36c9951.csv')"
   ]
  },
  {
   "cell_type": "code",
   "execution_count": 23,
   "metadata": {},
   "outputs": [
    {
     "data": {
      "text/html": [
       "<div>\n",
       "<style scoped>\n",
       "    .dataframe tbody tr th:only-of-type {\n",
       "        vertical-align: middle;\n",
       "    }\n",
       "\n",
       "    .dataframe tbody tr th {\n",
       "        vertical-align: top;\n",
       "    }\n",
       "\n",
       "    .dataframe thead th {\n",
       "        text-align: right;\n",
       "    }\n",
       "</style>\n",
       "<table border=\"1\" class=\"dataframe\">\n",
       "  <thead>\n",
       "    <tr style=\"text-align: right;\">\n",
       "      <th></th>\n",
       "      <th>DATE</th>\n",
       "      <th>TIME_M</th>\n",
       "      <th>SYM_ROOT</th>\n",
       "      <th>SYM_SUFFIX</th>\n",
       "      <th>SIZE</th>\n",
       "      <th>PRICE</th>\n",
       "    </tr>\n",
       "  </thead>\n",
       "  <tbody>\n",
       "    <tr>\n",
       "      <th>467060</th>\n",
       "      <td>20180104</td>\n",
       "      <td>4:00:00.029960000</td>\n",
       "      <td>SPY</td>\n",
       "      <td>NaN</td>\n",
       "      <td>100</td>\n",
       "      <td>270.50</td>\n",
       "    </tr>\n",
       "    <tr>\n",
       "      <th>467061</th>\n",
       "      <td>20180104</td>\n",
       "      <td>4:03:15.018364000</td>\n",
       "      <td>SPY</td>\n",
       "      <td>NaN</td>\n",
       "      <td>50</td>\n",
       "      <td>270.62</td>\n",
       "    </tr>\n",
       "    <tr>\n",
       "      <th>467062</th>\n",
       "      <td>20180104</td>\n",
       "      <td>4:09:04.520558000</td>\n",
       "      <td>SPY</td>\n",
       "      <td>NaN</td>\n",
       "      <td>20</td>\n",
       "      <td>270.70</td>\n",
       "    </tr>\n",
       "    <tr>\n",
       "      <th>467063</th>\n",
       "      <td>20180104</td>\n",
       "      <td>4:09:04.520600000</td>\n",
       "      <td>SPY</td>\n",
       "      <td>NaN</td>\n",
       "      <td>10</td>\n",
       "      <td>270.70</td>\n",
       "    </tr>\n",
       "    <tr>\n",
       "      <th>467064</th>\n",
       "      <td>20180104</td>\n",
       "      <td>4:09:34.585364000</td>\n",
       "      <td>SPY</td>\n",
       "      <td>NaN</td>\n",
       "      <td>1000</td>\n",
       "      <td>270.72</td>\n",
       "    </tr>\n",
       "    <tr>\n",
       "      <th>...</th>\n",
       "      <td>...</td>\n",
       "      <td>...</td>\n",
       "      <td>...</td>\n",
       "      <td>...</td>\n",
       "      <td>...</td>\n",
       "      <td>...</td>\n",
       "    </tr>\n",
       "    <tr>\n",
       "      <th>673631</th>\n",
       "      <td>20180104</td>\n",
       "      <td>19:59:31.125600000</td>\n",
       "      <td>SPY</td>\n",
       "      <td>NaN</td>\n",
       "      <td>2</td>\n",
       "      <td>271.80</td>\n",
       "    </tr>\n",
       "    <tr>\n",
       "      <th>673632</th>\n",
       "      <td>20180104</td>\n",
       "      <td>19:59:46.767850000</td>\n",
       "      <td>SPY</td>\n",
       "      <td>NaN</td>\n",
       "      <td>175</td>\n",
       "      <td>271.80</td>\n",
       "    </tr>\n",
       "    <tr>\n",
       "      <th>673633</th>\n",
       "      <td>20180104</td>\n",
       "      <td>19:59:59.742683000</td>\n",
       "      <td>SPY</td>\n",
       "      <td>NaN</td>\n",
       "      <td>588</td>\n",
       "      <td>271.81</td>\n",
       "    </tr>\n",
       "    <tr>\n",
       "      <th>673634</th>\n",
       "      <td>20180104</td>\n",
       "      <td>20:00:00.002614000</td>\n",
       "      <td>SPY</td>\n",
       "      <td>NaN</td>\n",
       "      <td>0</td>\n",
       "      <td>271.61</td>\n",
       "    </tr>\n",
       "    <tr>\n",
       "      <th>673635</th>\n",
       "      <td>20180104</td>\n",
       "      <td>20:00:00.002638000</td>\n",
       "      <td>SPY</td>\n",
       "      <td>NaN</td>\n",
       "      <td>4638144</td>\n",
       "      <td>271.61</td>\n",
       "    </tr>\n",
       "  </tbody>\n",
       "</table>\n",
       "<p>206576 rows × 6 columns</p>\n",
       "</div>"
      ],
      "text/plain": [
       "            DATE              TIME_M SYM_ROOT  SYM_SUFFIX     SIZE   PRICE\n",
       "467060  20180104   4:00:00.029960000      SPY         NaN      100  270.50\n",
       "467061  20180104   4:03:15.018364000      SPY         NaN       50  270.62\n",
       "467062  20180104   4:09:04.520558000      SPY         NaN       20  270.70\n",
       "467063  20180104   4:09:04.520600000      SPY         NaN       10  270.70\n",
       "467064  20180104   4:09:34.585364000      SPY         NaN     1000  270.72\n",
       "...          ...                 ...      ...         ...      ...     ...\n",
       "673631  20180104  19:59:31.125600000      SPY         NaN        2  271.80\n",
       "673632  20180104  19:59:46.767850000      SPY         NaN      175  271.80\n",
       "673633  20180104  19:59:59.742683000      SPY         NaN      588  271.81\n",
       "673634  20180104  20:00:00.002614000      SPY         NaN        0  271.61\n",
       "673635  20180104  20:00:00.002638000      SPY         NaN  4638144  271.61\n",
       "\n",
       "[206576 rows x 6 columns]"
      ]
     },
     "execution_count": 23,
     "metadata": {},
     "output_type": "execute_result"
    }
   ],
   "source": [
    "df[df['DATE']==20180104]"
   ]
  },
  {
   "cell_type": "code",
   "execution_count": 20,
   "metadata": {},
   "outputs": [
    {
     "name": "stdout",
     "output_type": "stream",
     "text": [
      "<class 'pandas.core.frame.DataFrame'>\n",
      "RangeIndex: 99197474 entries, 0 to 99197473\n",
      "Data columns (total 6 columns):\n",
      "DATE          int64\n",
      "TIME_M        object\n",
      "SYM_ROOT      object\n",
      "SYM_SUFFIX    float64\n",
      "SIZE          int64\n",
      "PRICE         float64\n",
      "dtypes: float64(2), int64(2), object(2)\n",
      "memory usage: 4.4+ GB\n"
     ]
    }
   ],
   "source": [
    "df.info()"
   ]
  },
  {
   "cell_type": "code",
   "execution_count": 24,
   "metadata": {},
   "outputs": [],
   "source": [
    "df_example = df.loc[:206576]"
   ]
  },
  {
   "cell_type": "code",
   "execution_count": 25,
   "metadata": {},
   "outputs": [],
   "source": [
    "df_example.to_csv('df_example_one_day.csv')"
   ]
  },
  {
   "cell_type": "code",
   "execution_count": null,
   "metadata": {},
   "outputs": [],
   "source": []
  }
 ],
 "metadata": {
  "kernelspec": {
   "display_name": "Python 3",
   "language": "python",
   "name": "python3"
  },
  "language_info": {
   "codemirror_mode": {
    "name": "ipython",
    "version": 3
   },
   "file_extension": ".py",
   "mimetype": "text/x-python",
   "name": "python",
   "nbconvert_exporter": "python",
   "pygments_lexer": "ipython3",
   "version": "3.7.1"
  }
 },
 "nbformat": 4,
 "nbformat_minor": 2
}
