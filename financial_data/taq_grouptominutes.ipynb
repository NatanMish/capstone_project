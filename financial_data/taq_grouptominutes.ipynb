{
 "cells": [
  {
   "cell_type": "code",
   "execution_count": 1,
   "metadata": {},
   "outputs": [],
   "source": [
    "import pandas as pd\n",
    "from tqdm import tqdm\n",
    "import os\n",
    "import glob"
   ]
  },
  {
   "cell_type": "code",
   "execution_count": 2,
   "metadata": {},
   "outputs": [],
   "source": [
    "def work_on_part(filename):\n",
    "    df=pd.read_csv(filename)\n",
    "    df['TIME_M']=df['TIME_M'].apply(lambda x : x[:-(len(x)-x.rfind(':'))])\n",
    "#     print('sliced the time')\n",
    "    df[\"DATETIME\"] = df[\"DATE\"].map(str).str.slice(0,10,1) + ' ' + df[\"TIME_M\"].map(str)\n",
    "#     print('created the datetime column')\n",
    "    df[\"DATETIME\"]=pd.to_datetime(df[\"DATETIME\"])\n",
    "#     print('converted to datetime')\n",
    "    df.drop(['DATE','TIME_M'],1,inplace=True)\n",
    "    agg_df=df.groupby(['DATETIME','SYM_ROOT']).sum()\n",
    "#     print('grouped by sum')\n",
    "    mean_df=df[['DATETIME','SYM_ROOT','PRICE']].groupby(['DATETIME','SYM_ROOT']).mean()\n",
    "#     print('grouped by and averaged')\n",
    "    agg_df=agg_df.merge(mean_df,on=['DATETIME','SYM_ROOT'],how='inner')\n",
    "#     print('merged the dfs')\n",
    "    agg_df.drop('PRICE_x',1,inplace=True)\n",
    "    agg_df.rename(columns={'PRICE_y': 'PRICE'}, inplace=True)\n",
    "    agg_df.reset_index(level=[0,1], inplace=True)\n",
    "#     print('reseted the index')\n",
    "    agg_df.to_csv(f'{filename[:-4]}_minute.csv')"
   ]
  },
  {
   "cell_type": "code",
   "execution_count": 2,
   "metadata": {},
   "outputs": [],
   "source": [
    "def divide_to_parts(filename,num_parts):\n",
    "    df=pd.read_csv(filename,index_col='DATE')\n",
    "    df.sort_index(inplace=True)\n",
    "    uni_dates=sorted(list(set(list(df.index))))\n",
    "    length=len(uni_dates)\n",
    "    size_of_part=length//num_parts\n",
    "    for i in tqdm(range(num_parts)):\n",
    "        if i != range(num_parts)[-1]:\n",
    "            part_df=df.loc[(uni_dates[i*size_of_part]):(uni_dates[(i+1)*size_of_part])]\n",
    "            part_df.to_csv(f'SPYDIA_{(uni_dates[i*size_of_part])}_{(uni_dates[(i+1)*size_of_part])}.csv')\n",
    "#             print(f'{(uni_dates[i*size_of_part])}:{(uni_dates[(i+1)*size_of_part])}')\n",
    "        else:\n",
    "            part_df=df.loc[(uni_dates[i*size_of_part]):]\n",
    "            part_df.to_csv(f'SPYDIA_{(uni_dates[i*size_of_part])}_{uni_dates[-1]}.csv')\n",
    "#             print(f'{(uni_dates[i*size_of_part])}:{uni_dates[-1]}')"
   ]
  },
  {
   "cell_type": "code",
   "execution_count": 3,
   "metadata": {},
   "outputs": [
    {
     "name": "stderr",
     "output_type": "stream",
     "text": [
      "C:\\Users\\natan\\Anaconda3\\lib\\site-packages\\numpy\\lib\\arraysetops.py:522: FutureWarning: elementwise comparison failed; returning scalar instead, but in the future will perform elementwise comparison\n",
      "  mask |= (ar1 == a)\n",
      "100%|█████████████████████████████████████████████████████████████████████████████████| 10/10 [19:10<00:00, 114.13s/it]\n"
     ]
    }
   ],
   "source": [
    "divide_to_parts('SPYDIA_04052018-03052019.csv',10)"
   ]
  },
  {
   "cell_type": "code",
   "execution_count": 14,
   "metadata": {},
   "outputs": [],
   "source": [
    "path = 'C:\\\\Users\\\\natan\\\\Documents\\\\GitHub\\\\capstone_project\\\\financial_data'\n",
    "os.chdir(path)\n",
    "result = glob.glob('*.{}'.format('csv'))"
   ]
  },
  {
   "cell_type": "code",
   "execution_count": 19,
   "metadata": {},
   "outputs": [
    {
     "name": "stderr",
     "output_type": "stream",
     "text": [
      "100%|██████████████████████████████████████████████████████████████████████████████| 111/111 [1:08:51<00:00, 23.60s/it]\n"
     ]
    }
   ],
   "source": [
    "for file in tqdm(result):\n",
    "    work_on_part(file)"
   ]
  },
  {
   "cell_type": "code",
   "execution_count": 20,
   "metadata": {},
   "outputs": [],
   "source": [
    "path = 'C:\\\\Users\\\\natan\\\\Documents\\\\GitHub\\\\capstone_project\\\\financial_data'\n",
    "os.chdir(path)\n",
    "result = glob.glob('*.{}'.format('csv'))"
   ]
  },
  {
   "cell_type": "code",
   "execution_count": 24,
   "metadata": {},
   "outputs": [
    {
     "name": "stderr",
     "output_type": "stream",
     "text": [
      "100%|████████████████████████████████████████████████████████████████████████████████| 110/110 [00:28<00:00,  2.24it/s]\n"
     ]
    }
   ],
   "source": [
    "final_df=pd.DataFrame()\n",
    "for filename in tqdm(result):\n",
    "    temp_df=pd.read_csv(filename)\n",
    "    final_df=final_df.append(temp_df)"
   ]
  },
  {
   "cell_type": "code",
   "execution_count": 26,
   "metadata": {},
   "outputs": [],
   "source": [
    "final_df.drop('Unnamed: 0',1,inplace=True)"
   ]
  },
  {
   "cell_type": "code",
   "execution_count": 27,
   "metadata": {},
   "outputs": [],
   "source": [
    "final_df.drop_duplicates(inplace=True)"
   ]
  },
  {
   "cell_type": "code",
   "execution_count": 32,
   "metadata": {},
   "outputs": [],
   "source": [
    "final_df.to_csv('04052009-18122019-SPYDIA-minutedata.csv',index=False)"
   ]
  },
  {
   "cell_type": "code",
   "execution_count": null,
   "metadata": {},
   "outputs": [],
   "source": []
  },
  {
   "cell_type": "code",
   "execution_count": null,
   "metadata": {},
   "outputs": [],
   "source": []
  },
  {
   "cell_type": "code",
   "execution_count": null,
   "metadata": {},
   "outputs": [],
   "source": []
  },
  {
   "cell_type": "code",
   "execution_count": null,
   "metadata": {},
   "outputs": [],
   "source": []
  },
  {
   "cell_type": "code",
   "execution_count": null,
   "metadata": {},
   "outputs": [],
   "source": []
  },
  {
   "cell_type": "code",
   "execution_count": null,
   "metadata": {},
   "outputs": [],
   "source": []
  },
  {
   "cell_type": "code",
   "execution_count": null,
   "metadata": {},
   "outputs": [],
   "source": []
  },
  {
   "cell_type": "code",
   "execution_count": null,
   "metadata": {},
   "outputs": [],
   "source": []
  },
  {
   "cell_type": "code",
   "execution_count": null,
   "metadata": {},
   "outputs": [],
   "source": []
  },
  {
   "cell_type": "code",
   "execution_count": null,
   "metadata": {},
   "outputs": [],
   "source": []
  },
  {
   "cell_type": "code",
   "execution_count": null,
   "metadata": {},
   "outputs": [],
   "source": []
  },
  {
   "cell_type": "code",
   "execution_count": null,
   "metadata": {},
   "outputs": [],
   "source": []
  },
  {
   "cell_type": "code",
   "execution_count": null,
   "metadata": {},
   "outputs": [],
   "source": []
  },
  {
   "cell_type": "code",
   "execution_count": null,
   "metadata": {},
   "outputs": [],
   "source": []
  }
 ],
 "metadata": {
  "kernelspec": {
   "display_name": "Python 3",
   "language": "python",
   "name": "python3"
  },
  "language_info": {
   "codemirror_mode": {
    "name": "ipython",
    "version": 3
   },
   "file_extension": ".py",
   "mimetype": "text/x-python",
   "name": "python",
   "nbconvert_exporter": "python",
   "pygments_lexer": "ipython3",
   "version": "3.7.1"
  }
 },
 "nbformat": 4,
 "nbformat_minor": 2
}
