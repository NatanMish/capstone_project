{
 "cells": [
  {
   "cell_type": "code",
   "execution_count": 1,
   "metadata": {},
   "outputs": [],
   "source": [
    "import pandas as pd"
   ]
  },
  {
   "cell_type": "code",
   "execution_count": 2,
   "metadata": {},
   "outputs": [],
   "source": [
    "import ndjson\n",
    "\n",
    "with open('realdonaldtrump.ndjson') as f:\n",
    "    data = ndjson.load(f)"
   ]
  },
  {
   "cell_type": "code",
   "execution_count": 3,
   "metadata": {},
   "outputs": [],
   "source": [
    "df=pd.DataFrame(data)"
   ]
  },
  {
   "cell_type": "code",
   "execution_count": 4,
   "metadata": {},
   "outputs": [
    {
     "name": "stdout",
     "output_type": "stream",
     "text": [
      "40241\n"
     ]
    }
   ],
   "source": [
    "print(len(df.drop_duplicates('id')))"
   ]
  },
  {
   "cell_type": "code",
   "execution_count": 5,
   "metadata": {},
   "outputs": [],
   "source": [
    "df2=pd.read_csv('tweets_from_trumptweetssite.csv')"
   ]
  },
  {
   "cell_type": "code",
   "execution_count": 6,
   "metadata": {},
   "outputs": [
    {
     "data": {
      "text/plain": [
       "0        1.205150e+18\n",
       "1        1.205134e+18\n",
       "2        1.205133e+18\n",
       "3        1.205132e+18\n",
       "4        1.205129e+18\n",
       "             ...     \n",
       "40686    1.773561e+09\n",
       "40687    1.741161e+09\n",
       "40688    1.737480e+09\n",
       "40689    1.701461e+09\n",
       "40690    1.698309e+09\n",
       "Name: id_str, Length: 40691, dtype: float64"
      ]
     },
     "execution_count": 6,
     "metadata": {},
     "output_type": "execute_result"
    }
   ],
   "source": [
    "df2['id_str']"
   ]
  },
  {
   "cell_type": "code",
   "execution_count": 7,
   "metadata": {},
   "outputs": [],
   "source": [
    "import numpy as np"
   ]
  },
  {
   "cell_type": "code",
   "execution_count": 8,
   "metadata": {},
   "outputs": [],
   "source": [
    "df2.dropna(inplace=True)"
   ]
  },
  {
   "cell_type": "code",
   "execution_count": null,
   "metadata": {},
   "outputs": [],
   "source": []
  },
  {
   "cell_type": "code",
   "execution_count": 9,
   "metadata": {},
   "outputs": [],
   "source": [
    "df2['id_str']=df2['id_str'].astype(np.int64)"
   ]
  },
  {
   "cell_type": "code",
   "execution_count": 10,
   "metadata": {},
   "outputs": [],
   "source": [
    "df=df.merge(df2,left_on='id',right_on='id_str',how='inner')"
   ]
  },
  {
   "cell_type": "code",
   "execution_count": 11,
   "metadata": {},
   "outputs": [
    {
     "data": {
      "text/plain": [
       "24192"
      ]
     },
     "execution_count": 11,
     "metadata": {},
     "output_type": "execute_result"
    }
   ],
   "source": [
    "len(df)"
   ]
  },
  {
   "cell_type": "code",
   "execution_count": 12,
   "metadata": {},
   "outputs": [],
   "source": [
    "df.drop('text_x',1,inplace=True)"
   ]
  },
  {
   "cell_type": "code",
   "execution_count": 13,
   "metadata": {},
   "outputs": [],
   "source": [
    "df.rename(columns={'text_y': 'text'}, inplace=True)"
   ]
  },
  {
   "cell_type": "code",
   "execution_count": 14,
   "metadata": {},
   "outputs": [],
   "source": [
    "df.drop('created_at_x',1,inplace=True)\n",
    "df.rename(columns={'created_at_y': 'created_at_utc'}, inplace=True)"
   ]
  },
  {
   "cell_type": "code",
   "execution_count": 15,
   "metadata": {},
   "outputs": [],
   "source": [
    "df[\"favorite_count\"] = df[[\"favorite_count_x\", \"favorite_count_y\"]].max(axis=1)\n",
    "df.drop([\"favorite_count_x\", \"favorite_count_y\"],1,inplace=True)"
   ]
  },
  {
   "cell_type": "code",
   "execution_count": 16,
   "metadata": {},
   "outputs": [],
   "source": [
    "df.drop(['id_str_x','id_str_y'],1,inplace=True)"
   ]
  },
  {
   "cell_type": "code",
   "execution_count": 17,
   "metadata": {},
   "outputs": [],
   "source": [
    "df.drop(['contributors'],1,inplace=True)"
   ]
  },
  {
   "cell_type": "code",
   "execution_count": 18,
   "metadata": {},
   "outputs": [],
   "source": [
    "df.drop(['favorited'],1,inplace=True)"
   ]
  },
  {
   "cell_type": "code",
   "execution_count": 19,
   "metadata": {},
   "outputs": [],
   "source": [
    "df.drop(['in_reply_to_status_id_str','in_reply_to_user_id_str'],1,inplace=True)"
   ]
  },
  {
   "cell_type": "code",
   "execution_count": 20,
   "metadata": {},
   "outputs": [],
   "source": [
    "df['retrieved_utc']=df['retrieved_utc'].astype(np.int64)"
   ]
  },
  {
   "cell_type": "code",
   "execution_count": 21,
   "metadata": {},
   "outputs": [],
   "source": [
    "df[\"retweet_count\"] = df[[\"retweet_count_x\", \"retweet_count_y\"]].max(axis=1)\n",
    "df.drop([\"retweet_count_x\", \"retweet_count_y\"],1,inplace=True)"
   ]
  },
  {
   "cell_type": "code",
   "execution_count": 22,
   "metadata": {},
   "outputs": [],
   "source": [
    "df.drop(['retweeted'],1,inplace=True)"
   ]
  },
  {
   "cell_type": "code",
   "execution_count": 23,
   "metadata": {},
   "outputs": [],
   "source": [
    "df.drop('source_x',1,inplace=True)\n",
    "df.rename(columns={'source_y': 'source'}, inplace=True)"
   ]
  },
  {
   "cell_type": "code",
   "execution_count": 24,
   "metadata": {},
   "outputs": [
    {
     "name": "stderr",
     "output_type": "stream",
     "text": [
      "C:\\Users\\natan\\Anaconda3\\lib\\site-packages\\ipykernel_launcher.py:1: FutureWarning: The signature of `Series.to_csv` was aligned to that of `DataFrame.to_csv`, and argument 'header' will change its default value from False to True: please pass an explicit value to suppress this warning.\n",
      "  \"\"\"Entry point for launching an IPython kernel.\n"
     ]
    }
   ],
   "source": [
    "df['user'].to_csv('user_column.csv')"
   ]
  },
  {
   "cell_type": "code",
   "execution_count": 26,
   "metadata": {},
   "outputs": [],
   "source": [
    "df.drop([\"user\"],1,inplace=True)"
   ]
  },
  {
   "cell_type": "code",
   "execution_count": 27,
   "metadata": {},
   "outputs": [],
   "source": [
    "df.drop([\"quoted_status_id_str\"],1,inplace=True)"
   ]
  },
  {
   "cell_type": "code",
   "execution_count": 28,
   "metadata": {},
   "outputs": [],
   "source": [
    "df.drop([\"withheld_copyright\"],1,inplace=True)"
   ]
  },
  {
   "cell_type": "code",
   "execution_count": 29,
   "metadata": {},
   "outputs": [],
   "source": [
    "df.drop([\"withheld_in_countries\"],1,inplace=True)"
   ]
  },
  {
   "cell_type": "code",
   "execution_count": 30,
   "metadata": {},
   "outputs": [],
   "source": [
    "df.drop([\"withheld_scope\"],1,inplace=True)"
   ]
  },
  {
   "cell_type": "code",
   "execution_count": 31,
   "metadata": {},
   "outputs": [],
   "source": [
    "df.drop([\"scopes\"],1,inplace=True)"
   ]
  },
  {
   "cell_type": "code",
   "execution_count": 32,
   "metadata": {},
   "outputs": [
    {
     "data": {
      "text/plain": [
       "Index(['coordinates', 'entities', 'geo', 'id', 'in_reply_to_screen_name',\n",
       "       'in_reply_to_status_id', 'in_reply_to_user_id', 'is_quote_status',\n",
       "       'lang', 'place', 'retrieved_utc', 'truncated', 'possibly_sensitive',\n",
       "       'extended_entities', 'quoted_status', 'quoted_status_id',\n",
       "       'retweeted_status', 'source', 'text', 'created_at_utc', 'is_retweet',\n",
       "       'favorite_count', 'retweet_count'],\n",
       "      dtype='object')"
      ]
     },
     "execution_count": 32,
     "metadata": {},
     "output_type": "execute_result"
    }
   ],
   "source": [
    "df.columns"
   ]
  },
  {
   "cell_type": "code",
   "execution_count": 33,
   "metadata": {},
   "outputs": [],
   "source": [
    "df['hashtags']=[d.get('hashtags') for d in df['entities']]"
   ]
  },
  {
   "cell_type": "code",
   "execution_count": 34,
   "metadata": {},
   "outputs": [],
   "source": [
    "df['user_mentions']=[d.get('user_mentions') for d in df['entities']]"
   ]
  },
  {
   "cell_type": "code",
   "execution_count": 35,
   "metadata": {},
   "outputs": [],
   "source": [
    "df.drop([\"entities\"],1,inplace=True)"
   ]
  },
  {
   "cell_type": "code",
   "execution_count": 36,
   "metadata": {},
   "outputs": [],
   "source": [
    "temp=[pd.DataFrame(x) for x in df['hashtags']]"
   ]
  },
  {
   "cell_type": "code",
   "execution_count": 37,
   "metadata": {},
   "outputs": [],
   "source": [
    "temp2=[x['text'].to_dict() if len(x)>0 else np.nan for x in temp]"
   ]
  },
  {
   "cell_type": "code",
   "execution_count": 38,
   "metadata": {},
   "outputs": [],
   "source": [
    "df['hashtags']=temp2"
   ]
  },
  {
   "cell_type": "code",
   "execution_count": 39,
   "metadata": {},
   "outputs": [
    {
     "data": {
      "text/plain": [
       "{0: 'Trump2016'}                                292\n",
       "{0: 'MakeAmericaGreatAgain'}                    159\n",
       "{0: 'CelebApprentice'}                          148\n",
       "{0: 'MAGA'}                                      94\n",
       "{0: 'MakeAmericaGreatAgain', 1: 'Trump2016'}     72\n",
       "                                               ... \n",
       "{0: 'BenghaziHearings', 1: 'pathetic'}            1\n",
       "{0: 'almostgraduating'}                           1\n",
       "{0: 'Broward'}                                    1\n",
       "{0: 'Crowd'}                                      1\n",
       "{0: 'NeverTrump'}                                 1\n",
       "Name: hashtags, Length: 1552, dtype: int64"
      ]
     },
     "execution_count": 39,
     "metadata": {},
     "output_type": "execute_result"
    }
   ],
   "source": [
    "df['hashtags'].value_counts()"
   ]
  },
  {
   "cell_type": "code",
   "execution_count": 40,
   "metadata": {},
   "outputs": [],
   "source": [
    "temp=[pd.DataFrame(x) for x in df['user_mentions']]\n",
    "temp2=[x['screen_name'].to_dict() if len(x)>0 else np.nan for x in temp]\n",
    "df['user_mentions']=temp2"
   ]
  },
  {
   "cell_type": "code",
   "execution_count": 41,
   "metadata": {},
   "outputs": [
    {
     "data": {
      "text/plain": [
       "{0: 'realDonaldTrump'}                                        805\n",
       "{0: 'BarackObama'}                                            305\n",
       "{0: 'foxandfriends'}                                          152\n",
       "{0: 'MittRomney'}                                             106\n",
       "{0: 'FoxNews'}                                                 87\n",
       "                                                             ... \n",
       "{0: 'IvankaTrump', 1: 'EricTrump', 2: 'DonaldJTrumpJr'}         1\n",
       "{0: 'PrisonPlanet'}                                             1\n",
       "{0: 'realDonaldTrump', 1: 'gameexpress1'}                       1\n",
       "{0: 'Jmano33', 1: 'realDonaldTrump'}                            1\n",
       "{0: 'vettesetter', 1: 'realDonaldTrump', 2: 'usatopinion'}      1\n",
       "Name: user_mentions, Length: 9137, dtype: int64"
      ]
     },
     "execution_count": 41,
     "metadata": {},
     "output_type": "execute_result"
    }
   ],
   "source": [
    "df['user_mentions'].value_counts()"
   ]
  },
  {
   "cell_type": "code",
   "execution_count": 42,
   "metadata": {},
   "outputs": [],
   "source": [
    "new_tweets=pd.read_csv('tweets_from_trumptweetssite_from100719.csv')"
   ]
  },
  {
   "cell_type": "code",
   "execution_count": 43,
   "metadata": {},
   "outputs": [
    {
     "data": {
      "text/plain": [
       "Index(['source', 'text', 'created_at', 'retweet_count', 'favorite_count',\n",
       "       'is_retweet', 'id_str'],\n",
       "      dtype='object')"
      ]
     },
     "execution_count": 43,
     "metadata": {},
     "output_type": "execute_result"
    }
   ],
   "source": [
    "new_tweets.columns"
   ]
  },
  {
   "cell_type": "code",
   "execution_count": 44,
   "metadata": {},
   "outputs": [
    {
     "data": {
      "text/plain": [
       "Index(['coordinates', 'geo', 'id', 'in_reply_to_screen_name',\n",
       "       'in_reply_to_status_id', 'in_reply_to_user_id', 'is_quote_status',\n",
       "       'lang', 'place', 'retrieved_utc', 'truncated', 'possibly_sensitive',\n",
       "       'extended_entities', 'quoted_status', 'quoted_status_id',\n",
       "       'retweeted_status', 'source', 'text', 'created_at_utc', 'is_retweet',\n",
       "       'favorite_count', 'retweet_count', 'hashtags', 'user_mentions'],\n",
       "      dtype='object')"
      ]
     },
     "execution_count": 44,
     "metadata": {},
     "output_type": "execute_result"
    }
   ],
   "source": [
    "df.columns"
   ]
  },
  {
   "cell_type": "code",
   "execution_count": 45,
   "metadata": {},
   "outputs": [],
   "source": [
    "new_tweets.rename(columns={'created_at': 'created_at_utc','id_str': 'id'}, inplace=True)"
   ]
  },
  {
   "cell_type": "code",
   "execution_count": 46,
   "metadata": {},
   "outputs": [],
   "source": [
    "new_tweets.drop_duplicates('text',inplace=True)"
   ]
  },
  {
   "cell_type": "code",
   "execution_count": 47,
   "metadata": {},
   "outputs": [
    {
     "name": "stderr",
     "output_type": "stream",
     "text": [
      "C:\\Users\\natan\\Anaconda3\\lib\\site-packages\\pandas\\core\\frame.py:7138: FutureWarning: Sorting because non-concatenation axis is not aligned. A future version\n",
      "of pandas will change to not sort by default.\n",
      "\n",
      "To accept the future behavior, pass 'sort=False'.\n",
      "\n",
      "To retain the current behavior and silence the warning, pass 'sort=True'.\n",
      "\n",
      "  sort=sort,\n"
     ]
    }
   ],
   "source": [
    "df=df.append(new_tweets, ignore_index = True) "
   ]
  },
  {
   "cell_type": "code",
   "execution_count": 48,
   "metadata": {},
   "outputs": [
    {
     "data": {
      "text/plain": [
       "28584"
      ]
     },
     "execution_count": 48,
     "metadata": {},
     "output_type": "execute_result"
    }
   ],
   "source": [
    "len(df.astype(str).drop_duplicates('text'))"
   ]
  },
  {
   "cell_type": "code",
   "execution_count": 51,
   "metadata": {},
   "outputs": [
    {
     "data": {
      "text/plain": [
       "28584"
      ]
     },
     "execution_count": 51,
     "metadata": {},
     "output_type": "execute_result"
    }
   ],
   "source": [
    "len(df)"
   ]
  },
  {
   "cell_type": "code",
   "execution_count": 50,
   "metadata": {},
   "outputs": [],
   "source": [
    "df=df.drop_duplicates('text')"
   ]
  },
  {
   "cell_type": "code",
   "execution_count": 54,
   "metadata": {},
   "outputs": [],
   "source": [
    "df['created_at_utc']=pd.to_datetime(df['created_at_utc'], errors='raise')"
   ]
  },
  {
   "cell_type": "code",
   "execution_count": 57,
   "metadata": {},
   "outputs": [],
   "source": [
    "df.sort_values('created_at_utc',inplace=True)"
   ]
  },
  {
   "cell_type": "code",
   "execution_count": 61,
   "metadata": {},
   "outputs": [
    {
     "name": "stdout",
     "output_type": "stream",
     "text": [
      "<class 'pandas.core.frame.DataFrame'>\n",
      "Int64Index: 28584 entries, 0 to 24192\n",
      "Data columns (total 24 columns):\n",
      "coordinates                1466 non-null object\n",
      "created_at_utc             28584 non-null datetime64[ns]\n",
      "extended_entities          1344 non-null object\n",
      "favorite_count             28584 non-null int64\n",
      "geo                        1466 non-null object\n",
      "hashtags                   3310 non-null object\n",
      "id                         28584 non-null int64\n",
      "in_reply_to_screen_name    1601 non-null object\n",
      "in_reply_to_status_id      1305 non-null float64\n",
      "in_reply_to_user_id        1601 non-null float64\n",
      "is_quote_status            24116 non-null object\n",
      "is_retweet                 28584 non-null object\n",
      "lang                       24116 non-null object\n",
      "place                      1846 non-null object\n",
      "possibly_sensitive         5528 non-null object\n",
      "quoted_status              281 non-null object\n",
      "quoted_status_id           367 non-null float64\n",
      "retrieved_utc              24116 non-null float64\n",
      "retweet_count              28584 non-null float64\n",
      "retweeted_status           940 non-null object\n",
      "source                     28584 non-null object\n",
      "text                       28584 non-null object\n",
      "truncated                  24116 non-null object\n",
      "user_mentions              13498 non-null object\n",
      "dtypes: datetime64[ns](1), float64(5), int64(2), object(16)\n",
      "memory usage: 5.5+ MB\n"
     ]
    }
   ],
   "source": [
    "df.info()"
   ]
  },
  {
   "cell_type": "code",
   "execution_count": 60,
   "metadata": {},
   "outputs": [],
   "source": [
    "df.to_csv('trump_tweets_reducted.csv')"
   ]
  },
  {
   "cell_type": "code",
   "execution_count": null,
   "metadata": {},
   "outputs": [],
   "source": []
  }
 ],
 "metadata": {
  "kernelspec": {
   "display_name": "Python 3",
   "language": "python",
   "name": "python3"
  },
  "language_info": {
   "codemirror_mode": {
    "name": "ipython",
    "version": 3
   },
   "file_extension": ".py",
   "mimetype": "text/x-python",
   "name": "python",
   "nbconvert_exporter": "python",
   "pygments_lexer": "ipython3",
   "version": "3.7.1"
  }
 },
 "nbformat": 4,
 "nbformat_minor": 2
}
