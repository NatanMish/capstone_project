{
 "cells": [
  {
   "cell_type": "code",
   "execution_count": 1,
   "metadata": {},
   "outputs": [],
   "source": [
    "class get_tweets:\n",
    "    tweepy = __import__('tweepy')\n",
    "    pd = __import__('pandas')\n",
    "    datetime = __import__('datetime')\n",
    "    \n",
    "    def __init__(self):\n",
    "        print('get_tweets V.0.1 \\nImported tweepy,pandas,datetime packages')\n",
    "        \n",
    "    def connect(self,consumer_key,consumer_secret,access_token,access_token_secret):\n",
    "        consumer_key = consumer_key\n",
    "        consumer_secret = consumer_secret\n",
    "        access_token = access_token\n",
    "        access_token_secret = access_token_secret\n",
    "        auth = self.tweepy.OAuthHandler(consumer_key, consumer_secret)\n",
    "        auth.set_access_token(access_token, access_token_secret)\n",
    "        self.api = self.tweepy.API(auth)\n",
    "        \n",
    "    def tweet_to_df(self,tweet):\n",
    "        fields = ['created_at','id', 'full_text','display_text_range', \"entities\",'in_reply_to_status_id',\n",
    "                  'in_reply_to_user_id','coordinates','user','retweet_count','favorite_count']\n",
    "        fields_dict={}\n",
    "        for field in fields:\n",
    "            fields_dict[field] = getattr(tweet, field)\n",
    "        temp_tweet = self.pd.DataFrame.from_dict(fields_dict, orient='index').T\n",
    "        return temp_tweet\n",
    "    \n",
    "    def get_original_tweets(self,user_name):\n",
    "        user_object = self.api.get_user(screen_name=user_name)\n",
    "        user_id = user_object.id_str\n",
    "        tweets_df = self.pd.DataFrame()\n",
    "        for tweet in self.tweepy.Cursor(self.api.user_timeline, id=user_id, tweet_mode='extended').items(200):\n",
    "            if (not tweet.retweeted) and ('RT @' not in tweet.full_text):\n",
    "                single_tweet=self.tweet_to_df(tweet)\n",
    "                tweets_df = self.pd.concat([tweets_df, single_tweet], ignore_index=True)\n",
    "        earliest_tweet = min(tweets_df['id'])\n",
    "        while True:\n",
    "            for tweet in self.tweepy.Cursor(self.api.user_timeline, id=user_id, max_id=earliest_tweet, tweet_mode='extended').items(200):\n",
    "                if (not tweet.retweeted) and ('RT @' not in tweet.full_text):\n",
    "                    single_tweet=self.tweet_to_df(tweet)\n",
    "                    tweets_df = self.pd.concat([tweets_df, single_tweet], ignore_index=True)\n",
    "            new_earliest = min(tweets_df['id'])\n",
    "            if new_earliest == earliest_tweet:\n",
    "                break\n",
    "            else:\n",
    "                earliest_tweet = new_earliest\n",
    "            print(f'Number of original Tweets got so far:{len(tweets_df)}')\n",
    "        tweets_df['hashtags'] = [d.get('hasthags') for d in tweets_df.entities]\n",
    "        tweets_df['user_mentions'] = [d.get('user_mentions') for d in tweets_df.entities]\n",
    "        tweets_df['followers_count'] = [d.followers_count for d in tweets_df.user]\n",
    "        tweets_df.drop(['user','entities'], axis=1, inplace=True)\n",
    "        return tweets_df\n",
    "    \n",
    "    def get_original_tweets_by_dates(self,user_name,start_date,end_date):\n",
    "        user_object = self.api.get_user(screen_name=user_name)\n",
    "        user_id = user_object.id_str\n",
    "        tweets_df = self.pd.DataFrame()\n",
    "        for tweet in self.tweepy.Cursor(self.api.user_timeline, id=user_id, tweet_mode='extended').items(200):\n",
    "            if (not tweet.retweeted) and ('RT @' not in tweet.full_text) and (self.datetime.datetime(end_date['year'], end_date['month'], end_date['day']) >= tweet.created_at):\n",
    "                if (self.datetime.datetime(start_date['year'], start_date['month'], start_date['day']) >= tweet.created_at):\n",
    "                    break\n",
    "                else:\n",
    "                    single_tweet=self.tweet_to_df(tweet)\n",
    "                    tweets_df = self.pd.concat([tweets_df, single_tweet], ignore_index=True)\n",
    "        earliest_tweet = min(tweets_df['id'])\n",
    "        while True:\n",
    "            for tweet in self.tweepy.Cursor(self.api.user_timeline, id=user_id, max_id=earliest_tweet, tweet_mode='extended').items(200):\n",
    "                if (not tweet.retweeted) and ('RT @' not in tweet.full_text) and (self.datetime.datetime(end_date['year'], end_date['month'], end_date['day']) >= tweet.created_at):\n",
    "                    if (self.datetime.datetime(start_date['year'], start_date['month'], start_date['day']) >= tweet.created_at):\n",
    "                        break\n",
    "                    else:\n",
    "                        single_tweet=self.tweet_to_df(tweet)\n",
    "                        tweets_df = self.pd.concat([tweets_df, single_tweet], ignore_index=True)\n",
    "            new_earliest = min(tweets_df['id'])\n",
    "            if new_earliest == earliest_tweet:\n",
    "                break\n",
    "            else:\n",
    "                earliest_tweet = new_earliest\n",
    "            print(f'Number of original Tweets got so far:{len(tweets_df)}')\n",
    "        tweets_df['hashtags'] = [d.get('hasthags') for d in tweets_df.entities]\n",
    "        tweets_df['user_mentions'] = [d.get('user_mentions') for d in tweets_df.entities]\n",
    "        tweets_df['followers_count'] = [d.followers_count for d in tweets_df.user]\n",
    "        tweets_df.drop(['user','entities'], axis=1, inplace=True)\n",
    "        return tweets_df\n"
   ]
  },
  {
   "cell_type": "code",
   "execution_count": 2,
   "metadata": {},
   "outputs": [
    {
     "name": "stdout",
     "output_type": "stream",
     "text": [
      "get_tweets V.0.1 \n",
      "Imported tweepy,pandas,datetime packages\n"
     ]
    }
   ],
   "source": [
    "ins = get_tweets()"
   ]
  },
  {
   "cell_type": "code",
   "execution_count": 3,
   "metadata": {},
   "outputs": [],
   "source": [
    "ins.connect('9fNwXla6gTMXBlL7P5LCbyKhU',\n",
    "            '03rznfCOH4twqCkc7tZHeIXikZ4D1sY6rH3j3Fw3nESYDxHmrb',\n",
    "            '977303768558718978-rXF69Ll2f6pLwHBDMg25K3yO4H8G79T',\n",
    "            'UbbdQWpbBzLjOb0Z4Ef7trJG7SVXwDmYxYTRvbjSm780q')"
   ]
  },
  {
   "cell_type": "code",
   "execution_count": 4,
   "metadata": {},
   "outputs": [
    {
     "name": "stdout",
     "output_type": "stream",
     "text": [
      "Number of original Tweets got so far:121\n",
      "Number of original Tweets got so far:226\n",
      "Number of original Tweets got so far:341\n",
      "Number of original Tweets got so far:453\n",
      "Number of original Tweets got so far:535\n",
      "Number of original Tweets got so far:653\n",
      "Number of original Tweets got so far:769\n",
      "Number of original Tweets got so far:871\n",
      "Number of original Tweets got so far:1012\n",
      "Number of original Tweets got so far:1155\n",
      "Number of original Tweets got so far:1259\n",
      "Number of original Tweets got so far:1377\n",
      "Number of original Tweets got so far:1488\n",
      "Number of original Tweets got so far:1601\n",
      "Number of original Tweets got so far:1694\n",
      "Number of original Tweets got so far:1733\n"
     ]
    }
   ],
   "source": [
    "pence=ins.get_original_tweets('@VP')"
   ]
  },
  {
   "cell_type": "code",
   "execution_count": 342,
   "metadata": {},
   "outputs": [
    {
     "name": "stdout",
     "output_type": "stream",
     "text": [
      "Number of original Tweets got so far:91\n",
      "Number of original Tweets got so far:170\n",
      "Number of original Tweets got so far:274\n",
      "Number of original Tweets got so far:379\n",
      "Number of original Tweets got so far:466\n",
      "Number of original Tweets got so far:570\n",
      "Number of original Tweets got so far:668\n",
      "Number of original Tweets got so far:768\n",
      "Number of original Tweets got so far:897\n",
      "Number of original Tweets got so far:1033\n",
      "Number of original Tweets got so far:1159\n",
      "Number of original Tweets got so far:1277\n",
      "Number of original Tweets got so far:1408\n",
      "Number of original Tweets got so far:1535\n",
      "Number of original Tweets got so far:1670\n",
      "Number of original Tweets got so far:1690\n",
      "Number of original Tweets got so far:1699\n"
     ]
    }
   ],
   "source": [
    "trump=ins.get_original_tweets_by_dates('@realDonaldTrump',{'year':2019,'month':1,'day':1},{'year':2019,'month':12,'day':14})"
   ]
  },
  {
   "cell_type": "code",
   "execution_count": null,
   "metadata": {},
   "outputs": [],
   "source": []
  },
  {
   "cell_type": "code",
   "execution_count": null,
   "metadata": {},
   "outputs": [],
   "source": []
  },
  {
   "cell_type": "code",
   "execution_count": null,
   "metadata": {
    "scrolled": true
   },
   "outputs": [],
   "source": []
  },
  {
   "cell_type": "code",
   "execution_count": null,
   "metadata": {},
   "outputs": [],
   "source": []
  },
  {
   "cell_type": "code",
   "execution_count": null,
   "metadata": {},
   "outputs": [],
   "source": []
  }
 ],
 "metadata": {
  "kernelspec": {
   "display_name": "Python 3",
   "language": "python",
   "name": "python3"
  },
  "language_info": {
   "codemirror_mode": {
    "name": "ipython",
    "version": 3
   },
   "file_extension": ".py",
   "mimetype": "text/x-python",
   "name": "python",
   "nbconvert_exporter": "python",
   "pygments_lexer": "ipython3",
   "version": "3.7.1"
  }
 },
 "nbformat": 4,
 "nbformat_minor": 2
}
