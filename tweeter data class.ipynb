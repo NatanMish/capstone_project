{
 "cells": [
  {
   "cell_type": "code",
   "execution_count": 262,
   "metadata": {},
   "outputs": [],
   "source": [
    "class get_tweets:\n",
    "    tweepy = __import__('tweepy')\n",
    "    pd = __import__('pandas')\n",
    "    def __init__(self):\n",
    "        print('get_tweets V.0.1 \\nImported tweepy,pandas packages')\n",
    "    def connect(self,consumer_key,consumer_secret,access_token,access_token_secret):\n",
    "        consumer_key = consumer_key\n",
    "        consumer_secret = consumer_secret\n",
    "        access_token = access_token\n",
    "        access_token_secret = access_token_secret\n",
    "        auth = self.tweepy.OAuthHandler(consumer_key, consumer_secret)\n",
    "        auth.set_access_token(access_token, access_token_secret)\n",
    "        self.api = self.tweepy.API(auth)\n",
    "    def tweet_to_df(self,tweet):\n",
    "        fields = ['created_at','id', 'full_text','display_text_range', \"entities\",'in_reply_to_status_id',\n",
    "                  'in_reply_to_user_id','coordinates','user','retweet_count','favorite_count']\n",
    "        fields_dict={}\n",
    "        for field in fields:\n",
    "            fields_dict[field] = getattr(tweet, field)\n",
    "        temp_tweet = self.pd.DataFrame.from_dict(fields_dict, orient='index').T\n",
    "        return temp_tweet\n",
    "    def get_original_tweets(self,user_id):\n",
    "        tweets_df = self.pd.DataFrame()\n",
    "        for tweet in self.tweepy.Cursor(self.api.user_timeline, id=user_id, tweet_mode='extended').items(200):\n",
    "            print(tweet.id)\n",
    "            if (not tweet.retweeted) and ('RT @' not in tweet.full_text):\n",
    "                single_tweet=self.tweet_to_df(tweet)\n",
    "                tweets_df = self.pd.concat([tweets_df, single_tweet], ignore_index=True)\n",
    "        earliest_tweet = min(tweets_df['id'])\n",
    "        while True:\n",
    "            for tweet in self.tweepy.Cursor(self.api.user_timeline, id=user_id, max_id=earliest_tweet, tweet_mode='extended').items(200):\n",
    "                print(tweet.id)\n",
    "                if (not tweet.retweeted) and ('RT @' not in tweet.full_text):\n",
    "                    single_tweet=self.tweet_to_df(tweet)\n",
    "                    tweets_df = self.pd.concat([tweets_df, single_tweet], ignore_index=True)\n",
    "            new_earliest = min(tweets_df['id'])\n",
    "            if new_earliest == earliest_tweet:\n",
    "                break\n",
    "            else:\n",
    "                earliest_tweet = new_earliest\n",
    "            print(f'Number of original Tweets got so far:{len(tweets_df)}')\n",
    "        tweets_df['hashtags'] = [d.get('hasthags') for d in tweets_df.entities]\n",
    "        tweets_df['user_mentions'] = [d.get('user_mentions') for d in tweets_df.entities]\n",
    "        tweets_df['followers_count'] = [d.followers_count for d in tweets_df.user]\n",
    "        tweets_df.drop(['user','entities'], axis=1, inplace=True)\n",
    "        return tweets_df"
   ]
  },
  {
   "cell_type": "code",
   "execution_count": 263,
   "metadata": {},
   "outputs": [
    {
     "name": "stdout",
     "output_type": "stream",
     "text": [
      "get_tweets V.0.1 \n",
      "Imported tweepy,pandas packages\n"
     ]
    }
   ],
   "source": [
    "ins = get_tweets()"
   ]
  },
  {
   "cell_type": "code",
   "execution_count": 264,
   "metadata": {},
   "outputs": [],
   "source": [
    "ins.connect('9fNwXla6gTMXBlL7P5LCbyKhU',\n",
    "            '03rznfCOH4twqCkc7tZHeIXikZ4D1sY6rH3j3Fw3nESYDxHmrb',\n",
    "            '977303768558718978-rXF69Ll2f6pLwHBDMg25K3yO4H8G79T',\n",
    "            'UbbdQWpbBzLjOb0Z4Ef7trJG7SVXwDmYxYTRvbjSm780q')"
   ]
  },
  {
   "cell_type": "code",
   "execution_count": 266,
   "metadata": {},
   "outputs": [
    {
     "name": "stdout",
     "output_type": "stream",
     "text": [
      "1205492350094630914\n",
      "1205489214546235393\n",
      "1205485784968630272\n",
      "1205483006405808128\n",
      "1205470941393936384\n",
      "1205468357610409984\n",
      "1205459180229935109\n",
      "1205458677681008640\n",
      "1205457765961011201\n",
      "1205455803378999297\n",
      "1205455275953729536\n",
      "1205368801438707713\n",
      "1205341246937600000\n",
      "1205338851797024770\n",
      "1205338632573333505\n",
      "1205338255832555520\n",
      "1205334980055961600\n",
      "1205320725692919808\n",
      "1205320724799508480\n",
      "1205320724031954944\n"
     ]
    }
   ],
   "source": [
    "trump=ins.get_original_tweets(25073877)"
   ]
  },
  {
   "cell_type": "code",
   "execution_count": null,
   "metadata": {},
   "outputs": [],
   "source": []
  },
  {
   "cell_type": "code",
   "execution_count": null,
   "metadata": {},
   "outputs": [],
   "source": []
  },
  {
   "cell_type": "code",
   "execution_count": 252,
   "metadata": {
    "scrolled": true
   },
   "outputs": [],
   "source": [
    "trump.sort_values('created_at',inplace=True)"
   ]
  },
  {
   "cell_type": "code",
   "execution_count": null,
   "metadata": {},
   "outputs": [],
   "source": []
  },
  {
   "cell_type": "code",
   "execution_count": null,
   "metadata": {},
   "outputs": [],
   "source": []
  }
 ],
 "metadata": {
  "kernelspec": {
   "display_name": "Python 3",
   "language": "python",
   "name": "python3"
  },
  "language_info": {
   "codemirror_mode": {
    "name": "ipython",
    "version": 3
   },
   "file_extension": ".py",
   "mimetype": "text/x-python",
   "name": "python",
   "nbconvert_exporter": "python",
   "pygments_lexer": "ipython3",
   "version": "3.7.1"
  }
 },
 "nbformat": 4,
 "nbformat_minor": 2
}
